{
 "cells": [
  {
   "cell_type": "markdown",
   "metadata": {},
   "source": [
    "# Ejemplo practico energia solar termica para suministro de ACS para vivienda unifamiliar\n",
    "\n",
    "Se quiere desarrollar un proyecto de instalación solar térmica de baja temperatura para suministro de agua caliente sanitaria (ACS) en una vivienda unifamiliar de tres dormitorios, de nueva construcción. La vivienda está situada en Alcalá de Henares (Madrid).\n",
    "\n",
    "\n",
    "La instalación está compuesta por el sistema de captación solar, con captador solar plano, situado en el tejado del edificio y un sistema de intercambio y acumulación conjunto (interacumulador) y centralizado, único en la vivienda. El sistema de aporte de energía convencional auxiliar es de gas natural.\n",
    "\n",
    "Los datos del proyecto son los siguientes:\n",
    "\n",
    "* Localidad: Alcalá de Henares (Madrid).\n",
    "* Latitud: 40,5 N.\n",
    "* Tipo de edificio: Vivienda unifamiliar.\n",
    "* Tipo de integración de captadores: integración arquitectónica.\n",
    "* Sistema de energía auxiliar: gas natural.\n",
    "* Orientación de campo de captadores: sur.\n",
    "* Inclinación de campo de captadores: 35°.\n",
    "* Condiciones del entorno: sin sombras posibles."
   ]
  },
  {
   "cell_type": "markdown",
   "metadata": {},
   "source": [
    "El esquema del sistema de suministro de ACS se ilustra en la siguiente figura:\n",
    "\n",
    "![Esquema_ACS_unifam](Esquema-solartermica-unifamiliar.png)"
   ]
  },
  {
   "cell_type": "markdown",
   "metadata": {},
   "source": [
    "Para comenzar, se enumerarán los puntos que como justificación del cumplimiento de la exigencia el CTE DB-HE 4 2013 indica que deben constar en el proyecto, para a continuación ir dando respuesta a cada uno de ellos:\n",
    "\n",
    "1. Zona climática.\n",
    "2. Demanda anual de ACS.\n",
    "3. Contribución solar mínima exigida.\n",
    "4. Características y dimensionado de la instalación solar térmica.\n",
    "5. Contribución solar anual alcanzada.\n",
    "6. Plan de vigilancia y plan de mantenimiento."
   ]
  },
  {
   "cell_type": "markdown",
   "metadata": {},
   "source": [
    "## 1. Zona Climática\n",
    "\n",
    "Para resolver este punto observamos el mapa de zonas climáticas de España a continuación:\n",
    "\n",
    "![Zonas_climaticas_España](Zonas-climaticas-ESP.jpg)\n",
    "\n",
    "Alcalá de Henares se encuentra muy próximo a Madrid. La zona climática que le corresponde es la IV, la cual cuenta con una buena radiación solar, no tan buena como la zona V (sur de España y Canarias) pero mucho mejor que la I (norte de España)."
   ]
  },
  {
   "cell_type": "markdown",
   "metadata": {},
   "source": [
    "## 2. Demanda Anual de Agua Caliente Sanitaria (ACS)\n",
    "\n",
    "Para una vivienda unifamiliar de tres habitaciones se considera que el número de habitantes es cuatro (4). La tabla de referencia de demanda de ACS diaria del según el CTE DB-HE4 2013 nos da una idea de cuantos litros de agua caliente demanda una persona según el tipo de inmueble.\n",
    "![Tabla-demanda-ACS-dia](Tabla-demanda-ACS-dia.jpg)\n",
    "\n",
    "En base a esta tabla tenemos que una persona en una vivienda familiar consume 28 litros de agua caliente por día."
   ]
  },
  {
   "cell_type": "code",
   "execution_count": 1,
   "metadata": {},
   "outputs": [
    {
     "name": "stdout",
     "output_type": "stream",
     "text": [
      "La vivienda requiere 112 litros de ACS diariamente\n"
     ]
    }
   ],
   "source": [
    "Consumo_diario = 28 * 4\n",
    "print(\"La vivienda requiere {} litros de ACS diariamente\".format(Consumo_diario))"
   ]
  },
  {
   "cell_type": "markdown",
   "metadata": {},
   "source": [
    "En total, la vivienda unifamiliar de cuatro personas demandará por día 112 litros o 0,112 m3 de ACS "
   ]
  },
  {
   "cell_type": "markdown",
   "metadata": {},
   "source": [
    "La demanda anual la obtenemos multiplicando la demanda diaria por los 365 días que contiene un año:"
   ]
  },
  {
   "cell_type": "code",
   "execution_count": 2,
   "metadata": {},
   "outputs": [
    {
     "name": "stdout",
     "output_type": "stream",
     "text": [
      "La demanda anual de ACS de la vivienda unifamiliar es 40.88 m3\n"
     ]
    }
   ],
   "source": [
    "Dem_ACS_anual = Consumo_diario * 365 / 1000 #Convertido a m3 dividiendo litros/1000\n",
    "print(\"La demanda anual de ACS de la vivienda unifamiliar es {:.2f} m3\".format(Dem_ACS_anual))"
   ]
  },
  {
   "cell_type": "markdown",
   "metadata": {},
   "source": [
    "## 3. Contribución solar mínima exigida\n",
    "\n",
    "De acuerdo al CTE, la contribución solar mínima exigida para suministrar ACS en un edificio depende de la zona climática donde se encuentre y de la demanda diaria, como se resume en la siguiente tabla:\n",
    "\n",
    "![contribucion-solar-minima-ACS](contribucion-solar-minima-ACS.jpg)\n",
    "\n",
    "Dado que esta vivienda se encuentra en la zona climática IV y que la demanda diaria de ACS es de 112 litros, mucho menos de 5 mil litros, la contribución solar mínima es 50% de la demanda energética (DE) total. Para cuantificar en nuestro caso la contribución solar de energía necesaria debemos estimar la demanda energética total. Dicha demanda es afectada por la temperatura de agua de red, que mes a mes varía, así como la cantidad de días de cada mes. Por lo tanto, la demanda energética hay que calcularla por mes\n",
    "\n",
    "La demanda energética mensual para un mes *i* viene dada por la siguiente fórmula:\n",
    "\n",
    "$ DE_{mes,i} = D_{dia}.N_{días,i}.C_p.\\rho.(T_{ACS}-T_{red,i}) $\n",
    "\n",
    "Donde:\n",
    "* $D_{dia}$: Demanda diaria de ACS ($m^3$)\n",
    "* $N_{días,i}$: Número de días del mes *i*\n",
    "* $C_p$: Calor específico del agua (1 Kcal/Kg.°C)\n",
    "* $\\rho$: Densidad del agua, típicamente 1.000 Kg/$m^3$\n",
    "* $T_{ACS}$: Temperatura de agua caliente, 60 °C\n",
    "* $T_{red,i}$: Temperatura promedio de agua de red en el mes *i*"
   ]
  },
  {
   "cell_type": "markdown",
   "metadata": {},
   "source": [
    "La Demanda energética obtenida de la anterior ecuación viene expresada en Kcal, para transformarla a KWh es neceario escarlarla por $1,16.10^{-3} KWh/Kcal$"
   ]
  },
  {
   "cell_type": "markdown",
   "metadata": {},
   "source": [
    "La siguiente tabla nos ilustra las temperaturas de agua de red mensuales, $T_{red}$, para cada capital provincial de España.\n",
    "\n",
    "![Temperaturas-agua_red-Esp-mes](Temperaturas-agua_red-Esp-mes.png)\n",
    "\n",
    "Alcalá de Henares está muy próxima a Madrid, pero a una elevación de 594 m.s.n.m., 61 metros más bajo que Madrid. Bien pudiéramos despreciar el efecto de esa pequeña diferencia de altitud, pero podemos aplicar la fórmula de ajuste de temperaturas de la guía ASIT en función de la diferencia de altitud con respecto a una referencia cercana conocida y el mes de año:\n",
    "\n",
    "$T_{red,i} = T_{redCP,i} - B.\\Delta Z$\n",
    "\n",
    "Donde:\n",
    "\n",
    "* $T_{redCP,i}$: Temperatura por mes de agua de red de la capital provincial, valor conocido\n",
    "* B: Constante equivalente a 0,0066 para los meses de octubre a marzo y 0,0033 para los meses de abril a septiembre.\n",
    "* $\\Delta Z$: Diferencia de altura entre la nueva localidad y la capital provincial."
   ]
  },
  {
   "cell_type": "markdown",
   "metadata": {},
   "source": [
    "Procedemos a calcular la temperatura de agua de red aproximada para Alcalá de Henares tomando en cuenta su diferencia de altitud con respecto a Madrid y la constante B para los distintos meses del año:"
   ]
  },
  {
   "cell_type": "code",
   "execution_count": 4,
   "metadata": {},
   "outputs": [
    {
     "data": {
      "text/plain": [
       "[8.4, 8.4, 10.4, 12.2, 14.2, 17.2, 20.2, 19.2, 17.2, 13.4, 10.4, 8.4]"
      ]
     },
     "execution_count": 4,
     "metadata": {},
     "output_type": "execute_result"
    }
   ],
   "source": [
    "meses = ['ENE','FEB','MAR','ABR','MAY','JUN','JUL','AGO','SEP','OCT','NOV','DIC']\n",
    "dias = [31,28,31,30,31,30,31,31,30,31,30,31]\n",
    "Tred_MAD = [8,8,10,12,14,17,20,19,17,13,10,8]\n",
    "DZ = 594 - 655\n",
    "Tred = []\n",
    "for i in range(12):\n",
    "    if i in [0,1,2,9,10,11]: #En Python el primer indice es 0, correspondiente a enero, dic. es 11\n",
    "        Tred.append(round(Tred_MAD[i] - 0.0066*DZ, 1))\n",
    "    else:\n",
    "        Tred.append(round(Tred_MAD[i] - 0.0033*DZ, 1))\n",
    "Tred"
   ]
  },
  {
   "cell_type": "markdown",
   "metadata": {},
   "source": [
    "Una vez tenemos conocida la temperatura de red local, calculamos la demanda energética requerida para calentar el ACS a 60°C."
   ]
  },
  {
   "cell_type": "code",
   "execution_count": 6,
   "metadata": {},
   "outputs": [
    {
     "data": {
      "text/plain": [
       "[207.82,\n",
       " 187.71,\n",
       " 199.76,\n",
       " 186.31,\n",
       " 184.46,\n",
       " 166.82,\n",
       " 160.3,\n",
       " 164.32,\n",
       " 166.82,\n",
       " 187.68,\n",
       " 193.32,\n",
       " 207.82]"
      ]
     },
     "execution_count": 6,
     "metadata": {},
     "output_type": "execute_result"
    }
   ],
   "source": [
    "DE_mes = []\n",
    "for i in range(12):\n",
    "    DE_mes.append(round(0.00116*(Consumo_diario/1000)*dias[i]*1*1000*(60-Tred[i]), 2))\n",
    "DE_mes"
   ]
  },
  {
   "cell_type": "markdown",
   "metadata": {},
   "source": [
    "Para facilitar nuestra lectura y almacenamiento de la información, la cargamos a una tabla Pandas:"
   ]
  },
  {
   "cell_type": "code",
   "execution_count": 5,
   "metadata": {},
   "outputs": [],
   "source": [
    "import pandas as pd"
   ]
  },
  {
   "cell_type": "code",
   "execution_count": 7,
   "metadata": {},
   "outputs": [
    {
     "data": {
      "text/html": [
       "<div>\n",
       "<style scoped>\n",
       "    .dataframe tbody tr th:only-of-type {\n",
       "        vertical-align: middle;\n",
       "    }\n",
       "\n",
       "    .dataframe tbody tr th {\n",
       "        vertical-align: top;\n",
       "    }\n",
       "\n",
       "    .dataframe thead th {\n",
       "        text-align: right;\n",
       "    }\n",
       "</style>\n",
       "<table border=\"1\" class=\"dataframe\">\n",
       "  <thead>\n",
       "    <tr style=\"text-align: right;\">\n",
       "      <th></th>\n",
       "      <th>MES</th>\n",
       "      <th>DIAS</th>\n",
       "      <th>T_red</th>\n",
       "      <th>DE_mes</th>\n",
       "    </tr>\n",
       "  </thead>\n",
       "  <tbody>\n",
       "    <tr>\n",
       "      <th>0</th>\n",
       "      <td>ENE</td>\n",
       "      <td>31</td>\n",
       "      <td>8.4</td>\n",
       "      <td>207.82</td>\n",
       "    </tr>\n",
       "    <tr>\n",
       "      <th>1</th>\n",
       "      <td>FEB</td>\n",
       "      <td>28</td>\n",
       "      <td>8.4</td>\n",
       "      <td>187.71</td>\n",
       "    </tr>\n",
       "    <tr>\n",
       "      <th>2</th>\n",
       "      <td>MAR</td>\n",
       "      <td>31</td>\n",
       "      <td>10.4</td>\n",
       "      <td>199.76</td>\n",
       "    </tr>\n",
       "    <tr>\n",
       "      <th>3</th>\n",
       "      <td>ABR</td>\n",
       "      <td>30</td>\n",
       "      <td>12.2</td>\n",
       "      <td>186.31</td>\n",
       "    </tr>\n",
       "    <tr>\n",
       "      <th>4</th>\n",
       "      <td>MAY</td>\n",
       "      <td>31</td>\n",
       "      <td>14.2</td>\n",
       "      <td>184.46</td>\n",
       "    </tr>\n",
       "    <tr>\n",
       "      <th>5</th>\n",
       "      <td>JUN</td>\n",
       "      <td>30</td>\n",
       "      <td>17.2</td>\n",
       "      <td>166.82</td>\n",
       "    </tr>\n",
       "    <tr>\n",
       "      <th>6</th>\n",
       "      <td>JUL</td>\n",
       "      <td>31</td>\n",
       "      <td>20.2</td>\n",
       "      <td>160.30</td>\n",
       "    </tr>\n",
       "    <tr>\n",
       "      <th>7</th>\n",
       "      <td>AGO</td>\n",
       "      <td>31</td>\n",
       "      <td>19.2</td>\n",
       "      <td>164.32</td>\n",
       "    </tr>\n",
       "    <tr>\n",
       "      <th>8</th>\n",
       "      <td>SEP</td>\n",
       "      <td>30</td>\n",
       "      <td>17.2</td>\n",
       "      <td>166.82</td>\n",
       "    </tr>\n",
       "    <tr>\n",
       "      <th>9</th>\n",
       "      <td>OCT</td>\n",
       "      <td>31</td>\n",
       "      <td>13.4</td>\n",
       "      <td>187.68</td>\n",
       "    </tr>\n",
       "    <tr>\n",
       "      <th>10</th>\n",
       "      <td>NOV</td>\n",
       "      <td>30</td>\n",
       "      <td>10.4</td>\n",
       "      <td>193.32</td>\n",
       "    </tr>\n",
       "    <tr>\n",
       "      <th>11</th>\n",
       "      <td>DIC</td>\n",
       "      <td>31</td>\n",
       "      <td>8.4</td>\n",
       "      <td>207.82</td>\n",
       "    </tr>\n",
       "  </tbody>\n",
       "</table>\n",
       "</div>"
      ],
      "text/plain": [
       "    MES  DIAS  T_red  DE_mes\n",
       "0   ENE    31    8.4  207.82\n",
       "1   FEB    28    8.4  187.71\n",
       "2   MAR    31   10.4  199.76\n",
       "3   ABR    30   12.2  186.31\n",
       "4   MAY    31   14.2  184.46\n",
       "5   JUN    30   17.2  166.82\n",
       "6   JUL    31   20.2  160.30\n",
       "7   AGO    31   19.2  164.32\n",
       "8   SEP    30   17.2  166.82\n",
       "9   OCT    31   13.4  187.68\n",
       "10  NOV    30   10.4  193.32\n",
       "11  DIC    31    8.4  207.82"
      ]
     },
     "execution_count": 7,
     "metadata": {},
     "output_type": "execute_result"
    }
   ],
   "source": [
    "df = pd.DataFrame(zip(meses,dias,Tred,DE_mes),columns=['MES','DIAS','T_red','DE_mes'])\n",
    "df.head(12)"
   ]
  },
  {
   "cell_type": "markdown",
   "metadata": {},
   "source": [
    "Como podemos observar, los meses de invierno son los que mayor demanda energética requieren para calentar el ACS. Julio, pleno verano, es el mes que menos energía demanda. La suma de las demandas mensuales nos da la demanda energética total en un año."
   ]
  },
  {
   "cell_type": "code",
   "execution_count": 8,
   "metadata": {},
   "outputs": [
    {
     "name": "stdout",
     "output_type": "stream",
     "text": [
      "Demanda energética anual: 2213.14 KWh\n",
      "Contribución solar mínima anual: 1106.57 KWh\n"
     ]
    }
   ],
   "source": [
    "DE_anual = sum(df['DE_mes'])\n",
    "print(\"Demanda energética anual: {} KWh\".format(DE_anual))\n",
    "Contrib_sol_min = 0.5 * DE_anual\n",
    "print(\"Contribución solar mínima anual: {} KWh\".format(Contrib_sol_min))"
   ]
  },
  {
   "cell_type": "markdown",
   "metadata": {},
   "source": [
    "Esta vivienda unifamiliar en Alcalá de Henares requiere 2.213,14 KWh para calnetar el agua caliente sanitaria durante un año. Dada la relativamente baja demanda diaria de ACS y la zona climática IV donde se ubica la edificación, la contribución solar mínima exigida tiene que ser el 50% de la demanda energética total en un año. Es decir que la contribución energética solar mínima deberá ser **1.106,6 KWh** por año."
   ]
  },
  {
   "cell_type": "markdown",
   "metadata": {},
   "source": [
    "## 4. Características y dimensionado de la instalación solar térmica.\n",
    "\n",
    "Debemos ahora calcular el número de captadores y el volumen de acumulador necesarios para cumplir los objetivos de generación.\n",
    "\n",
    "Un dato importante que necesitamos es la radiación solar que incide en la zona de interés. Además de esto importa la inclinación $\\beta$ de los captadores. La radiación solar resultante viene dada por la siguiente ecuación:\n",
    "\n",
    "$G_{di}(\\beta) = k. G_{di}(0)$\n",
    "\n",
    "$G_{di}(0)$ es la radiación horizontal (cero grados de inclinación) promedio mensual que se presenta en la localidad de interés. Dada la gran cercanía con Madrid, los datos conocidos para la capital española son aplicables para Alcalá de Henares.\n",
    "\n",
    "Estos valores, KWh/m2, los almacenamos en la siguiente lista:"
   ]
  },
  {
   "cell_type": "code",
   "execution_count": 13,
   "metadata": {},
   "outputs": [],
   "source": [
    "Gdi_MAD = [1.86,2.94,3.78,5.22,5.81,6.53,7.22,6.42,4.69,3.17,2.08,1.64]"
   ]
  },
  {
   "cell_type": "markdown",
   "metadata": {},
   "source": [
    "El factor k de corrección por mes lo podemos descargar de la tabla de factores k elaborada por Censolar para distntas inclinaciones a una latitud de 40°N:\n",
    "![factorK-correc-radiac-sol-Censolar](factorK-correc-radiac-sol-Censolar.jpg)\n",
    "\n",
    "Los factores k que nos corresponden, latitud 40 e inclinación 35, son:"
   ]
  },
  {
   "cell_type": "code",
   "execution_count": 11,
   "metadata": {},
   "outputs": [],
   "source": [
    "k_35 = [1.37,1.28,1.17,1.06,.98,.95,.98,1.07,1.21,1.37,1.47,1.45]"
   ]
  },
  {
   "cell_type": "markdown",
   "metadata": {},
   "source": [
    "Las radiaciones solares incidentes con páneles a 35 grados de inclinación mirando hacia el sur por mes, en KWh/m2 son: "
   ]
  },
  {
   "cell_type": "code",
   "execution_count": 14,
   "metadata": {},
   "outputs": [
    {
     "data": {
      "text/plain": [
       "[2.55, 3.76, 4.42, 5.53, 5.69, 6.2, 7.08, 6.87, 5.67, 4.34, 3.06, 2.38]"
      ]
     },
     "execution_count": 14,
     "metadata": {},
     "output_type": "execute_result"
    }
   ],
   "source": [
    "Gdi_35 = []\n",
    "for i in range(12):\n",
    "    Gdi_35.append(round(Gdi_MAD[i]*k_35[i], 2))\n",
    "Gdi_35"
   ]
  },
  {
   "cell_type": "markdown",
   "metadata": {},
   "source": [
    "La energía solar producida en un mes, $EI_{mes}$, por la radiación solar incidente a la inclinación determinada se obtiene multiplicando la radiación mensual promedio inclinada, $G_{di}(\\beta)$ por el número de días del mes.\n",
    "\n",
    "$EI_{mes} = G_{di}(\\beta).N_{días,mes}$"
   ]
  },
  {
   "cell_type": "code",
   "execution_count": 15,
   "metadata": {
    "scrolled": true
   },
   "outputs": [
    {
     "data": {
      "text/plain": [
       "[79.05,\n",
       " 105.28,\n",
       " 137.02,\n",
       " 165.9,\n",
       " 176.39,\n",
       " 186.0,\n",
       " 219.48,\n",
       " 212.97,\n",
       " 170.1,\n",
       " 134.54,\n",
       " 91.8,\n",
       " 73.78]"
      ]
     },
     "execution_count": 15,
     "metadata": {},
     "output_type": "execute_result"
    }
   ],
   "source": [
    "EI_mes = []\n",
    "for i in range(12):\n",
    "    EI_mes.append(round(Gdi_35[i]*dias[i], 2))\n",
    "EI_mes"
   ]
  },
  {
   "cell_type": "markdown",
   "metadata": {},
   "source": [
    "La estimación de número de captadores y volumen de acumulación lo estimamos aplicando el método *f-chart*, que permite calcular de manera empírica la fracción solar mensual o $f_{mes}$ en función de dos variables D1 y D2. \n",
    "\n",
    "$f_{mes} = 1,029.D_1 - 0,065.D_2 - 0,245.D_1^2 + 0,0018.D_2^2 + 0,0215.D_1^3$\n",
    "\n",
    "Para estimar estas variables vamos a necesitar unos datos del fabricante de los paneles:\n",
    "\n",
    "| Parámetro | Propiedad |\n",
    "| ---------------- | ----------------- |\n",
    "|Modelo de capador | Fargor Solaria 2.4|\n",
    "|Superficie apertura| 2,4 m2 |\n",
    "| Eficiencia óptica | 0,67 |\n",
    "| Coef. glob.perd. | 3,14 W/m2.°C |\n",
    "| MAI | 0,95 |\n",
    "| Fcint | 0,95 |\n",
    "\n",
    "$D_1$ representa la relación entre la energía absorbida y la demanda energética por mes.\n",
    "\n",
    "$D_1 = {E_{absor} \\over DE_{mes}} = {S_C.\\eta_0.MAI.F_{CInt}.G_{dm}.N_{dias} \\over DE_{mes}}$\n",
    "\n",
    "$S_C$ corresponde a la superficie del captador, 2,4 m2 en este caso; $\\eta_0$ es la eficiencia óptica de 0,67; el modificador de ángulo de incidencia (MAI) es 0,95; $F_{CInt}$ el factor de corrección del conjunto captador-intercambiador; $G_{dm}$ la irradiación solar diaria promedio para ese mes y $N_{dias}$ el número de días del mes."
   ]
  },
  {
   "cell_type": "code",
   "execution_count": 16,
   "metadata": {},
   "outputs": [
    {
     "data": {
      "text/plain": [
       "[0.55, 0.81, 1.0, 1.29, 1.39, 1.62, 1.99, 1.88, 1.48, 1.04, 0.69, 0.52]"
      ]
     },
     "execution_count": 16,
     "metadata": {},
     "output_type": "execute_result"
    }
   ],
   "source": [
    "D1_mes = []\n",
    "for i in range(12):\n",
    "    D1_mes.append(round(2.4*0.67*0.95*0.95*Gdi_35[i]*dias[i]/DE_mes[i], 2))\n",
    "D1_mes"
   ]
  },
  {
   "cell_type": "markdown",
   "metadata": {},
   "source": [
    "D2 representa las pérdidas del captador con respecto a la demanda mensual. Viene dado por la siguiente ecuación:\n",
    "\n",
    "$D_2 = {E_{perd} \\over DE_{mes}} = {S_C.K_{global}.F_{CInt}.(100 - T_{amb}).FC_{acum}.FC_{ACS}.24.N_{dias} \\over DE_{mes}}$\n",
    "\n",
    "$K_{global}$ es el coeficiente global de pérdida, dato que provee el fabricante de los paneles. $T_{amb}$ corresponde a la temperatura ambiente promedio mensual de la localidad de estudio, información disponible enn portales meteorológicos. Tenemos las siguientes temperaturas promedio de Alcalá de Henares:"
   ]
  },
  {
   "cell_type": "code",
   "execution_count": 17,
   "metadata": {},
   "outputs": [],
   "source": [
    "Tamb_mes = [6,8,11,13,18,23,28,26,21,15,11,7]"
   ]
  },
  {
   "cell_type": "markdown",
   "metadata": {},
   "source": [
    "Con respecto al factor de corrección del acumulador, $FC_{acum}$, tenemos una fórmula empírica que lo relaciona con el volumen del acumulador solar $V_{acum}$:\n",
    "\n",
    "$FC_{acum} = ({{V_{acum} / S_C} \\over {75 l/m^2}})^{-1/4}$\n",
    "\n",
    "A su vez, la proporción entre el volumen del acumulador y la superficie del captador debe estar entre 50 y 180 litros por m2.\n",
    "\n",
    "$50 l/m^2 < \\frac {V_{acum}} {S_C} < 180 l/m^2$"
   ]
  },
  {
   "cell_type": "code",
   "execution_count": 18,
   "metadata": {},
   "outputs": [],
   "source": [
    "import math"
   ]
  },
  {
   "cell_type": "code",
   "execution_count": 20,
   "metadata": {},
   "outputs": [
    {
     "name": "stdout",
     "output_type": "stream",
     "text": [
      "Factor de correccion del acumulador entre 0.8 y 1.11\n"
     ]
    }
   ],
   "source": [
    "Facum_min = round(math.pow(180/75,-0.25), 2)\n",
    "Facum_max = round(math.pow(50/75,-0.25), 2)\n",
    "print(\"Factor de correccion del acumulador entre {} y {}\".format(Facum_min, Facum_max))"
   ]
  },
  {
   "cell_type": "markdown",
   "metadata": {},
   "source": [
    "Tenemos que el factor de corrección del acumulador está entre valores de 0,8 y 1,11. En paralelo, si despejamos la fórmula de $\\frac {V_{acum}} {S_C}$ limitada por los valores de 50 y 180 l/m2 podemos obtener un rango de volumenes de acumulador:"
   ]
  },
  {
   "cell_type": "code",
   "execution_count": 22,
   "metadata": {
    "scrolled": true
   },
   "outputs": [
    {
     "name": "stdout",
     "output_type": "stream",
     "text": [
      "Volumen de acumulador sugerido entre 120.0 y 432.0 litros\n"
     ]
    }
   ],
   "source": [
    "Vacum_max = 180* 2.4\n",
    "Vacum_min = 50* 2.4\n",
    "print(\"Volumen de acumulador sugerido entre {} y {} litros\".format(Vacum_min, Vacum_max))"
   ]
  },
  {
   "cell_type": "markdown",
   "metadata": {},
   "source": [
    "Al principio de este caso determinamos que el consumo diario de ACS es de 112 litros. El pliego de condiciones técnicas del IDAE recomienda que el volumen de acumulación sea aproximado al del consumo diario. Por lo tanto, nos decidimos como volumen de acumulación $V_{acum}$ **120 litros o 0,12 m3**. En consecuencia, $F_{acum}$ a considerar será el máximo, de 1,11."
   ]
  },
  {
   "cell_type": "markdown",
   "metadata": {},
   "source": [
    "$FC_{ACS}$ es el factor de corrección que relaciona la temperatura mínima de agua caliente, 60°C en nuestro caso, la del agua de red y la ambiente. Se calcula de la siguiente manera, siendo variable por cada mes:\n",
    "\n",
    "$FC_{ACS} = {11,6 + 1,18.T_{ACSmin} + 3,86.T_{red} - 2,32.T_{amb} \\over 100 - T_{amb}}$"
   ]
  },
  {
   "cell_type": "code",
   "execution_count": 23,
   "metadata": {},
   "outputs": [
    {
     "data": {
      "text/plain": [
       "[1.07, 1.05, 1.09, 1.14, 1.16, 1.24, 1.33, 1.3, 1.27, 1.17, 1.09, 1.06]"
      ]
     },
     "execution_count": 23,
     "metadata": {},
     "output_type": "execute_result"
    }
   ],
   "source": [
    "F_ACS = []\n",
    "for i in range(12):\n",
    "    F_ACS.append(round((11.6+1.18*60+3.86*Tred[i]-2.32*Tamb_mes[i])/(100-Tamb_mes[i]), 2)) \n",
    "F_ACS"
   ]
  },
  {
   "cell_type": "markdown",
   "metadata": {},
   "source": [
    "Ya contamos con todas las variables que nos permitan estimar D2 para cada mes. Importante asegurarse de que el coeficiente de pérdida $K_{global}$ y la demanda energética DE estén en la misma escala, en W o KWh:"
   ]
  },
  {
   "cell_type": "code",
   "execution_count": 25,
   "metadata": {},
   "outputs": [
    {
     "data": {
      "text/plain": [
       "[2.86, 2.75, 2.87, 3.05, 3.05, 3.27, 3.53, 3.46, 3.44, 3.13, 2.87, 2.8]"
      ]
     },
     "execution_count": 25,
     "metadata": {},
     "output_type": "execute_result"
    }
   ],
   "source": [
    "D2_mes = []\n",
    "for i in range(12):\n",
    "    D2_mes.append(round(2.4*3.14*0.95*(100-Tamb_mes[i])*Facum_max*F_ACS[i]*24*dias[i]/(DE_mes[i]*1000), 2))\n",
    "D2_mes"
   ]
  },
  {
   "cell_type": "markdown",
   "metadata": {},
   "source": [
    "Con estos datos ya podemos calcular la fracción solar mensual del método *f-chart*:"
   ]
  },
  {
   "cell_type": "code",
   "execution_count": 26,
   "metadata": {},
   "outputs": [
    {
     "data": {
      "text/plain": [
       "[0.3242,\n",
       " 0.519,\n",
       " 0.6338,\n",
       " 0.7844,\n",
       " 0.8332,\n",
       " 0.9221,\n",
       " 1.0399,\n",
       " 1.0081,\n",
       " 0.8537,\n",
       " 0.6435,\n",
       " 0.4287,\n",
       " 0.304]"
      ]
     },
     "execution_count": 26,
     "metadata": {},
     "output_type": "execute_result"
    }
   ],
   "source": [
    "f_mes = []\n",
    "for i in range(12):\n",
    "    f_mes.append(round(1.029*D1_mes[i]-0.065*D2_mes[i]-0.245*math.pow(D1_mes[i],2)+0.0018*math.pow(D2_mes[i],2)+0.0215*math.pow(D1_mes[i],3), 4))\n",
    "f_mes"
   ]
  },
  {
   "cell_type": "markdown",
   "metadata": {},
   "source": [
    "Una vez que conocemos la fracción de cada mes, podemos estimar la energía solar útil aportada al agua multiplicando dicha fracción por la correspondiente demanda energética de cada mes:\n",
    "\n",
    "$EU_{solar,mes} = f_{mes}.DE_{mes}$"
   ]
  },
  {
   "cell_type": "code",
   "execution_count": 32,
   "metadata": {},
   "outputs": [
    {
     "data": {
      "text/plain": [
       "[67.38,\n",
       " 97.42,\n",
       " 126.61,\n",
       " 146.14,\n",
       " 153.69,\n",
       " 153.82,\n",
       " 166.7,\n",
       " 165.65,\n",
       " 142.41,\n",
       " 120.77,\n",
       " 82.88,\n",
       " 63.18]"
      ]
     },
     "execution_count": 32,
     "metadata": {},
     "output_type": "execute_result"
    }
   ],
   "source": [
    "EU_solar = []\n",
    "for i in range(12):\n",
    "    EU_solar.append(round(f_mes[i]*DE_mes[i],2))\n",
    "EU_solar"
   ]
  },
  {
   "cell_type": "markdown",
   "metadata": {},
   "source": [
    "Vamos a estimar que porcentaje o fracción solar anual, *f* representa el total de la energía solar útil con respecto a la demanda energética anual:\n",
    "$f = \\frac {\\sum EU_{solar,mes}} {\\sum DE_{mes}}$ "
   ]
  },
  {
   "cell_type": "code",
   "execution_count": 33,
   "metadata": {},
   "outputs": [
    {
     "name": "stdout",
     "output_type": "stream",
     "text": [
      "Fracción de la demanda energética aportada por la energía solar: 67.2%\n"
     ]
    }
   ],
   "source": [
    "f = sum(EU_solar) / sum(DE_mes)\n",
    "print(\"Fracción de la demanda energética aportada por la energía solar: {:.1f}%\".format(f*100))"
   ]
  },
  {
   "cell_type": "markdown",
   "metadata": {},
   "source": [
    "Como resultado tenemos que un panel de la descripción técnica dada, en esta vivienda de 3 habitaciones ubicada en Alcalá de Henares es capaz de proveer un **67%** de la energía demandada para calentar 112 litros diarios de ACS, la cual es almacenada en un acumulador de 120 litros. Excedemos el mínimo que la energía solar debe suplir para esta vivienda unifamiliar. "
   ]
  },
  {
   "cell_type": "markdown",
   "metadata": {},
   "source": [
    "## 5. Contribución solar anual alcanzada"
   ]
  },
  {
   "cell_type": "code",
   "execution_count": 35,
   "metadata": {},
   "outputs": [
    {
     "name": "stdout",
     "output_type": "stream",
     "text": [
      "Contribución solar anual: 1487 KWh\n"
     ]
    }
   ],
   "source": [
    "print(\"Contribución solar anual: {} KWh\".format(round(sum(EU_solar)),2))"
   ]
  },
  {
   "cell_type": "markdown",
   "metadata": {},
   "source": [
    "Al cubrir el 67% de la demanda energética anual estamos contribuyendo con **1487 KWh al año**."
   ]
  },
  {
   "cell_type": "markdown",
   "metadata": {},
   "source": [
    "Podemos resumir en una tabla los parámetros obtenidos en este caso de estudio:"
   ]
  },
  {
   "cell_type": "code",
   "execution_count": 36,
   "metadata": {},
   "outputs": [
    {
     "data": {
      "text/html": [
       "<div>\n",
       "<style scoped>\n",
       "    .dataframe tbody tr th:only-of-type {\n",
       "        vertical-align: middle;\n",
       "    }\n",
       "\n",
       "    .dataframe tbody tr th {\n",
       "        vertical-align: top;\n",
       "    }\n",
       "\n",
       "    .dataframe thead th {\n",
       "        text-align: right;\n",
       "    }\n",
       "</style>\n",
       "<table border=\"1\" class=\"dataframe\">\n",
       "  <thead>\n",
       "    <tr style=\"text-align: right;\">\n",
       "      <th></th>\n",
       "      <th>MES</th>\n",
       "      <th>DIAS</th>\n",
       "      <th>T_RED</th>\n",
       "      <th>T_AMB</th>\n",
       "      <th>GDI_35</th>\n",
       "      <th>DE_MES</th>\n",
       "      <th>D1</th>\n",
       "      <th>D2</th>\n",
       "      <th>F_MES</th>\n",
       "      <th>EU_SOL</th>\n",
       "    </tr>\n",
       "  </thead>\n",
       "  <tbody>\n",
       "    <tr>\n",
       "      <th>0</th>\n",
       "      <td>ENE</td>\n",
       "      <td>31</td>\n",
       "      <td>8.4</td>\n",
       "      <td>6</td>\n",
       "      <td>2.55</td>\n",
       "      <td>207.82</td>\n",
       "      <td>0.55</td>\n",
       "      <td>2.86</td>\n",
       "      <td>0.3242</td>\n",
       "      <td>67.38</td>\n",
       "    </tr>\n",
       "    <tr>\n",
       "      <th>1</th>\n",
       "      <td>FEB</td>\n",
       "      <td>28</td>\n",
       "      <td>8.4</td>\n",
       "      <td>8</td>\n",
       "      <td>3.76</td>\n",
       "      <td>187.71</td>\n",
       "      <td>0.81</td>\n",
       "      <td>2.75</td>\n",
       "      <td>0.5190</td>\n",
       "      <td>97.42</td>\n",
       "    </tr>\n",
       "    <tr>\n",
       "      <th>2</th>\n",
       "      <td>MAR</td>\n",
       "      <td>31</td>\n",
       "      <td>10.4</td>\n",
       "      <td>11</td>\n",
       "      <td>4.42</td>\n",
       "      <td>199.76</td>\n",
       "      <td>1.00</td>\n",
       "      <td>2.87</td>\n",
       "      <td>0.6338</td>\n",
       "      <td>126.61</td>\n",
       "    </tr>\n",
       "    <tr>\n",
       "      <th>3</th>\n",
       "      <td>ABR</td>\n",
       "      <td>30</td>\n",
       "      <td>12.2</td>\n",
       "      <td>13</td>\n",
       "      <td>5.53</td>\n",
       "      <td>186.31</td>\n",
       "      <td>1.29</td>\n",
       "      <td>3.05</td>\n",
       "      <td>0.7844</td>\n",
       "      <td>146.14</td>\n",
       "    </tr>\n",
       "    <tr>\n",
       "      <th>4</th>\n",
       "      <td>MAY</td>\n",
       "      <td>31</td>\n",
       "      <td>14.2</td>\n",
       "      <td>18</td>\n",
       "      <td>5.69</td>\n",
       "      <td>184.46</td>\n",
       "      <td>1.39</td>\n",
       "      <td>3.05</td>\n",
       "      <td>0.8332</td>\n",
       "      <td>153.69</td>\n",
       "    </tr>\n",
       "    <tr>\n",
       "      <th>5</th>\n",
       "      <td>JUN</td>\n",
       "      <td>30</td>\n",
       "      <td>17.2</td>\n",
       "      <td>23</td>\n",
       "      <td>6.20</td>\n",
       "      <td>166.82</td>\n",
       "      <td>1.62</td>\n",
       "      <td>3.27</td>\n",
       "      <td>0.9221</td>\n",
       "      <td>153.82</td>\n",
       "    </tr>\n",
       "    <tr>\n",
       "      <th>6</th>\n",
       "      <td>JUL</td>\n",
       "      <td>31</td>\n",
       "      <td>20.2</td>\n",
       "      <td>28</td>\n",
       "      <td>7.08</td>\n",
       "      <td>160.30</td>\n",
       "      <td>1.99</td>\n",
       "      <td>3.53</td>\n",
       "      <td>1.0399</td>\n",
       "      <td>166.70</td>\n",
       "    </tr>\n",
       "    <tr>\n",
       "      <th>7</th>\n",
       "      <td>AGO</td>\n",
       "      <td>31</td>\n",
       "      <td>19.2</td>\n",
       "      <td>26</td>\n",
       "      <td>6.87</td>\n",
       "      <td>164.32</td>\n",
       "      <td>1.88</td>\n",
       "      <td>3.46</td>\n",
       "      <td>1.0081</td>\n",
       "      <td>165.65</td>\n",
       "    </tr>\n",
       "    <tr>\n",
       "      <th>8</th>\n",
       "      <td>SEP</td>\n",
       "      <td>30</td>\n",
       "      <td>17.2</td>\n",
       "      <td>21</td>\n",
       "      <td>5.67</td>\n",
       "      <td>166.82</td>\n",
       "      <td>1.48</td>\n",
       "      <td>3.44</td>\n",
       "      <td>0.8537</td>\n",
       "      <td>142.41</td>\n",
       "    </tr>\n",
       "    <tr>\n",
       "      <th>9</th>\n",
       "      <td>OCT</td>\n",
       "      <td>31</td>\n",
       "      <td>13.4</td>\n",
       "      <td>15</td>\n",
       "      <td>4.34</td>\n",
       "      <td>187.68</td>\n",
       "      <td>1.04</td>\n",
       "      <td>3.13</td>\n",
       "      <td>0.6435</td>\n",
       "      <td>120.77</td>\n",
       "    </tr>\n",
       "    <tr>\n",
       "      <th>10</th>\n",
       "      <td>NOV</td>\n",
       "      <td>30</td>\n",
       "      <td>10.4</td>\n",
       "      <td>11</td>\n",
       "      <td>3.06</td>\n",
       "      <td>193.32</td>\n",
       "      <td>0.69</td>\n",
       "      <td>2.87</td>\n",
       "      <td>0.4287</td>\n",
       "      <td>82.88</td>\n",
       "    </tr>\n",
       "    <tr>\n",
       "      <th>11</th>\n",
       "      <td>DIC</td>\n",
       "      <td>31</td>\n",
       "      <td>8.4</td>\n",
       "      <td>7</td>\n",
       "      <td>2.38</td>\n",
       "      <td>207.82</td>\n",
       "      <td>0.52</td>\n",
       "      <td>2.80</td>\n",
       "      <td>0.3040</td>\n",
       "      <td>63.18</td>\n",
       "    </tr>\n",
       "  </tbody>\n",
       "</table>\n",
       "</div>"
      ],
      "text/plain": [
       "    MES  DIAS  T_RED  T_AMB  GDI_35  DE_MES    D1    D2   F_MES  EU_SOL\n",
       "0   ENE    31    8.4      6    2.55  207.82  0.55  2.86  0.3242   67.38\n",
       "1   FEB    28    8.4      8    3.76  187.71  0.81  2.75  0.5190   97.42\n",
       "2   MAR    31   10.4     11    4.42  199.76  1.00  2.87  0.6338  126.61\n",
       "3   ABR    30   12.2     13    5.53  186.31  1.29  3.05  0.7844  146.14\n",
       "4   MAY    31   14.2     18    5.69  184.46  1.39  3.05  0.8332  153.69\n",
       "5   JUN    30   17.2     23    6.20  166.82  1.62  3.27  0.9221  153.82\n",
       "6   JUL    31   20.2     28    7.08  160.30  1.99  3.53  1.0399  166.70\n",
       "7   AGO    31   19.2     26    6.87  164.32  1.88  3.46  1.0081  165.65\n",
       "8   SEP    30   17.2     21    5.67  166.82  1.48  3.44  0.8537  142.41\n",
       "9   OCT    31   13.4     15    4.34  187.68  1.04  3.13  0.6435  120.77\n",
       "10  NOV    30   10.4     11    3.06  193.32  0.69  2.87  0.4287   82.88\n",
       "11  DIC    31    8.4      7    2.38  207.82  0.52  2.80  0.3040   63.18"
      ]
     },
     "execution_count": 36,
     "metadata": {},
     "output_type": "execute_result"
    }
   ],
   "source": [
    "columnas = ['MES','DIAS','T_RED','T_AMB','GDI_35','DE_MES','D1','D2','F_MES','EU_SOL']\n",
    "df2 = pd.DataFrame(zip(meses,dias,Tred,Tamb_mes,Gdi_35,DE_mes,D1_mes,D2_mes,f_mes,EU_solar),columns=columnas)\n",
    "df2.head(12)"
   ]
  },
  {
   "cell_type": "markdown",
   "metadata": {},
   "source": [
    "Lo que dictamina el CTE DB-HE-4 de 2013 con respecto a la protección contra los sobrecalentamientos es que en ningún mes la generación solar debe superar en un 10% a la demanda energética estimada y que dicha generación no puede superar la demanda en tres meses seguidos. En nuestro caso, en julio la generación supera 4% la demanda y en agosto lo hace en un 0,8%. Por lo tanto, estamos dentro de las normas.\n",
    "\n",
    "Antes de finalizar podemos calcular el rendimiento medio anual de la instalación, que resulta de sacar la proporción de la sumatoria anual de la energía solar útil entre el producto de la superficie de captación por la sumatoria anual de la energía incidente EI:\n",
    "\n",
    "$\\eta_{sistema} = {\\sum EU_{solar} \\over \\sum S_C.EI_{mes}}$"
   ]
  },
  {
   "cell_type": "code",
   "execution_count": 38,
   "metadata": {},
   "outputs": [
    {
     "name": "stdout",
     "output_type": "stream",
     "text": [
      "Rendimiento anual del sistema: 35.3%\n"
     ]
    }
   ],
   "source": [
    "print(\"Rendimiento anual del sistema: {:.1f}%\".format(100*sum(EU_solar)/(2.4*sum(EI_mes))))"
   ]
  },
  {
   "cell_type": "markdown",
   "metadata": {},
   "source": [
    "El rendimiento medio anual del sistema es de **35,3%**. Es un poco bajo con respecto a la norma CTE DB-HE 4 2006 que busca un rendimiento igual o superior al 40%."
   ]
  },
  {
   "cell_type": "markdown",
   "metadata": {},
   "source": [
    "## Plan de vigilancia y plan de mantenimiento\n",
    "\n",
    "Dependiendo de las instalaciones que haya que hacer en la vivienda para configurar este sistema de generación de ACS se tiene que adecuar un plan de vigilancia y mantenimiento siguiendo recomendaciones del CTE. Muchos de los componentes requieren revisión "
   ]
  }
 ],
 "metadata": {
  "kernelspec": {
   "display_name": "Python 3",
   "language": "python",
   "name": "python3"
  },
  "language_info": {
   "codemirror_mode": {
    "name": "ipython",
    "version": 3
   },
   "file_extension": ".py",
   "mimetype": "text/x-python",
   "name": "python",
   "nbconvert_exporter": "python",
   "pygments_lexer": "ipython3",
   "version": "3.8.3"
  }
 },
 "nbformat": 4,
 "nbformat_minor": 4
}
