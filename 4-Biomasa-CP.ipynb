{
 "cells": [
  {
   "cell_type": "markdown",
   "metadata": {},
   "source": [
    "## Biomasa: Caso Práctico\n",
    "\n",
    "En la localidad soriana de Lubia se encuentra una residencia de ancianos con un sistema térmico para alimentar de calefacción y agua caliente sanitaria a la misma. Puesto que el régimen térmico del lugar es frío, el coste de satisfacer dichas necesidades es elevado; por este motivo, la gerencia está analizando distintas opciones con la idea de rebajar el coste energético. Una de las posibles opciones es instalar un sistema alimentado con biomasa.\n",
    "\n",
    "Después del análisis de demanda energética, se determina que es preciso instalar un sistema con 250 kW de potencia. Dado que el almacenamiento de la biomasa requiere de volumen, se dispone de una zona contigua a la sala de calderas para realizar las funciones de depósito de combustible, cuya capacidad aproximada es de 25 m3.\n",
    "\n",
    "Sabiendo que el rendimiento de la transformación energética para la biomasa es del 91,5 %, y que funciona una media de 12 horas/día, se pide calcular:\n",
    "\n",
    "1. Consumo energético de biomasa.\n",
    "2. Energía diaria demandada por el sistema de biomasa a pleno funcionamiento.\n",
    "3. Consumo de biomasa diario.\n",
    "4. Volumen diario de biomasa consumida.\n",
    "5. Dado que la empresa proveedora de la biomasa tarda una media de diez días desde que recibe el pedido hasta que realiza el suministro, determina cada cuánto tiempo se debe realizar.\n",
    "\n",
    "*Nota: para la realización del ejercicio es necesario considerar un PCI de la biomasa de 4,8 kWh/Kg, y una densidad de 650 Kg/m3.*"
   ]
  },
  {
   "cell_type": "markdown",
   "metadata": {},
   "source": [
    "### 1- Consumo Energético de la Biomasa\n",
    "\n",
    "Comenzamos tomando en cuenta que, para este caso, el potencial calorífico inferior (PCI) de la biomasa considerada es de 4,8 KWh/Kg y que la densidad de dicha biomasa es de 650 Kg/m3. Con esta información podemos estimar el PCI con respecto a una unidad volumétrica, m3 en este caso:"
   ]
  },
  {
   "cell_type": "code",
   "execution_count": 1,
   "metadata": {},
   "outputs": [
    {
     "name": "stdout",
     "output_type": "stream",
     "text": [
      "PCI: 3120.00 KWh/m3\n"
     ]
    }
   ],
   "source": [
    "PCI_m = 4.8 # KWh/Kg\n",
    "den = 650 # Kg/m3\n",
    "PCI_v = PCI_m * den\n",
    "print(\"PCI: {:.2f} KWh/m3\".format(PCI_v))"
   ]
  },
  {
   "cell_type": "markdown",
   "metadata": {},
   "source": [
    "También tenemos el conocimiento de que el rendimiento de la transformación energética de la biomasa es de 91,5%. Es decir, 8,5% del potencial energético se consume en esta transformación. Por lo tanto, el consumo energético de la biomasa equivale al 8,5% de su PCI:"
   ]
  },
  {
   "cell_type": "code",
   "execution_count": 2,
   "metadata": {},
   "outputs": [
    {
     "name": "stdout",
     "output_type": "stream",
     "text": [
      "Energía consumida por biomasa: 265.20 KWh por m3\n"
     ]
    }
   ],
   "source": [
    "Rend_biom = 0.915\n",
    "Energ_Biom_v = PCI_v * Rend_biom\n",
    "Energ_cons_biom_v = PCI_v * (1 - Rend_biom)\n",
    "print(\"Energía consumida por biomasa: {:.2f} KWh por m3\".format(Energ_cons_biom_v))"
   ]
  },
  {
   "cell_type": "markdown",
   "metadata": {},
   "source": [
    "La biomasa empleada consume **265,2 KWh/m3** al llevarse a cabo su transformación energética. Empleando el PCI de masa hallamos de manera idéntica el consumo energético por unidad de masa:"
   ]
  },
  {
   "cell_type": "code",
   "execution_count": 5,
   "metadata": {},
   "outputs": [
    {
     "name": "stdout",
     "output_type": "stream",
     "text": [
      "Energía consumida por biomasa: 0.408 KWh por Kg\n"
     ]
    }
   ],
   "source": [
    "Energ_cons_biom_m = PCI_m * (1 - Rend_biom)\n",
    "print(\"Energía consumida por biomasa: {:.3f} KWh por Kg\".format(Energ_cons_biom_m))"
   ]
  },
  {
   "cell_type": "markdown",
   "metadata": {},
   "source": [
    "La biomasa consume **0,408 KWh/Kg** para llevar a cabo su transformación energética."
   ]
  },
  {
   "cell_type": "markdown",
   "metadata": {},
   "source": [
    "### 2- Energía Diaria Demandada\n",
    "\n",
    "Sabiendo que el sistema generador necesario para la residencia debe tener una potencia de 250 KW y que funcionará en promedio 12 horas por día, podemos inferir que la energía demandada resulta del producto de la potencia por las horas de funcionamiento diario:"
   ]
  },
  {
   "cell_type": "code",
   "execution_count": 6,
   "metadata": {},
   "outputs": [
    {
     "name": "stdout",
     "output_type": "stream",
     "text": [
      "Energia diaria: 3000 KWh\n"
     ]
    }
   ],
   "source": [
    "#Energía diaria:\n",
    "horas = 12\n",
    "Potencia = 250\n",
    "Energ_dia = Potencia * horas\n",
    "print(\"Energia diaria: {} KWh\".format(Energ_dia))"
   ]
  },
  {
   "cell_type": "markdown",
   "metadata": {},
   "source": [
    "Diariamente la energía demandada es de **3.000 KWh/día**."
   ]
  },
  {
   "cell_type": "markdown",
   "metadata": {},
   "source": [
    "### 3-\tConsumo de biomasa diario\n",
    "\n",
    "La energía útil de la biomasa por unidad de masa la obtenemos multiplicando el PCI (con respecto a su masa) por su rendimiento energético:"
   ]
  },
  {
   "cell_type": "code",
   "execution_count": 7,
   "metadata": {},
   "outputs": [
    {
     "name": "stdout",
     "output_type": "stream",
     "text": [
      "Energía de biomasa: 4.392 KWh/Kg\n"
     ]
    }
   ],
   "source": [
    "#Consumo diario biomasa\n",
    "Energ_Biom_m = PCI_m * Rend_biom\n",
    "print(\"Energía de biomasa: {:.3f} KWh/Kg\".format(Energ_Biom_m))"
   ]
  },
  {
   "cell_type": "markdown",
   "metadata": {},
   "source": [
    "Por cada kilogramo de biomasa se generan 4,392 KWh de energía. En el enunciado previo determinamos que la demanda diaria es de 3.000 KWh. Dividiendo la demanda de energía por la generación volumétrica podemos descubrir la cantidad de biomasa requerida para satisfacer la demanda diaria:"
   ]
  },
  {
   "cell_type": "code",
   "execution_count": 10,
   "metadata": {},
   "outputs": [
    {
     "name": "stdout",
     "output_type": "stream",
     "text": [
      "Cantidad de biomasa requerida para producir 3000 KWh diarios: 683.06 Kg\n"
     ]
    }
   ],
   "source": [
    "#Consumo masa diario de biomasa\n",
    "Masa_diario = Energ_dia / Energ_Biom_m\n",
    "print(\"Cantidad de biomasa requerida para producir {} KWh diarios: {:.2f} Kg\".format(Energ_dia, Masa_diario))"
   ]
  },
  {
   "cell_type": "markdown",
   "metadata": {},
   "source": [
    "Diariamente se consumen **683,06 kilogramos** para satisfacer la demanda energética."
   ]
  },
  {
   "cell_type": "markdown",
   "metadata": {},
   "source": [
    "### 4-\tVolumen diario de biomasa consumida\n",
    "\n",
    "La estimación del volumen diario de biomasa consumida se puede obtener de manera muy similar al enunciado anterior, pero sustituyendo el PCI de masa por el PCI volumétrico. Alternativamente, podemos dividir la cantidad de biomasa consumida, obtenida en el ejercicio anterior, por su densidad para llegar a la misma conclusión:"
   ]
  },
  {
   "cell_type": "code",
   "execution_count": 11,
   "metadata": {},
   "outputs": [
    {
     "name": "stdout",
     "output_type": "stream",
     "text": [
      "Volumen de biomasa requerido para producir 3000 KWh diarios: 1.051 m3\n"
     ]
    }
   ],
   "source": [
    "#Consumo volumétrico diario de biomasa\n",
    "Vol_diario = Energ_dia / Energ_Biom_v\n",
    "print(\"Volumen de biomasa requerido para producir {} KWh diarios: {:.3f} m3\".format(Energ_dia, Vol_diario))"
   ]
  },
  {
   "cell_type": "code",
   "execution_count": 12,
   "metadata": {},
   "outputs": [
    {
     "name": "stdout",
     "output_type": "stream",
     "text": [
      "Volumen de biomasa requerido para producir 3000 KWh diarios: 1.051 m3\n"
     ]
    }
   ],
   "source": [
    "Vol_diario = Masa_diario / den\n",
    "print(\"Volumen de biomasa requerido para producir {} KWh diarios: {:.3f} m3\".format(Energ_dia, Vol_diario))"
   ]
  },
  {
   "cell_type": "markdown",
   "metadata": {},
   "source": [
    "Diariamente se requieren **1,05 m3** de biomasa para cubrir la demanda energética."
   ]
  },
  {
   "cell_type": "markdown",
   "metadata": {},
   "source": [
    "### 5-\tAnticipación necesaria para el suministro de biomasa\n",
    "\n",
    "Se nos informa que el proveedor tarda diez días desde la recepción del pedido para suministrar la biomasa requerida. Por es necesario anticiparse con debido tiempo para evitar quedarse sin suministro energético. Como sabemos, el depósito de biomasa tiene una capacidad de 25 m3 y según nuestros cálculos, se consume 1,05 m3 de biomasa por día para cubrir la demanda energética. Al dividir la capacidad total entre el consumo diario descubrimos cuando tarda en vaciarse el depósito de biocombustible:"
   ]
  },
  {
   "cell_type": "code",
   "execution_count": 13,
   "metadata": {},
   "outputs": [
    {
     "name": "stdout",
     "output_type": "stream",
     "text": [
      "Dias para consumir 25 m3 de biomasa: 23.8 dias\n"
     ]
    }
   ],
   "source": [
    "Vol = 25 #m3\n",
    "Dias_consumo = Vol / Vol_diario\n",
    "print(\"Dias para consumir {} m3 de biomasa: {:.1f} dias\".format(Vol,Dias_consumo))"
   ]
  },
  {
   "cell_type": "markdown",
   "metadata": {},
   "source": [
    "El depósito tarda en vaciarse 23,8 días desde el momento en que se encuentra completamente lleno. Esto quiere decir que a más tardar en el **día 13 desde la última llenada** se debe solicitar el reabastecimiento de biomasa, para que llegue diez días después, justo cuando el depósito está a punto de vaciarse."
   ]
  },
  {
   "cell_type": "code",
   "execution_count": null,
   "metadata": {},
   "outputs": [],
   "source": []
  }
 ],
 "metadata": {
  "kernelspec": {
   "display_name": "Python 3",
   "language": "python",
   "name": "python3"
  },
  "language_info": {
   "codemirror_mode": {
    "name": "ipython",
    "version": 3
   },
   "file_extension": ".py",
   "mimetype": "text/x-python",
   "name": "python",
   "nbconvert_exporter": "python",
   "pygments_lexer": "ipython3",
   "version": "3.8.3"
  }
 },
 "nbformat": 4,
 "nbformat_minor": 4
}
