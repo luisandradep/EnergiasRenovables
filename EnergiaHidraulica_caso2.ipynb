{
 "cells": [
  {
   "cell_type": "markdown",
   "metadata": {},
   "source": [
    "## ENERGIA HIDRAULICA. CASO PRACTICO 2\n",
    "\n",
    "Se tiene una central a pie de presa con un embalse de 50 Hm3, localizada en un punto de un río de la\n",
    "cuenca norte de España. La superficie de la cuenca es de 200 km2, con una precipitación media de 1200\n",
    "mm y un coeficiente de escorrentía de 0,6.\n",
    "\n",
    "El salto medio a lo largo del año, considerando la carrera de embalse, es de 80 m. El salto neto de diseño\n",
    "es de 100 m.\n",
    "\n",
    "La aportación no aprovechada por vertidos es del 10 %, y se requieren aguas abajo un caudal ecológico\n",
    "de 1 m3/s. Este caudal puede ser aprovechado con un grupo ecológico.\n",
    "\n",
    "El rendimiento de las turbinas en ambas centrales es del 91 %, el del generador de 95 % y el del\n",
    "transformador de 99 %.\n",
    "\n",
    "El punto de entrega de la energía se encuentra a 5 km de distancia, por lo que es necesario construir una\n",
    "línea de media tensión que presenta unas pérdidas del 0,3 % por kilómetro de línea."
   ]
  },
  {
   "cell_type": "markdown",
   "metadata": {},
   "source": [
    "Se pide estimar:\n",
    "1. La potencia en el eje de la turbina, en los bornes del generador y en los del transformador.\n",
    "2. El porcentaje de aprovechamiento y caudal medio aprovechado, y también el número de grupos (turbina Francis) adecuados para la central a pie de presa.\n",
    "3. Las horas de funcionamiento a plena carga (suponiendo un salto medio y rendimientos constantes).\n",
    "4. La energía en el generador, el transformador y la energía entregada a la red.\n",
    "5. La potencia y producción del grupo ecológico."
   ]
  },
  {
   "cell_type": "markdown",
   "metadata": {},
   "source": [
    "### 1. Potencia en el eje de la turbina, en los bornes del generador y en los del transformador."
   ]
  },
  {
   "cell_type": "markdown",
   "metadata": {},
   "source": [
    "Recordamos que la ecuación de potencia viene dada por las siguientes variables:\n",
    "\n",
    "$$P = Q * g * \\rho * H_n * e$$\n",
    "\n",
    "Donde:  \n",
    "$P$: Potencia disponible, en vatios (W).  \n",
    "$Q$: Caudal en el sistema, en $m^3/s$.  \n",
    "$g$: Gravedad terrestre, asumimos el valor 9,81 $m/s^2$.  \n",
    "$\\rho$: Densidad de fluido, en $kg/m^3$. Asumimos para el agua 1000 $kg/m^3$.   \n",
    "$e$: Rendimiento del equipo. Si es global, es resultado del producto del rendimiento de cada componente ($\\eta$). Si es individual, equivale al $\\eta$ específico.  \n",
    "$H_n$: Salto neto, en m."
   ]
  },
  {
   "cell_type": "markdown",
   "metadata": {},
   "source": [
    "Para el caso de la potencia en la turbina, $P_t$, la ecuación previa resulta $P_t = Q * g * \\rho * H_n * \\eta_t$. Tenemos como datos que el salto neto de diseño, $H_n$ es de 100m y que el rendimiento de la turbina $\\eta_t$ es de 91%."
   ]
  },
  {
   "cell_type": "code",
   "execution_count": 1,
   "metadata": {},
   "outputs": [],
   "source": [
    "g = 9.81 # Gravedad terrestre, en m/s2\n",
    "den = 1000 # Densidad del agua, en Kg/m3\n",
    "Hn = 100 # Salto neto, en m\n",
    "eta_t = 0.91 # Rendimiento de turbina"
   ]
  },
  {
   "cell_type": "markdown",
   "metadata": {},
   "source": [
    "Nos falta conocer el caudal del sistema Q. Para las centrales a pie de presa se conoce que este valor está entre dos y dos veces y medio el caudal medio $Q = 2*Q_{med}$ ó $Q = 2,5*Q_{med}$"
   ]
  },
  {
   "cell_type": "markdown",
   "metadata": {},
   "source": [
    "El caudal medio se puede conocer conociendo el aporte de agua de la central en un año y transformándolo a la cantidad que fluye en un segundo. $Q_{med} = AporteCentral . \\frac{1 año} {365 días} . \\frac{1 día} {24 horas} . \\frac{1 hora} {3600 seg}$"
   ]
  },
  {
   "cell_type": "markdown",
   "metadata": {},
   "source": [
    "El aporte a la central lo conocemos como el producto de la superficie de aporte por la precipitación media por la escorrentía $AporteCentral = Superficie * PrecMedia * Escorr$"
   ]
  },
  {
   "cell_type": "code",
   "execution_count": 2,
   "metadata": {},
   "outputs": [],
   "source": [
    "Superf = 200 # Superficie de cuenca, en Km2\n",
    "Escorr = 0.6 # Escorrentía\n",
    "PrecMed = 1200 # Precipitación media, en mm o l/m2"
   ]
  },
  {
   "cell_type": "markdown",
   "metadata": {},
   "source": [
    "Dado que la precipitación media está expresada en litros por metro cuadrado (l/m2), para utilizarlo en el cálculo de aporte a la central vamos a llevarlo a metros cúbicos por kilómetro cuadrado (m3/Km2). Sabemos que 1 litro es 0,001 m3 y 1 m2 es 0,000001 Km2"
   ]
  },
  {
   "cell_type": "code",
   "execution_count": 3,
   "metadata": {},
   "outputs": [
    {
     "name": "stdout",
     "output_type": "stream",
     "text": [
      "Aporte a la central: 144000000.0 m3\n"
     ]
    }
   ],
   "source": [
    "PrecMed = PrecMed * 0.001 / 0.000001 # Conversión a m3/Km2\n",
    "\n",
    "Aporte = Superf * PrecMed * Escorr\n",
    "print(\"Aporte a la central:\",Aporte,\"m3\")"
   ]
  },
  {
   "cell_type": "markdown",
   "metadata": {},
   "source": [
    "Tenemos hasta ahora que el aporte de la cuenca a la central es de 144 millones de m3 o 144 Hm3. Con este dato ya podemos calcular el caudal medio de la cuenca"
   ]
  },
  {
   "cell_type": "code",
   "execution_count": 4,
   "metadata": {},
   "outputs": [
    {
     "name": "stdout",
     "output_type": "stream",
     "text": [
      "Caudal medio: 4.5662100456621 m3/s\n"
     ]
    }
   ],
   "source": [
    "Qmed = Aporte * (1/365) * (1/24) * (1/3600) # Caudal medio, en m3/s\n",
    "print(\"Caudal medio:\",Qmed,\"m3/s\")"
   ]
  },
  {
   "cell_type": "markdown",
   "metadata": {},
   "source": [
    "Como se comentó previamente, el caudal de equipamiento o sistema para este tipo de central a pie de presa es de dos a dos veces y medio el caudal medio de la cuenca. Nosotros optamos por el valor más conservador, es decir, dos veces el caudal medio."
   ]
  },
  {
   "cell_type": "code",
   "execution_count": 5,
   "metadata": {},
   "outputs": [
    {
     "name": "stdout",
     "output_type": "stream",
     "text": [
      "Caudal al sistema: 9.1324200913242 m3/s\n"
     ]
    }
   ],
   "source": [
    "Q = 2 * Qmed # Caudal de equipamiento o sistema\n",
    "print(\"Caudal al sistema:\",Q,\"m3/s\")"
   ]
  },
  {
   "cell_type": "markdown",
   "metadata": {},
   "source": [
    "En el escenario conservador escogido, el caudal que se introduce a nuestros equipos es de 9,13 m3/s. Con este dato ya podemos calcular las potencias que nos piden, empezando por la de la turbina, que ya introducimos previamente en esta sección"
   ]
  },
  {
   "cell_type": "code",
   "execution_count": 6,
   "metadata": {},
   "outputs": [
    {
     "name": "stdout",
     "output_type": "stream",
     "text": [
      "Potencia de turbina: 8152.602739726027 KW\n"
     ]
    }
   ],
   "source": [
    "Pt = Q * g * den * Hn * eta_t\n",
    "print(\"Potencia de turbina:\",Pt/1000,\"KW\")"
   ]
  },
  {
   "cell_type": "markdown",
   "metadata": {},
   "source": [
    "Tenemos que la potencia de nuestra turbina será de **8153 KW** o **8,15 MW**.\n",
    "\n",
    "Las potencias para el generador $P_g$ y el transformador $P_{tr}$ aplicamos la misma ecuación que aplicamos para la turbina, pero incorporando de manera acumulativa los coeficientes de rendimiento respectivos. La potencia derivada del caudal de agua pasa primero por la turbina, luego por el generador y posteriormente por el transformador. El rendimiento de cada paso previo afecta el posterior. Expresado en ecuación, lo explicado en este párrafo se traduce de la siguiente forma:\n",
    "\n",
    "$P_g = Q * g * \\rho * H_n * * \\eta_t* \\eta_g$ : Potencia del transformador, afectado por rendimiento de turbina  \n",
    "$P_{tr} = Q * g * \\rho * H_n * \\eta_t* \\eta_g * \\eta_{tr}$ : Potencia del transformador, afectado por rendimiento de turbina y generador\n",
    "\n",
    "Donde $\\eta_g$ y $\\eta_{tr}$ son los coeficientes de rendimiento del generador y transformador, respectivamente. Como se informó en el enunciado, el generador y el transformador rinden un 95% y 99%, respectivamente.  \n",
    "Dado que el transformador es la última etapa del sistema, la potencia del mismo es igual a la potencia de todo el sistema: $P_{tr} = P$ y por lo tanto $e = \\eta_t* \\eta_g * \\eta_{tr}$"
   ]
  },
  {
   "cell_type": "code",
   "execution_count": 7,
   "metadata": {},
   "outputs": [
    {
     "name": "stdout",
     "output_type": "stream",
     "text": [
      "Potencia de generador: 7744.9726027397255 KW\n",
      "Potencia de transformador: 7667.522876712328 KW\n"
     ]
    }
   ],
   "source": [
    "eta_g = 0.95 # Rendimiento de generador\n",
    "eta_tr = 0.99 # Rendimiento de transformador\n",
    "\n",
    "Pg = Q * g * den * Hn * eta_t * eta_g\n",
    "P = Q * g * den * Hn * eta_t * eta_g * eta_tr\n",
    "print(\"Potencia de generador:\",Pg/1000,\"KW\")\n",
    "print(\"Potencia de transformador:\",P/1000,\"KW\")"
   ]
  },
  {
   "cell_type": "markdown",
   "metadata": {},
   "source": [
    "Tenemos entonces que la potencia del generador es de **7.745 KW** o **7,75 MW**, mientras que la del transformador, que a su vez es la potencia de la central, viene siendo de **7668 KW** o **7,67 MW**."
   ]
  },
  {
   "cell_type": "markdown",
   "metadata": {},
   "source": [
    "### 2. Porcentaje de aprovechamiento, caudal medio aprovechado y número de grupos (turbina Francis) adecuados para la central a pie de presa."
   ]
  },
  {
   "cell_type": "markdown",
   "metadata": {},
   "source": [
    "Por un lado se nos dice que un 10% del aporte es desaprovechado en vertido"
   ]
  },
  {
   "cell_type": "code",
   "execution_count": 8,
   "metadata": {},
   "outputs": [
    {
     "name": "stdout",
     "output_type": "stream",
     "text": [
      "Aporte vertido 14400000.0 m3\n"
     ]
    }
   ],
   "source": [
    "Vertido = Aporte * 0.1\n",
    "print(\"Aporte vertido\",Vertido,\"m3\")"
   ]
  },
  {
   "cell_type": "markdown",
   "metadata": {},
   "source": [
    "Ese vertido desaprovechado equivale a 1,44 millones de m3 o 1,44 Hm3. Además se nos informa que un caudal de 1m3/s debe reservarse como caudal ecológico. Dicho caudal lo transformamos a aporte anual: $Aporte_{eco} = Q_{eco}. 3600 \\frac{seg} {hora} . 24 \\frac{horas} {día}. 365 \\frac{días} {año}$"
   ]
  },
  {
   "cell_type": "code",
   "execution_count": 9,
   "metadata": {},
   "outputs": [
    {
     "name": "stdout",
     "output_type": "stream",
     "text": [
      "Aporte ecológico 31536000 m3 al año\n"
     ]
    }
   ],
   "source": [
    "Qeco = 1 # Caudal ecológico, en m3/s\n",
    "AporteEco = Qeco * 3600 * 24 * 365 # Aporte ecológico en m3 al año\n",
    "print(\"Aporte ecológico\",AporteEco,\"m3 al año\")"
   ]
  },
  {
   "cell_type": "markdown",
   "metadata": {},
   "source": [
    "El total del aporte desaprocehado es la suma del vertido más el aporte ecológico. Conociendo esa cifra y deduciéndola del aporte total, se puede estimar el porcentaje realmente aprovechado:"
   ]
  },
  {
   "cell_type": "code",
   "execution_count": 10,
   "metadata": {},
   "outputs": [
    {
     "name": "stdout",
     "output_type": "stream",
     "text": [
      "Aporte real: 98064000.0 m3 al año, equivale a 68.10000000000001 % del total\n"
     ]
    }
   ],
   "source": [
    "Desaprovechado = Vertido + AporteEco\n",
    "Aporte_real = Aporte - Desaprovechado\n",
    "Porc_aprov = Aporte_real / Aporte\n",
    "print(\"Aporte real:\",Aporte_real,\"m3 al año, equivale a\",Porc_aprov*100,\"% del total\")"
   ]
  },
  {
   "cell_type": "markdown",
   "metadata": {},
   "source": [
    "Tenemos que de 1,44 Hm3 que se alimentan anualmente al sistema, sólo se aprovechan 0,98 Hm3, lo que equivale a **68,1%** del aporte anual."
   ]
  },
  {
   "cell_type": "markdown",
   "metadata": {},
   "source": [
    "Conociendo el aporte anual real al sistema, podemos calcular el caudal medio real $Q_r$ de la siguiente forma: $Q_r = Aporte_{real} . \\frac{1 año} {365 días} . \\frac{1 día} {24 horas} . \\frac{1 hora} {3600 seg}$"
   ]
  },
  {
   "cell_type": "code",
   "execution_count": 11,
   "metadata": {},
   "outputs": [
    {
     "name": "stdout",
     "output_type": "stream",
     "text": [
      "Caudal medio real al sistema: 3.1095890410958904 m3/s\n"
     ]
    }
   ],
   "source": [
    "Qr = Aporte_real * (1/365) * (1/24) * (1/3600) # Caudal medio real, en m3/s\n",
    "print(\"Caudal medio real al sistema:\",Qr,\"m3/s\")"
   ]
  },
  {
   "cell_type": "markdown",
   "metadata": {},
   "source": [
    "El caudal medio que realmente le termina llegando al sistema hidroeléctrico es de **3,11 m3/s**."
   ]
  },
  {
   "cell_type": "markdown",
   "metadata": {},
   "source": [
    "Para calcular el número de turbinas a incorporar debemos considerar la ecuación del caudal mínimo técnico $Q_{mt}$:\n",
    "\n",
    "$$Q_{mt} = k.Q$$\n",
    "\n",
    "Donde Q corresponde al caudal de sistema o aprovechamiento, sin exclusiones de servidumbre o ecológicas; k corresponde a un factor de proporcionalidad que depende del tipo de turbina a emplear: \n",
    "\n",
    "| Tipo de turbina | Factor k |\n",
    "| --------------- | -------- |\n",
    "| Francis | 0,4 |\n",
    "| Kaplan | 0,25 |\n",
    "| Pelton | 0,1 |"
   ]
  },
  {
   "cell_type": "markdown",
   "metadata": {},
   "source": [
    "Para el caso de la turbina Francis, empleamos k = 0,4"
   ]
  },
  {
   "cell_type": "code",
   "execution_count": 12,
   "metadata": {},
   "outputs": [
    {
     "name": "stdout",
     "output_type": "stream",
     "text": [
      "Caudal mínimo técnico para turbina Francis 3.65296803652968 m3/s\n"
     ]
    }
   ],
   "source": [
    "Qmt_F = 0.4 * Q\n",
    "print(\"Caudal mínimo técnico para turbina Francis\",Qmt_F,\"m3/s\")"
   ]
  },
  {
   "cell_type": "markdown",
   "metadata": {},
   "source": [
    "Resulta que para instalar una turbina Francis, dado el caudal de equipamiento, el caudal mínimo técnico es de 3,65 m3/s, el cual es mayor que el que realmente aprovecha el sistema, de 3,11 m3/s. Si repartimos el caudal entre dos turbinas, tenemos que: "
   ]
  },
  {
   "cell_type": "code",
   "execution_count": 14,
   "metadata": {},
   "outputs": [
    {
     "name": "stdout",
     "output_type": "stream",
     "text": [
      "Caudal mínimo técnico con dos turbinas Francis 1.82648401826484 m3/s\n"
     ]
    }
   ],
   "source": [
    "Qmt_2F = 0.4 * Q/2\n",
    "print(\"Caudal mínimo técnico con dos turbinas Francis\",Qmt_2F,\"m3/s\")"
   ]
  },
  {
   "cell_type": "markdown",
   "metadata": {},
   "source": [
    "El caudal mínimo técnico con dos turbinas Francis, es de 1,83 m3/s, el cual es menor que el caudal real. Se necesitarían **dos turbinas Francis** en este escenario.\n",
    "\n",
    "Exploramos las opciones de turbinas Kaplan, con k = 0,25, y Pelton, con k = 0,1:"
   ]
  },
  {
   "cell_type": "code",
   "execution_count": 15,
   "metadata": {},
   "outputs": [
    {
     "name": "stdout",
     "output_type": "stream",
     "text": [
      "Caudal mínimo técnico para turbina Kaplan 2.28310502283105 m3/s\n"
     ]
    }
   ],
   "source": [
    "Qmt_K = 0.25 * Q\n",
    "print(\"Caudal mínimo técnico para turbina Kaplan\",Qmt_K,\"m3/s\")"
   ]
  },
  {
   "cell_type": "code",
   "execution_count": 16,
   "metadata": {},
   "outputs": [
    {
     "name": "stdout",
     "output_type": "stream",
     "text": [
      "Caudal mínimo técnico para turbina Pelton 0.91324200913242 m3/s\n"
     ]
    }
   ],
   "source": [
    "Qmt_P = 0.1 * Q\n",
    "print(\"Caudal mínimo técnico para turbina Pelton\",Qmt_P,\"m3/s\")"
   ]
  },
  {
   "cell_type": "markdown",
   "metadata": {},
   "source": [
    "### 3. Horas de funcionamiento a plena carga (suponiendo un salto medio y rendimientos constantes)"
   ]
  },
  {
   "cell_type": "markdown",
   "metadata": {},
   "source": [
    "Podemos calcular las horas de funcionamiento en un año, T, a plena carga. Hayando la relación entre la genereación con el aporte real aprovechado a salto medio y la generación nominal con el aporte teórico del equipo a salto de diseño obtenemos un porcentaje de lo aprovechado con respecto a plena potencia, si lo multiplicamos por los días del año y las horas de un día, obtenemos las horas equivalentes de trabajo a plena carga:\n",
    "$$T = {Q_{real} . H_{n-medio} \\over Q_{equipo}.H_{n-diseño}} . 365 días . 24 horas$$\n",
    "\n",
    "El salto medio anual se nos informa que es de 80m mientras que el de diseño es 100m. $Q_{real}$ viene siendo el caudal aprovechado en un año, que lo calculamos y definimos como $Q_r$. $Q_{equipo}$ viene siendo el caudal teórico para una presa y que definimos como $Q$, antes del desaprovechamiento."
   ]
  },
  {
   "cell_type": "code",
   "execution_count": 24,
   "metadata": {},
   "outputs": [
    {
     "name": "stdout",
     "output_type": "stream",
     "text": [
      "Horas de funcionamiento a plena carga 2386.224 horas al año\n"
     ]
    }
   ],
   "source": [
    "Hn_med = 80 # Salto medio anual, en m\n",
    "Hn_dis = 100 # Salto neto diseñado, en m\n",
    "\n",
    "T = ((Qr * Hn_med) / (Q * Hn_dis)) * 365 * 24 # Horas equivalentes de trabajo a plena carga\n",
    "print(\"Horas de funcionamiento a plena carga\",T,\"horas al año\")"
   ]
  },
  {
   "cell_type": "markdown",
   "metadata": {},
   "source": [
    "Las horas equivalentes de funcionamiento a plena carga en un año son **2386 horas al año**, un 27% de las horas disponibles en un año."
   ]
  },
  {
   "cell_type": "markdown",
   "metadata": {},
   "source": [
    "### Energía en el generador, el transformador y la energía entregada a la red"
   ]
  },
  {
   "cell_type": "markdown",
   "metadata": {},
   "source": [
    "La ecuación de energía viene dada por los siguientes parámetros:\n",
    "$$E = Q * g * \\rho * H_n * e * \\eta * T$$\n",
    "\n",
    "Es la ecuación de potencia P multiplicada por las horas de trabajo. Dado que hablamos de horas de trabajo a plena carga, consideramos los valores de caudal de equipo, $Q$ en nuestro caso, y salto de diseño, $H_{n-diseño}$. $\\eta$ en este caso corresponde al coeficiente de otros factores que ocasionan pérdidas en la generación y entrega de energía, que vamos a considerar según la etapa que estemos estudiando.\n",
    "\n",
    "En primer lugar nos piden calcular la energía resultante a nivel de generador. En esta etapa solo hemos superado la turbina y el propio generador, por lo que la ecuación de energía considera los coeficientes de turbina y genereador, datos que conocemos, quedando de la siguiente forma:\n",
    "$$E_{gen} = Q * g * \\rho * H_n * \\eta_{turb} * \\eta_{gen} * T$$"
   ]
  },
  {
   "cell_type": "code",
   "execution_count": 27,
   "metadata": {},
   "outputs": [
    {
     "name": "stdout",
     "output_type": "stream",
     "text": [
      "Energía en el generador en un año 18481239.504 KWh\n"
     ]
    }
   ],
   "source": [
    "E_gen = Q * g * den * Hn_dis * eta_t * eta_g * T# Energía producida en un año a nivel de generador, en Wh\n",
    "print(\"Energía en el generador en un año\",E_gen/1000,\"KWh\")"
   ]
  },
  {
   "cell_type": "markdown",
   "metadata": {},
   "source": [
    "A nivel de generador, en un año se obtienen **18,48 GWh**."
   ]
  },
  {
   "cell_type": "markdown",
   "metadata": {},
   "source": [
    "A nivel de transformador la energía hasta ahora obtenida sufre una pérdida debida al coeficiente del transformador, dato también conocido, por lo que la energía a nivel de transformador la expresamos así: $E_{transf} = E_{gen} * \\eta_{transf}$"
   ]
  },
  {
   "cell_type": "code",
   "execution_count": 28,
   "metadata": {},
   "outputs": [
    {
     "name": "stdout",
     "output_type": "stream",
     "text": [
      "Energía en el generador en un año 18296427.10896 KWh\n"
     ]
    }
   ],
   "source": [
    "E_transf = E_gen * eta_tr\n",
    "print(\"Energía a nivel de transformador en un año\",E_transf/1000,\"KWh\")"
   ]
  },
  {
   "cell_type": "markdown",
   "metadata": {},
   "source": [
    "A nivel de transformador, la energía generada en un año se reduce a **18,3 GWh**."
   ]
  },
  {
   "cell_type": "markdown",
   "metadata": {},
   "source": [
    "A nivel de entrega a la red, la energía tiene que pasar por la línea de media tensión de 5 Km de longitud y que genera pérdidas de 0,3% por cada kilómetro de tendido. El coeficiente $\\eta$ asociado a estas pérdidas viene dado por la siguiente fórmula: $\\eta = 1 - 0.003.d$, donde de es la distancia del tendido a media tensión, que en nuestro caso es de 5 Km.\n",
    "\n",
    "La energía al punto de entrega a la red equivale a la energía a nivel de transformador por el coeficiente del tendido $E = E_{transf}.\\eta$"
   ]
  },
  {
   "cell_type": "code",
   "execution_count": 29,
   "metadata": {},
   "outputs": [
    {
     "name": "stdout",
     "output_type": "stream",
     "text": [
      "Energía a punto de entrega a la red en un año 18021980.7023256 KWh\n"
     ]
    }
   ],
   "source": [
    "d = 5 # Distancia de tendido eléctrico, en Km\n",
    "Eta = 1 - 0.003*d # Coeficiente de tendido a red\n",
    "\n",
    "E = E_transf * Eta # Energía generada a punto de entrega red eléctrica\n",
    "print(\"Energía a punto de entrega a la red en un año\",E/1000,\"KWh\")"
   ]
  },
  {
   "cell_type": "markdown",
   "metadata": {},
   "source": [
    "A la red eléctrica anualmente se le alimenta con **18,02 GWh**"
   ]
  },
  {
   "cell_type": "markdown",
   "metadata": {},
   "source": [
    "### 5. Potencia y producción del grupo ecológico"
   ]
  },
  {
   "cell_type": "markdown",
   "metadata": {},
   "source": [
    "Al grupo ecológico se le reservó un caudal de 1 m3/s. Los otros parámetros los conservamos, por lo que la potencia asociada a este caudal, $P_{eco}$, es: "
   ]
  },
  {
   "cell_type": "code",
   "execution_count": 30,
   "metadata": {},
   "outputs": [
    {
     "name": "stdout",
     "output_type": "stream",
     "text": [
      "Potencia del grupo ecológico: 839.593755 KW\n"
     ]
    }
   ],
   "source": [
    "Peco = Qeco * g * den * Hn * eta_t * eta_g * eta_tr\n",
    "print(\"Potencia del grupo ecológico:\",Peco/1000,\"KW\")"
   ]
  },
  {
   "cell_type": "markdown",
   "metadata": {},
   "source": [
    "El grupo ecológico tiene una potencia hasta el transformador de **839,6 KW**."
   ]
  },
  {
   "cell_type": "markdown",
   "metadata": {},
   "source": [
    "En cuanto a horas de trabajo a plena carga, no tenemos diferencias de caudales pero sí de saltos, el medio y el de diseño. Por lo tanto las horas en este caso las calculamos de la siguiente forma:\n",
    "$$T_{eco} = {H_{n-medio} \\over H_{n-diseño}} . 365 días . 24 horas$$"
   ]
  },
  {
   "cell_type": "code",
   "execution_count": 32,
   "metadata": {},
   "outputs": [
    {
     "name": "stdout",
     "output_type": "stream",
     "text": [
      "Horas de funcionamiento del grupo ecológico: 7008.0 horas al año\n"
     ]
    }
   ],
   "source": [
    "T_eco = (Hn_med / Hn_dis) * 365 * 24\n",
    "print(\"Horas de funcionamiento del grupo ecológico:\",T_eco,\"horas al año\")"
   ]
  },
  {
   "cell_type": "markdown",
   "metadata": {},
   "source": [
    "Conociendo las 7008 horas al año que trabaja el grupo ecológico a plena carga, procedemos a calcular la energía producida en un año. A nivel de transformador, la energía producida será $E_{trs-eco} = P_{eco}.T_{eco}$"
   ]
  },
  {
   "cell_type": "code",
   "execution_count": 33,
   "metadata": {},
   "outputs": [
    {
     "name": "stdout",
     "output_type": "stream",
     "text": [
      "Energía a nivel de transformador del grupo ecológico en un año 5883873.0350399995 KWh\n"
     ]
    }
   ],
   "source": [
    "E_trsf_eco = Peco * T_eco\n",
    "print(\"Energía a nivel de transformador del grupo ecológico en un año\",E_trsf_eco/1000,\"KWh\")"
   ]
  },
  {
   "cell_type": "markdown",
   "metadata": {},
   "source": [
    "El grupo ecológico a nivel de transformador produce anualmente **5,88 GWh**"
   ]
  },
  {
   "cell_type": "markdown",
   "metadata": {},
   "source": [
    "La energía entregada a la red eléctrica después de viajar 5 Km del tendido de media tensión y sufrir las pérdidas asociadas a este viaje la calculamos así: $E_{eco} = E_{trs-eco} * \\eta$ "
   ]
  },
  {
   "cell_type": "code",
   "execution_count": 34,
   "metadata": {},
   "outputs": [
    {
     "name": "stdout",
     "output_type": "stream",
     "text": [
      "Energía a nivel de entrega a red eléctrica del grupo ecológico en un año 5795614.9395143995 KWh\n"
     ]
    }
   ],
   "source": [
    "E_eco = E_trsf_eco * Eta\n",
    "print(\"Energía a nivel de entrega a red eléctrica del grupo ecológico en un año\",E_eco/1000,\"KWh\")"
   ]
  },
  {
   "cell_type": "markdown",
   "metadata": {},
   "source": [
    "A la red eléctrica desde el grupo ecológico se le entregan anualmente **5,8 GWh**"
   ]
  },
  {
   "cell_type": "code",
   "execution_count": null,
   "metadata": {},
   "outputs": [],
   "source": []
  }
 ],
 "metadata": {
  "kernelspec": {
   "display_name": "Python 3",
   "language": "python",
   "name": "python3"
  },
  "language_info": {
   "codemirror_mode": {
    "name": "ipython",
    "version": 3
   },
   "file_extension": ".py",
   "mimetype": "text/x-python",
   "name": "python",
   "nbconvert_exporter": "python",
   "pygments_lexer": "ipython3",
   "version": "3.8.3"
  }
 },
 "nbformat": 4,
 "nbformat_minor": 4
}
