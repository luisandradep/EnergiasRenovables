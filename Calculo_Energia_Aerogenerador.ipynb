{
 "cells": [
  {
   "cell_type": "markdown",
   "metadata": {},
   "source": [
    "# Cálculo de la energía generada por un aerogenerador\n",
    "\n",
    "## Master en Energías Renovables. IMF\n",
    "\n",
    "### Estudiante: Luis Alberto Andrade. Mayo 2022"
   ]
  },
  {
   "cell_type": "markdown",
   "metadata": {},
   "source": [
    "Se dispone de un pequeño aerogenerador tripala instalado en una finca agropecuaria cuyas\n",
    "características son las siguientes:"
   ]
  },
  {
   "cell_type": "markdown",
   "metadata": {},
   "source": [
    "![tablaAerogenerador](2-CasoPractico4-tablaAerogenerador.jpg)"
   ]
  },
  {
   "cell_type": "markdown",
   "metadata": {},
   "source": [
    "Se toma como densidad del aire media (no se consideran las ligeras variaciones que pudiera haber por\n",
    "temperatura ambiente) 1,225 kg/m3.\n",
    "\n",
    "El entorno donde se ubica el aerogenerador es un cultivo cerealista cercano a un pequeño bosque,\n",
    "por lo que se toma como coeficiente de rugosidad α = 0,25."
   ]
  },
  {
   "cell_type": "markdown",
   "metadata": {},
   "source": [
    "![TablaRugosidad](2-CasoPractico4-tablaRugosidad.jpg)"
   ]
  },
  {
   "cell_type": "markdown",
   "metadata": {},
   "source": [
    "Las velocidades de viento de un día medio registradas en una estación con anemómetro a 10 metros\n",
    "de altura son las siguientes:"
   ]
  },
  {
   "cell_type": "markdown",
   "metadata": {},
   "source": [
    "![VelocidadesViento](2-CasoPractico4-VelocidadesViento.jpg)"
   ]
  },
  {
   "cell_type": "markdown",
   "metadata": {},
   "source": [
    "## Se pide:\n",
    "\n",
    "* Realizar el ajuste de la velocidad de viento registrada en la estación acomodándola a la altura del aerogenerador y expresándola en m/s.\n",
    "\n",
    "* Estimar la potencia correspondiente a cada velocidad de viento.\n",
    "\n",
    "* Calcular la energía que se espera generar al día."
   ]
  },
  {
   "cell_type": "markdown",
   "metadata": {},
   "source": [
    "Para empezar vamos a importar los paquetes de Python que nos ayudarán a resolver este caso:"
   ]
  },
  {
   "cell_type": "code",
   "execution_count": 1,
   "metadata": {},
   "outputs": [],
   "source": [
    "import pandas as pd\n",
    "import numpy as np\n",
    "import matplotlib.pyplot as plt\n",
    "%matplotlib inline"
   ]
  },
  {
   "cell_type": "markdown",
   "metadata": {},
   "source": [
    "Los datos de velocidades de viento por franja horaria los tenemos en imagen, por lo que tendríamos que buscar la forma de convertirlas en cifras computables. En este caso vamos a tomar el camino de transcribir los datos de cada columna en listas, agruparlos en un diccionario Python y luego convertirlo a una tabla Pandas, que nos facilita la lectura y tratamiento de datos.\n",
    "\n",
    "Otra alternativa es transcribir los datos en una hoja de cálculo, guardarlo como archivo xlsx o csv (formato más común) y luego importarlo a este notebook como una tabla Pandas"
   ]
  },
  {
   "cell_type": "code",
   "execution_count": 2,
   "metadata": {},
   "outputs": [
    {
     "name": "stdout",
     "output_type": "stream",
     "text": [
      "{0: 6, 1: 7, 2: 6, 3: 10, 4: 15, 5: 20, 6: 23, 7: 30, 8: 27, 9: 32, 10: 40, 11: 45, 12: 50, 13: 43, 14: 35, 15: 28, 16: 24, 17: 20, 18: 18, 19: 15, 20: 10, 21: 9, 22: 9, 23: 8}\n"
     ]
    }
   ],
   "source": [
    "#Listas representando cada columna de la tabla de velocidad de viento por cada franja de una hora\n",
    "Hora = [0,1,2,3,4,5,6,7,8,9,10,11,12,13,14,15,16,17,18,19,20,21,22,23]\n",
    "Km_h = [6,7,6,10,15,20,23,30,27,32,40,45,50,43,35,28,24,20,18,15,10,9,9,8]\n",
    "\n",
    "#Las agrupamos en un diccionario de Python que es equivalente a una tabla\n",
    "Vientos = {Hora[i] : Km_h[i] for i in range(len(Hora))}\n",
    "\n",
    "print(str(Vientos))"
   ]
  },
  {
   "cell_type": "markdown",
   "metadata": {},
   "source": [
    "Ya tenemos los datos importados en un diccionario que funciona como una tabla, pero nos ayudará mucho más tenerlo convertido a una tabla Pandas"
   ]
  },
  {
   "cell_type": "code",
   "execution_count": 3,
   "metadata": {},
   "outputs": [
    {
     "name": "stdout",
     "output_type": "stream",
     "text": [
      "    Hora  Km/h\n",
      "0      0     6\n",
      "1      1     7\n",
      "2      2     6\n",
      "3      3    10\n",
      "4      4    15\n",
      "5      5    20\n",
      "6      6    23\n",
      "7      7    30\n",
      "8      8    27\n",
      "9      9    32\n",
      "10    10    40\n",
      "11    11    45\n",
      "12    12    50\n",
      "13    13    43\n",
      "14    14    35\n",
      "15    15    28\n",
      "16    16    24\n",
      "17    17    20\n",
      "18    18    18\n",
      "19    19    15\n",
      "20    20    10\n",
      "21    21     9\n",
      "22    22     9\n",
      "23    23     8\n"
     ]
    }
   ],
   "source": [
    "#Convertimos el diccionario a una tabla (dataframe) Pandas que es mucho más amigable de leer\n",
    "TablaVientos = pd.DataFrame(list(Vientos.items()), columns = ['Hora', 'Km/h'])\n",
    "\n",
    "#Visualizamos todas las filas y columnas\n",
    "with pd.option_context('display.max_rows', None, 'display.max_columns', None):\n",
    "    print(TablaVientos)"
   ]
  },
  {
   "cell_type": "markdown",
   "metadata": {},
   "source": [
    "## Calcular velocidades en m/s a la altura planeada del aerogenerador\n",
    "\n",
    "Primero comenzamos convirtiendo las velocidades suministradas de Km/h a m/s, ya que con estas velocidades convertidas podremos hacer los cálculos posteriores, en tre ellos el de extrapoolar a la altura deseada. Como sabemos 1 Km/h es igual a 1000m / 3600s. Por lo tanto, a nuestras velocidades en Km/h tenemos que multiplicarlas por 1000/3600 para convertirlas a m/s. Los resultados los guardamos en una nueva columna *m/s*."
   ]
  },
  {
   "cell_type": "code",
   "execution_count": 4,
   "metadata": {},
   "outputs": [
    {
     "data": {
      "text/html": [
       "<div>\n",
       "<style scoped>\n",
       "    .dataframe tbody tr th:only-of-type {\n",
       "        vertical-align: middle;\n",
       "    }\n",
       "\n",
       "    .dataframe tbody tr th {\n",
       "        vertical-align: top;\n",
       "    }\n",
       "\n",
       "    .dataframe thead th {\n",
       "        text-align: right;\n",
       "    }\n",
       "</style>\n",
       "<table border=\"1\" class=\"dataframe\">\n",
       "  <thead>\n",
       "    <tr style=\"text-align: right;\">\n",
       "      <th></th>\n",
       "      <th>Hora</th>\n",
       "      <th>Km/h</th>\n",
       "      <th>m/s</th>\n",
       "    </tr>\n",
       "  </thead>\n",
       "  <tbody>\n",
       "    <tr>\n",
       "      <th>0</th>\n",
       "      <td>0</td>\n",
       "      <td>6</td>\n",
       "      <td>1.666667</td>\n",
       "    </tr>\n",
       "    <tr>\n",
       "      <th>1</th>\n",
       "      <td>1</td>\n",
       "      <td>7</td>\n",
       "      <td>1.944444</td>\n",
       "    </tr>\n",
       "    <tr>\n",
       "      <th>2</th>\n",
       "      <td>2</td>\n",
       "      <td>6</td>\n",
       "      <td>1.666667</td>\n",
       "    </tr>\n",
       "    <tr>\n",
       "      <th>3</th>\n",
       "      <td>3</td>\n",
       "      <td>10</td>\n",
       "      <td>2.777778</td>\n",
       "    </tr>\n",
       "    <tr>\n",
       "      <th>4</th>\n",
       "      <td>4</td>\n",
       "      <td>15</td>\n",
       "      <td>4.166667</td>\n",
       "    </tr>\n",
       "    <tr>\n",
       "      <th>5</th>\n",
       "      <td>5</td>\n",
       "      <td>20</td>\n",
       "      <td>5.555556</td>\n",
       "    </tr>\n",
       "    <tr>\n",
       "      <th>6</th>\n",
       "      <td>6</td>\n",
       "      <td>23</td>\n",
       "      <td>6.388889</td>\n",
       "    </tr>\n",
       "    <tr>\n",
       "      <th>7</th>\n",
       "      <td>7</td>\n",
       "      <td>30</td>\n",
       "      <td>8.333333</td>\n",
       "    </tr>\n",
       "    <tr>\n",
       "      <th>8</th>\n",
       "      <td>8</td>\n",
       "      <td>27</td>\n",
       "      <td>7.500000</td>\n",
       "    </tr>\n",
       "    <tr>\n",
       "      <th>9</th>\n",
       "      <td>9</td>\n",
       "      <td>32</td>\n",
       "      <td>8.888889</td>\n",
       "    </tr>\n",
       "    <tr>\n",
       "      <th>10</th>\n",
       "      <td>10</td>\n",
       "      <td>40</td>\n",
       "      <td>11.111111</td>\n",
       "    </tr>\n",
       "    <tr>\n",
       "      <th>11</th>\n",
       "      <td>11</td>\n",
       "      <td>45</td>\n",
       "      <td>12.500000</td>\n",
       "    </tr>\n",
       "    <tr>\n",
       "      <th>12</th>\n",
       "      <td>12</td>\n",
       "      <td>50</td>\n",
       "      <td>13.888889</td>\n",
       "    </tr>\n",
       "    <tr>\n",
       "      <th>13</th>\n",
       "      <td>13</td>\n",
       "      <td>43</td>\n",
       "      <td>11.944444</td>\n",
       "    </tr>\n",
       "    <tr>\n",
       "      <th>14</th>\n",
       "      <td>14</td>\n",
       "      <td>35</td>\n",
       "      <td>9.722222</td>\n",
       "    </tr>\n",
       "  </tbody>\n",
       "</table>\n",
       "</div>"
      ],
      "text/plain": [
       "    Hora  Km/h        m/s\n",
       "0      0     6   1.666667\n",
       "1      1     7   1.944444\n",
       "2      2     6   1.666667\n",
       "3      3    10   2.777778\n",
       "4      4    15   4.166667\n",
       "5      5    20   5.555556\n",
       "6      6    23   6.388889\n",
       "7      7    30   8.333333\n",
       "8      8    27   7.500000\n",
       "9      9    32   8.888889\n",
       "10    10    40  11.111111\n",
       "11    11    45  12.500000\n",
       "12    12    50  13.888889\n",
       "13    13    43  11.944444\n",
       "14    14    35   9.722222"
      ]
     },
     "execution_count": 4,
     "metadata": {},
     "output_type": "execute_result"
    }
   ],
   "source": [
    "TablaVientos['m/s'] = TablaVientos['Km/h']*1000/3600\n",
    "TablaVientos.head(15)"
   ]
  },
  {
   "cell_type": "markdown",
   "metadata": {},
   "source": [
    "Repasando el enunciado, se nos informó que los datos de velocidades fueron captadas a 10m de altura con respecto al terreno. Pero el aerogenerador se piensa ubicar a 20m sobre el nivel del terreno. Por lo cual es necesario extrapolar nuestras velocidades de 10m de altura, a la deseada de 20m.\n",
    "\n",
    "La fórmula para extrapolar la velocidad de una altura conocida a una nueva es la siguiente:\n",
    "\n",
    "$ V_{h} = V_{0} * (\\frac{h} {h_{0}})^{\\alpha} $\n",
    "\n",
    "Donde $V_{h}$ es la velocidad extrapolada a una nueva altura $h$, $V_{0}$ es la velocidad conocida a una altura $h_{0}$ también conocida y $\\alpha$ es el coeficiente de rugosidad del terreno. En nuestro caso, $h = 20m$, $h_{0} = 10m$ y $\\alpha = 0,25$, lo cual se definió en el enunciado para este terreno en particular cercano a un pequeño bosque:\n",
    "\n",
    "$ V_{h} = V_{0} * (\\frac{20} {10})^{0,25} $\n",
    "\n",
    "Podemos entonces añadir una nueva columna con las velocidades, en m/s, extrapoladas a una altura de 20m sobre el terreno."
   ]
  },
  {
   "cell_type": "code",
   "execution_count": 5,
   "metadata": {},
   "outputs": [
    {
     "data": {
      "text/html": [
       "<div>\n",
       "<style scoped>\n",
       "    .dataframe tbody tr th:only-of-type {\n",
       "        vertical-align: middle;\n",
       "    }\n",
       "\n",
       "    .dataframe tbody tr th {\n",
       "        vertical-align: top;\n",
       "    }\n",
       "\n",
       "    .dataframe thead th {\n",
       "        text-align: right;\n",
       "    }\n",
       "</style>\n",
       "<table border=\"1\" class=\"dataframe\">\n",
       "  <thead>\n",
       "    <tr style=\"text-align: right;\">\n",
       "      <th></th>\n",
       "      <th>Hora</th>\n",
       "      <th>Km/h</th>\n",
       "      <th>m/s</th>\n",
       "      <th>V_h</th>\n",
       "    </tr>\n",
       "  </thead>\n",
       "  <tbody>\n",
       "    <tr>\n",
       "      <th>0</th>\n",
       "      <td>0</td>\n",
       "      <td>6</td>\n",
       "      <td>1.666667</td>\n",
       "      <td>1.982012</td>\n",
       "    </tr>\n",
       "    <tr>\n",
       "      <th>1</th>\n",
       "      <td>1</td>\n",
       "      <td>7</td>\n",
       "      <td>1.944444</td>\n",
       "      <td>2.312347</td>\n",
       "    </tr>\n",
       "    <tr>\n",
       "      <th>2</th>\n",
       "      <td>2</td>\n",
       "      <td>6</td>\n",
       "      <td>1.666667</td>\n",
       "      <td>1.982012</td>\n",
       "    </tr>\n",
       "    <tr>\n",
       "      <th>3</th>\n",
       "      <td>3</td>\n",
       "      <td>10</td>\n",
       "      <td>2.777778</td>\n",
       "      <td>3.303353</td>\n",
       "    </tr>\n",
       "    <tr>\n",
       "      <th>4</th>\n",
       "      <td>4</td>\n",
       "      <td>15</td>\n",
       "      <td>4.166667</td>\n",
       "      <td>4.955030</td>\n",
       "    </tr>\n",
       "    <tr>\n",
       "      <th>5</th>\n",
       "      <td>5</td>\n",
       "      <td>20</td>\n",
       "      <td>5.555556</td>\n",
       "      <td>6.606706</td>\n",
       "    </tr>\n",
       "    <tr>\n",
       "      <th>6</th>\n",
       "      <td>6</td>\n",
       "      <td>23</td>\n",
       "      <td>6.388889</td>\n",
       "      <td>7.597712</td>\n",
       "    </tr>\n",
       "    <tr>\n",
       "      <th>7</th>\n",
       "      <td>7</td>\n",
       "      <td>30</td>\n",
       "      <td>8.333333</td>\n",
       "      <td>9.910059</td>\n",
       "    </tr>\n",
       "    <tr>\n",
       "      <th>8</th>\n",
       "      <td>8</td>\n",
       "      <td>27</td>\n",
       "      <td>7.500000</td>\n",
       "      <td>8.919053</td>\n",
       "    </tr>\n",
       "    <tr>\n",
       "      <th>9</th>\n",
       "      <td>9</td>\n",
       "      <td>32</td>\n",
       "      <td>8.888889</td>\n",
       "      <td>10.570730</td>\n",
       "    </tr>\n",
       "    <tr>\n",
       "      <th>10</th>\n",
       "      <td>10</td>\n",
       "      <td>40</td>\n",
       "      <td>11.111111</td>\n",
       "      <td>13.213412</td>\n",
       "    </tr>\n",
       "    <tr>\n",
       "      <th>11</th>\n",
       "      <td>11</td>\n",
       "      <td>45</td>\n",
       "      <td>12.500000</td>\n",
       "      <td>14.865089</td>\n",
       "    </tr>\n",
       "    <tr>\n",
       "      <th>12</th>\n",
       "      <td>12</td>\n",
       "      <td>50</td>\n",
       "      <td>13.888889</td>\n",
       "      <td>16.516765</td>\n",
       "    </tr>\n",
       "    <tr>\n",
       "      <th>13</th>\n",
       "      <td>13</td>\n",
       "      <td>43</td>\n",
       "      <td>11.944444</td>\n",
       "      <td>14.204418</td>\n",
       "    </tr>\n",
       "    <tr>\n",
       "      <th>14</th>\n",
       "      <td>14</td>\n",
       "      <td>35</td>\n",
       "      <td>9.722222</td>\n",
       "      <td>11.561736</td>\n",
       "    </tr>\n",
       "  </tbody>\n",
       "</table>\n",
       "</div>"
      ],
      "text/plain": [
       "    Hora  Km/h        m/s        V_h\n",
       "0      0     6   1.666667   1.982012\n",
       "1      1     7   1.944444   2.312347\n",
       "2      2     6   1.666667   1.982012\n",
       "3      3    10   2.777778   3.303353\n",
       "4      4    15   4.166667   4.955030\n",
       "5      5    20   5.555556   6.606706\n",
       "6      6    23   6.388889   7.597712\n",
       "7      7    30   8.333333   9.910059\n",
       "8      8    27   7.500000   8.919053\n",
       "9      9    32   8.888889  10.570730\n",
       "10    10    40  11.111111  13.213412\n",
       "11    11    45  12.500000  14.865089\n",
       "12    12    50  13.888889  16.516765\n",
       "13    13    43  11.944444  14.204418\n",
       "14    14    35   9.722222  11.561736"
      ]
     },
     "execution_count": 5,
     "metadata": {},
     "output_type": "execute_result"
    }
   ],
   "source": [
    "h = 20\n",
    "h0 = 10\n",
    "alfa = 0.25\n",
    "\n",
    "TablaVientos['V_h'] = TablaVientos['m/s']*np.power(h/h0, alfa)\n",
    "TablaVientos.head(15)"
   ]
  },
  {
   "cell_type": "markdown",
   "metadata": {},
   "source": [
    "La columna *V_h* corresponde a las velocidades proyectadas a 20m de altura con respecto al suelo expresadas en m/s.\n",
    "\n",
    "Es de gran ayuda expresar de manera gráfica el comportamiento del viento durante las distintas horas del día. Para esto nos apoyamos en el paquete Matplotlib Pyplot (abreviado *plt*)."
   ]
  },
  {
   "cell_type": "code",
   "execution_count": 13,
   "metadata": {},
   "outputs": [
    {
     "data": {
      "image/png": "[encoded data removed]",
      "text/plain": [
       "<Figure size 720x432 with 1 Axes>"
      ]
     },
     "metadata": {
      "needs_background": "light"
     },
     "output_type": "display_data"
    }
   ],
   "source": [
    "fig, ax = plt.subplots(figsize=(10,6))\n",
    "ax.plot(TablaVientos['Hora'],TablaVientos['V_h'], linewidth=1.5, color = 'red', label='h=%.0fm'%(h))\n",
    "ax.plot(TablaVientos['Hora'],TablaVientos['m/s'], linewidth=1.5, color= 'blue', label='h0=%.0fm'%(h0))\n",
    "ax.set_xlabel('Hora del día')\n",
    "ax.set_ylabel('Velocidad (m/s)')\n",
    "ax.set(xticks=np.arange(0, 24))\n",
    "plt.legend()\n",
    "plt.grid()\n",
    "plt.title('Velocidad del viento durante el día')\n",
    "plt.show()"
   ]
  },
  {
   "cell_type": "markdown",
   "metadata": {},
   "source": [
    "Como podemos ver, las velocidades son mayores a la mitad del día y mínimas cuando nos acercamos a la medianoche. También podemos constatar que a partir de la fórmula de extrapolación de velocidades, éstas últimas serán mayores ante una mayor altura."
   ]
  },
  {
   "cell_type": "markdown",
   "metadata": {},
   "source": [
    "## Potencia correspondiente a cada velocidad\n",
    "\n",
    "La siguiente pregunta de nuestro enunciado nos pide encontrar la potencia del viento a cada velocidad estimada a la altura deseada. Dicha potencia viene dada por la siguiente fórmula:\n",
    "\n",
    "$P_{aire} = \\frac{1} {2} * \\rho_{aire} * A * V_{h}^{3}$\n",
    "\n",
    "La densidad del aire, $\\rho_{aire}$, tomada en cuenta en el enunciado es $1,225 Kg/m^{3}$. $A$ hace referencia al área barrida por el generador. Como dato sabemos que el radio de nuestras palas es de 2m, por lo tanto el área circular, $\\pi * r^{2}$, se calcula con base en este dato. $V_{h}$ viene siendo la velocidad extrapolada a la altura del buje (centro) de nuestros aerogenerador.\n",
    "\n",
    "Recordemos además que tenemos unas limitaciones técnicas del aerogenerador dadas por la velocidad de arranque, 3 m/s, y de desconexión de 14 m/s. Quiere decir que por debajo de la velocidad de arranque y por encima de la velocidad de desconexión no se genera potencia."
   ]
  },
  {
   "cell_type": "code",
   "execution_count": 7,
   "metadata": {},
   "outputs": [],
   "source": [
    "#Densidad de aire (kg/m3)\n",
    "rho = 1.225\n",
    "#Radio de palas (m)\n",
    "r = 2\n",
    "#Area de barrido (m2)\n",
    "A = np.pi*np.power(r,2)\n",
    "\n",
    "#Velocidad de arranque (m/s)\n",
    "Varr = 3\n",
    "#Velocidad de desconexión (m/s)\n",
    "Vdesc = 14"
   ]
  },
  {
   "cell_type": "code",
   "execution_count": 8,
   "metadata": {},
   "outputs": [
    {
     "data": {
      "text/html": [
       "<div>\n",
       "<style scoped>\n",
       "    .dataframe tbody tr th:only-of-type {\n",
       "        vertical-align: middle;\n",
       "    }\n",
       "\n",
       "    .dataframe tbody tr th {\n",
       "        vertical-align: top;\n",
       "    }\n",
       "\n",
       "    .dataframe thead th {\n",
       "        text-align: right;\n",
       "    }\n",
       "</style>\n",
       "<table border=\"1\" class=\"dataframe\">\n",
       "  <thead>\n",
       "    <tr style=\"text-align: right;\">\n",
       "      <th></th>\n",
       "      <th>Hora</th>\n",
       "      <th>Km/h</th>\n",
       "      <th>m/s</th>\n",
       "      <th>V_h</th>\n",
       "      <th>P_air</th>\n",
       "    </tr>\n",
       "  </thead>\n",
       "  <tbody>\n",
       "    <tr>\n",
       "      <th>0</th>\n",
       "      <td>0</td>\n",
       "      <td>6</td>\n",
       "      <td>1.666667</td>\n",
       "      <td>1.982012</td>\n",
       "      <td>0.000000</td>\n",
       "    </tr>\n",
       "    <tr>\n",
       "      <th>1</th>\n",
       "      <td>1</td>\n",
       "      <td>7</td>\n",
       "      <td>1.944444</td>\n",
       "      <td>2.312347</td>\n",
       "      <td>0.000000</td>\n",
       "    </tr>\n",
       "    <tr>\n",
       "      <th>2</th>\n",
       "      <td>2</td>\n",
       "      <td>6</td>\n",
       "      <td>1.666667</td>\n",
       "      <td>1.982012</td>\n",
       "      <td>0.000000</td>\n",
       "    </tr>\n",
       "    <tr>\n",
       "      <th>3</th>\n",
       "      <td>3</td>\n",
       "      <td>10</td>\n",
       "      <td>2.777778</td>\n",
       "      <td>3.303353</td>\n",
       "      <td>277.447587</td>\n",
       "    </tr>\n",
       "    <tr>\n",
       "      <th>4</th>\n",
       "      <td>4</td>\n",
       "      <td>15</td>\n",
       "      <td>4.166667</td>\n",
       "      <td>4.955030</td>\n",
       "      <td>936.385605</td>\n",
       "    </tr>\n",
       "    <tr>\n",
       "      <th>5</th>\n",
       "      <td>5</td>\n",
       "      <td>20</td>\n",
       "      <td>5.555556</td>\n",
       "      <td>6.606706</td>\n",
       "      <td>2219.580693</td>\n",
       "    </tr>\n",
       "    <tr>\n",
       "      <th>6</th>\n",
       "      <td>6</td>\n",
       "      <td>23</td>\n",
       "      <td>6.388889</td>\n",
       "      <td>7.597712</td>\n",
       "      <td>3375.704787</td>\n",
       "    </tr>\n",
       "    <tr>\n",
       "      <th>7</th>\n",
       "      <td>7</td>\n",
       "      <td>30</td>\n",
       "      <td>8.333333</td>\n",
       "      <td>9.910059</td>\n",
       "      <td>7491.084840</td>\n",
       "    </tr>\n",
       "    <tr>\n",
       "      <th>8</th>\n",
       "      <td>8</td>\n",
       "      <td>27</td>\n",
       "      <td>7.500000</td>\n",
       "      <td>8.919053</td>\n",
       "      <td>5461.000848</td>\n",
       "    </tr>\n",
       "    <tr>\n",
       "      <th>9</th>\n",
       "      <td>9</td>\n",
       "      <td>32</td>\n",
       "      <td>8.888889</td>\n",
       "      <td>10.570730</td>\n",
       "      <td>9091.402519</td>\n",
       "    </tr>\n",
       "    <tr>\n",
       "      <th>10</th>\n",
       "      <td>10</td>\n",
       "      <td>40</td>\n",
       "      <td>11.111111</td>\n",
       "      <td>13.213412</td>\n",
       "      <td>17756.645546</td>\n",
       "    </tr>\n",
       "    <tr>\n",
       "      <th>11</th>\n",
       "      <td>11</td>\n",
       "      <td>45</td>\n",
       "      <td>12.500000</td>\n",
       "      <td>14.865089</td>\n",
       "      <td>0.000000</td>\n",
       "    </tr>\n",
       "    <tr>\n",
       "      <th>12</th>\n",
       "      <td>12</td>\n",
       "      <td>50</td>\n",
       "      <td>13.888889</td>\n",
       "      <td>16.516765</td>\n",
       "      <td>0.000000</td>\n",
       "    </tr>\n",
       "    <tr>\n",
       "      <th>13</th>\n",
       "      <td>13</td>\n",
       "      <td>43</td>\n",
       "      <td>11.944444</td>\n",
       "      <td>14.204418</td>\n",
       "      <td>0.000000</td>\n",
       "    </tr>\n",
       "    <tr>\n",
       "      <th>14</th>\n",
       "      <td>14</td>\n",
       "      <td>35</td>\n",
       "      <td>9.722222</td>\n",
       "      <td>11.561736</td>\n",
       "      <td>11895.565278</td>\n",
       "    </tr>\n",
       "    <tr>\n",
       "      <th>15</th>\n",
       "      <td>15</td>\n",
       "      <td>28</td>\n",
       "      <td>7.777778</td>\n",
       "      <td>9.249389</td>\n",
       "      <td>6090.529422</td>\n",
       "    </tr>\n",
       "    <tr>\n",
       "      <th>16</th>\n",
       "      <td>16</td>\n",
       "      <td>24</td>\n",
       "      <td>6.666667</td>\n",
       "      <td>7.928047</td>\n",
       "      <td>3835.435438</td>\n",
       "    </tr>\n",
       "    <tr>\n",
       "      <th>17</th>\n",
       "      <td>17</td>\n",
       "      <td>20</td>\n",
       "      <td>5.555556</td>\n",
       "      <td>6.606706</td>\n",
       "      <td>2219.580693</td>\n",
       "    </tr>\n",
       "    <tr>\n",
       "      <th>18</th>\n",
       "      <td>18</td>\n",
       "      <td>18</td>\n",
       "      <td>5.000000</td>\n",
       "      <td>5.946036</td>\n",
       "      <td>1618.074325</td>\n",
       "    </tr>\n",
       "    <tr>\n",
       "      <th>19</th>\n",
       "      <td>19</td>\n",
       "      <td>15</td>\n",
       "      <td>4.166667</td>\n",
       "      <td>4.955030</td>\n",
       "      <td>936.385605</td>\n",
       "    </tr>\n",
       "    <tr>\n",
       "      <th>20</th>\n",
       "      <td>20</td>\n",
       "      <td>10</td>\n",
       "      <td>2.777778</td>\n",
       "      <td>3.303353</td>\n",
       "      <td>277.447587</td>\n",
       "    </tr>\n",
       "    <tr>\n",
       "      <th>21</th>\n",
       "      <td>21</td>\n",
       "      <td>9</td>\n",
       "      <td>2.500000</td>\n",
       "      <td>2.973018</td>\n",
       "      <td>0.000000</td>\n",
       "    </tr>\n",
       "    <tr>\n",
       "      <th>22</th>\n",
       "      <td>22</td>\n",
       "      <td>9</td>\n",
       "      <td>2.500000</td>\n",
       "      <td>2.973018</td>\n",
       "      <td>0.000000</td>\n",
       "    </tr>\n",
       "    <tr>\n",
       "      <th>23</th>\n",
       "      <td>23</td>\n",
       "      <td>8</td>\n",
       "      <td>2.222222</td>\n",
       "      <td>2.642682</td>\n",
       "      <td>0.000000</td>\n",
       "    </tr>\n",
       "  </tbody>\n",
       "</table>\n",
       "</div>"
      ],
      "text/plain": [
       "    Hora  Km/h        m/s        V_h         P_air\n",
       "0      0     6   1.666667   1.982012      0.000000\n",
       "1      1     7   1.944444   2.312347      0.000000\n",
       "2      2     6   1.666667   1.982012      0.000000\n",
       "3      3    10   2.777778   3.303353    277.447587\n",
       "4      4    15   4.166667   4.955030    936.385605\n",
       "5      5    20   5.555556   6.606706   2219.580693\n",
       "6      6    23   6.388889   7.597712   3375.704787\n",
       "7      7    30   8.333333   9.910059   7491.084840\n",
       "8      8    27   7.500000   8.919053   5461.000848\n",
       "9      9    32   8.888889  10.570730   9091.402519\n",
       "10    10    40  11.111111  13.213412  17756.645546\n",
       "11    11    45  12.500000  14.865089      0.000000\n",
       "12    12    50  13.888889  16.516765      0.000000\n",
       "13    13    43  11.944444  14.204418      0.000000\n",
       "14    14    35   9.722222  11.561736  11895.565278\n",
       "15    15    28   7.777778   9.249389   6090.529422\n",
       "16    16    24   6.666667   7.928047   3835.435438\n",
       "17    17    20   5.555556   6.606706   2219.580693\n",
       "18    18    18   5.000000   5.946036   1618.074325\n",
       "19    19    15   4.166667   4.955030    936.385605\n",
       "20    20    10   2.777778   3.303353    277.447587\n",
       "21    21     9   2.500000   2.973018      0.000000\n",
       "22    22     9   2.500000   2.973018      0.000000\n",
       "23    23     8   2.222222   2.642682      0.000000"
      ]
     },
     "execution_count": 8,
     "metadata": {},
     "output_type": "execute_result"
    }
   ],
   "source": [
    "#Definimos condiciones con los 3 escenarios:\n",
    "#por debajo de V_arranque, entre V_arranque y V_desconexion y por encima de V_desconexion\n",
    "condiciones = [\n",
    "    (TablaVientos['V_h'] < Varr),\n",
    "    (TablaVientos['V_h'] >= Varr) & (TablaVientos['V_h'] < Vdesc),\n",
    "    (TablaVientos['V_h'] >= Vdesc)\n",
    "]\n",
    "\n",
    "#Definimos los respectivos valores según cada condición\n",
    "#Entre V_arranque y V_desconexion se calcula la potencia, fuera de esos valores se considera nulo\n",
    "valores = (0, rho * A * np.power(TablaVientos['V_h'],3) / 2, 0)\n",
    "\n",
    "TablaVientos['P_air'] = np.select(condiciones,valores)\n",
    "TablaVientos.head(24)"
   ]
  },
  {
   "cell_type": "markdown",
   "metadata": {},
   "source": [
    "La columna *P_air* expresa la potencia en vatios (W) correspondiente a cada velocidad estimada a la altura h (20m) indicada durante cada hora del día. Durante 9 horas no se genera potencia por haber valores de velocidades fuera de rango, tanto altas en el caso del mediodía, de 11h a 14h, como bajas en el caso de la noche, de 21h a 3h.\n",
    "\n",
    "Para ayudar a comprender mejor los resultados procedemos a graficar las velocidades estimadas a la altura planificadas y la potencias asociadas"
   ]
  },
  {
   "cell_type": "code",
   "execution_count": 19,
   "metadata": {
    "scrolled": true
   },
   "outputs": [
    {
     "data": {
      "image/png": "[encoded data removed]",
      "text/plain": [
       "<Figure size 720x360 with 2 Axes>"
      ]
     },
     "metadata": {
      "needs_background": "light"
     },
     "output_type": "display_data"
    }
   ],
   "source": [
    "fig, ax1 = plt.subplots(figsize=(10,5))\n",
    "plot1 = ax1.plot(TablaVientos['Hora']+0.5,TablaVientos['V_h'], linewidth=1.5, color = 'red', label='Velocidad')\n",
    "ax1.axhline(y=Varr, linestyle = 'dashed', linewidth=1, color = 'black')\n",
    "ax1.annotate('Velocidad de arranque', xy=(0,Varr+0.25))\n",
    "ax1.axhline(y=Vdesc, linestyle = 'dashed', linewidth=1, color = 'black')\n",
    "ax1.annotate('Velocidad de desconexión', xy=(0,Vdesc+0.25))\n",
    "ax1.set_ylabel('Velocidad (m/s)')\n",
    "\n",
    "ax2 = ax1.twinx()\n",
    "plot2 = ax2.plot(TablaVientos['Hora']+0.5,TablaVientos['P_air'], linewidth=1.5, color= 'green', label='Potencia')\n",
    "ax2.set_ylabel('Potencia (W)')\n",
    "\n",
    "ax1.set_xlabel('Hora del día')\n",
    "ax1.set(xticks=np.arange(0, 24))\n",
    "\n",
    "#leyenda\n",
    "plots = plot1 +plot2\n",
    "labels = [l.get_label() for l in plots]\n",
    "plt.legend(plots, labels, loc = 'center right')\n",
    "\n",
    "plt.title('Velocidad del viento y potencia durante el día a %.0f m de altura'%(h))\n",
    "plt.show()"
   ]
  },
  {
   "cell_type": "markdown",
   "metadata": {},
   "source": [
    "De la gráfica anterior podemos observar que a partir de las 3h, cuando el viento supera la velocidad de arranque del aerogenerador de 3m/s, se comienza a generar potencia medida que el viento incrementa su fuerza con el paso de las horas, con algunos altibajos, llegándose a obtener una potencia de hasta 17,7 KW, con velocidades de poco más de 13 m/s. Sin embargo, al llegar las 11h el viento supera la velocidad de desconexión de 14 m/s, por lo que el aerogenerador se desconecta por seguridad y deja de producir potencia. No es sino después de las 14h cuando el viento vuelve a registrar velocidades seguras por debajo de la de desconexión, gerándose potencias de hasta 12,5 KW que van descendiendo sostenidamente a medida que pasan las horas por el descenso de la intensidad del viento hasta que llegamos a las 21h, cuando la velocidad del viento se vuelve menor que la  de arranque necesaria, 3 m/s, y por lo tanto, se pierde toda capacidad generadora de potencia."
   ]
  },
  {
   "cell_type": "markdown",
   "metadata": {},
   "source": [
    "## Calculo de la energía estimada por día\n",
    "\n",
    "Para calcular la energía generada durante el día debemos sumar las potencias de cada hora"
   ]
  },
  {
   "cell_type": "code",
   "execution_count": 20,
   "metadata": {},
   "outputs": [
    {
     "name": "stdout",
     "output_type": "stream",
     "text": [
      "La energía promedio generable durante un día es 73482.27077271225 Wh/dia\n"
     ]
    }
   ],
   "source": [
    "Energia_dia = TablaVientos['P_air'].sum()\n",
    "print('La energía promedio generable durante un día es {} Wh/dia'.format(Energia_dia))"
   ]
  },
  {
   "cell_type": "markdown",
   "metadata": {},
   "source": [
    "Como resultado, tomando en cuenta los datos suministrados para este aerogenerador en esta localización con los vientos promedios suministrados, podríamos generar por día un promedio de **73,48 KWh por día**. Sin embargo, no hemos tomado en cuenta el coeficiente de potencia del generador, que limita considerablemente la energía generable. Como límite superior consideramos el de Betz (1919), quien lo fijó en 59,26%."
   ]
  },
  {
   "cell_type": "code",
   "execution_count": 21,
   "metadata": {},
   "outputs": [
    {
     "name": "stdout",
     "output_type": "stream",
     "text": [
      "Máxima energía generable por límite de Betz durante un día es 43545.59365990928 Wh/dia\n"
     ]
    }
   ],
   "source": [
    "Energia_Betz = Energia_dia * 0.5926\n",
    "print('Máxima energía generable por límite de Betz durante un día es {} Wh/dia'.format(Energia_Betz))"
   ]
  },
  {
   "cell_type": "markdown",
   "metadata": {},
   "source": [
    "Tomando en cuenta el límite de Betz, nuestro aerogenerador podrá generar en esta localización un máximo de **43,546 Kwh por día**."
   ]
  },
  {
   "cell_type": "markdown",
   "metadata": {},
   "source": [
    "### Apéndice\n",
    "\n",
    "Podemos exportar la tabla generada a un archivo externo, por ejemplo a un formato CSV (comma separated values) que es compatible con editores de texo y hojas de cálculo. Para mayor comodidad, podemos redondear los valores de algunas columnas a pocos decimales, justamente las que calculamos."
   ]
  },
  {
   "cell_type": "code",
   "execution_count": null,
   "metadata": {},
   "outputs": [],
   "source": [
    "TablaVientos['m/s'] = TablaVientos['m/s'].round(decimals = 3)\n",
    "TablaVientos['V_h'] = TablaVientos['V_h'].round(decimals = 3)\n",
    "TablaVientos['P_air'] = TablaVientos['P_air'].round(decimals = 3)\n",
    "\n",
    "TablaVientos.head()"
   ]
  },
  {
   "cell_type": "code",
   "execution_count": null,
   "metadata": {},
   "outputs": [],
   "source": [
    "TablaVientos.to_csv(\"Vientos-potencias.csv\", index=False)"
   ]
  },
  {
   "cell_type": "code",
   "execution_count": null,
   "metadata": {},
   "outputs": [],
   "source": []
  },
  {
   "cell_type": "code",
   "execution_count": null,
   "metadata": {},
   "outputs": [],
   "source": [
    "#Ejecutar si se necesita eliminar la columna generada\n",
    "TablaVientos.drop('P_air', axis = 1, inplace=True)"
   ]
  }
 ],
 "metadata": {
  "kernelspec": {
   "display_name": "Python 3",
   "language": "python",
   "name": "python3"
  },
  "language_info": {
   "codemirror_mode": {
    "name": "ipython",
    "version": 3
   },
   "file_extension": ".py",
   "mimetype": "text/x-python",
   "name": "python",
   "nbconvert_exporter": "python",
   "pygments_lexer": "ipython3",
   "version": "3.8.3"
  }
 },
 "nbformat": 4,
 "nbformat_minor": 4
}
