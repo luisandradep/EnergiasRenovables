{
 "cells": [
  {
   "cell_type": "markdown",
   "metadata": {},
   "source": [
    "# Ejemplo practico energia solar termica para suministro de ACS para un edificio multifamiliar\n",
    "\n",
    "Se quiere desarrollar un proyecto de instalación solar térmica de baja temperatura para\n",
    "suministro de agua caliente sanitaria (ACS) en un edificio residencial multifamiliar a rehabilitar. El edificio está situado en Alcalá de Henares (Madrid).\n",
    "\n",
    "\n",
    "La instalación está compuesta por el sistema de captación solar, con panel solar plano, situado en una cubierta del edificio con orientación sur e inclinación 60°; un sistema de intercambio y una acumulación centralizada. El sistema de aporte de energía convencional auxiliar es de gas natural, en línea descentralizado, en cada vivienda.\n",
    "\n",
    "El proyecto se realiza cumpliendo el RD 314/2006 CTE, DB-HE: Ahorro de energía, sección HE 4\n",
    "(“Contribución solar mínima de ACS”). A continuación, se desarrollan los puntos básicos del proyecto:\n",
    "\n",
    "* Localidad: Alcalá de Henares (Madrid).\n",
    "* Latitud: 40,5° N.\n",
    "* Zona climática: IV.\n",
    "* Tipo de edificio: residencia multifamiliar, 10 viviendas de 4 dormitorios, 40 viviendas de 3 dormitorios y 20 de 2 dormitorios.\n",
    "* Tipo de integración de captadores: superposición.\n",
    "* Sistema de energía auxiliar: gas natural.\n",
    "* Orientación de campo de captadores: sur.\n",
    "* Inclinación de campo de captadores: 55°.\n",
    "* Condiciones del entorno: sin sombras posibles."
   ]
  },
  {
   "cell_type": "markdown",
   "metadata": {},
   "source": [
    "Estimación de la demanda energética de ACS. Según lo estipulado en el CTE DB-HE4\n",
    "\n",
    "| Nro. Dormitorios | Nro. Personas |\n",
    "| ---------------- | ------------- |\n",
    "| 1 | 1,5 |\n",
    "| 2 | 3 |\n",
    "| 3 | 4 |\n",
    "| 4 | 6 |\n",
    "| 5 | 7 |\n",
    "| 6 | 8 |\n",
    "| 7 | 9 |\n",
    "| >7 | 1 por dorm. |\n",
    "\n",
    "El consumo de ACS estimado se toma según el valor mínimo recomendado por el CTE HE-4 3.1.1.1\n",
    "para vivienda multifamiliar 22 l/día. Así pues, el consumo diario total de la vivienda es:\n",
    "\n",
    "| Nro. dormitorios | Nro. viviendas. | Nro. personas |\n",
    "| ---------------- | --------------- | ------------- |\n",
    "| 4 | 10 | 6 |\n",
    "| 3 | 40 | 4 |\n",
    "| 2 | 20 | 3 |"
   ]
  },
  {
   "cell_type": "code",
   "execution_count": 1,
   "metadata": {},
   "outputs": [
    {
     "name": "stdout",
     "output_type": "stream",
     "text": [
      "Total de habitantes en el edificio: 280 personas\n",
      "El edificio requiere 6160 litros de ACS diariamente\n"
     ]
    }
   ],
   "source": [
    "Total_personas = (10*6)+(40*4)+(20*3)\n",
    "Consumo_diario = 22 * Total_personas\n",
    "print(\"Total de habitantes en el edificio: {} personas\".format(Total_personas))\n",
    "print(\"El edificio requiere {} litros de ACS diariamente\".format(Consumo_diario))"
   ]
  },
  {
   "cell_type": "markdown",
   "metadata": {},
   "source": [
    "| Total residentes | Consumo/persona | Consumo total ACS |\n",
    "| ---------------- | --------------- | ----------------- |\n",
    "| 280 | 22 l/día | **6.160 l/día (6,16 m3/día)** |\n",
    "\n",
    "La actualización del CTE, de septiembre de 2013, no hace distinción en cuanto a los litros estimados de ACS por persona y día según se trate de vivienda unifamiliar o multifamiliar, fijando ese volumen en 28 l/persona/día. Bajo este principio, la demanda total de agua caliente estará en **7.840 l/día** o **7,84 $m^3$/día**. La temperatura final de acumulación se supone $T_{ACS}$ = 60 °C .\n",
    "\n",
    "La norma CTE 2006 establece los siguientes porcentajes mínimos de generación de ACS con energía renovable en función de la zona climática y la demanda total de agua:\n",
    "![contribucion-solar-minima-ACS-2006](contribucion-solar-minima-ACS-2006.jpg)\n",
    "\n",
    "En cualquiera de los dos casos de consumo de agua mencionados, la contribución solar mínima exigida bajo esta norma es 70%. Sin embargo, la regulación CTE de 2013 hizo ajustes y simplificaciones a esta aportación:\n",
    "![contribucion-solar-minima-ACS](contribucion-solar-minima-ACS.jpg)\n",
    "\n",
    "Bajo estas condiciones, la contribución solar mínima sería en este caso del 60%. Pero para este ejercicio nos regiremos por el estándar de 2006, tanto para el consumo como para la contribución mínima."
   ]
  },
  {
   "cell_type": "markdown",
   "metadata": {},
   "source": [
    "Debemos determinar la demanda energética anual de este edificio para saber cuánto debe aportar la energía solar como mínimo, 70% de la demanda energética.\n",
    "\n",
    "La demanda energética mensual para un mes *i* viene dada por la siguiente fórmula:\n",
    "\n",
    "$ DE_{mes,i} = D_{dia}.N_{días,i}.C_p.\\rho.(T_{ACS}-T_{red,i}) $\n",
    "\n",
    "Donde:\n",
    "* $D_{dia}$: Demanda diaria de ACS ($m^3$)\n",
    "* $N_{días,i}$: Número de días del mes *i*\n",
    "* $C_p$: Calor específico del agua (1 Kcal/Kg.°C)\n",
    "* $\\rho$: Densidad del agua, típicamente 1.000 Kg/$m^3$\n",
    "* $T_{ACS}$: Temperatura de agua caliente, 60 °C\n",
    "* $T_{red,i}$: Temperatura promedio de agua de red en el mes *i*\n",
    "\n",
    "La Demanda energética obtenida de la anterior ecuación viene expresada en Kcal, para transformarla a KWh es neceario escarlarla por $1,16.10^{-3} KWh/Kcal$.\n",
    "\n",
    "La siguiente tabla nos ilustra las temperaturas de agua de red mensuales, $T_{red}$, para cada capital provincial de España.\n",
    "\n",
    "![Temperaturas-agua_red-Esp-mes](Temperaturas-agua_red-Esp-mes.png)\n",
    "\n",
    "Alcalá de Henares está muy próxima a Madrid, pero a una elevación de 594 m.s.n.m., 61 metros más bajo que Madrid. Bien pudiéramos despreciar el efecto de esa pequeña diferencia de altitud, pero podemos aplicar la fórmula de ajuste de temperaturas de la guía ASIT en función de la diferencia de altitud con respecto a una referencia cercana conocida y el mes de año:\n",
    "\n",
    "$T_{red,i} = T_{redCP,i} - B.\\Delta Z$\n",
    "\n",
    "Donde:\n",
    "\n",
    "* $T_{redCP,i}$: Temperatura por mes de agua de red de la capital provincial, valor conocido\n",
    "* B: Constante equivalente a 0,0066 para los meses de octubre a marzo y 0,0033 para los meses de abril a septiembre.\n",
    "* $\\Delta Z$: Diferencia de altura entre la nueva localidad y la capital provincial.\n",
    "\n",
    "Procedemos a calcular la temperatura de agua de red aproximada para Alcalá de Henares tomando en cuenta su diferencia de altitud con respecto a Madrid y la constante B para los distintos meses del año:"
   ]
  },
  {
   "cell_type": "code",
   "execution_count": 2,
   "metadata": {},
   "outputs": [
    {
     "data": {
      "text/plain": [
       "[8.4, 8.4, 10.4, 12.2, 14.2, 17.2, 20.2, 19.2, 17.2, 13.4, 10.4, 8.4]"
      ]
     },
     "execution_count": 2,
     "metadata": {},
     "output_type": "execute_result"
    }
   ],
   "source": [
    "meses = ['ENE','FEB','MAR','ABR','MAY','JUN','JUL','AGO','SEP','OCT','NOV','DIC']\n",
    "dias = [31,28,31,30,31,30,31,31,30,31,30,31]\n",
    "Tred_MAD = [8,8,10,12,14,17,20,19,17,13,10,8]\n",
    "DZ = 594 - 655\n",
    "Tred = []\n",
    "for i in range(12):\n",
    "    if i in [0,1,2,9,10,11]: #En Python el primer indice es 0, correspondiente a enero, dic. es 11\n",
    "        Tred.append(round(Tred_MAD[i] - 0.0066*DZ, 1))\n",
    "    else:\n",
    "        Tred.append(round(Tred_MAD[i] - 0.0033*DZ, 1))\n",
    "Tred"
   ]
  },
  {
   "cell_type": "markdown",
   "metadata": {},
   "source": [
    "Una vez tenemos conocida la temperatura de red local, calculamos la demanda energética requerida para calentar el ACS a 60°C."
   ]
  },
  {
   "cell_type": "code",
   "execution_count": 3,
   "metadata": {},
   "outputs": [
    {
     "data": {
      "text/plain": [
       "[11430.1,\n",
       " 10323.96,\n",
       " 10987.07,\n",
       " 10246.79,\n",
       " 10145.32,\n",
       " 9174.95,\n",
       " 8816.24,\n",
       " 9037.75,\n",
       " 9174.95,\n",
       " 10322.53,\n",
       " 10632.65,\n",
       " 11430.1]"
      ]
     },
     "execution_count": 3,
     "metadata": {},
     "output_type": "execute_result"
    }
   ],
   "source": [
    "DE_mes = []\n",
    "for i in range(12):\n",
    "    DE_mes.append(round(0.00116*(Consumo_diario/1000)*dias[i]*1*1000*(60-Tred[i]), 2))\n",
    "DE_mes"
   ]
  },
  {
   "cell_type": "markdown",
   "metadata": {},
   "source": [
    "Para facilitar nuestra lectura y almacenamiento de la información, la cargamos a una tabla Pandas:"
   ]
  },
  {
   "cell_type": "code",
   "execution_count": 4,
   "metadata": {},
   "outputs": [
    {
     "data": {
      "text/html": [
       "<div>\n",
       "<style scoped>\n",
       "    .dataframe tbody tr th:only-of-type {\n",
       "        vertical-align: middle;\n",
       "    }\n",
       "\n",
       "    .dataframe tbody tr th {\n",
       "        vertical-align: top;\n",
       "    }\n",
       "\n",
       "    .dataframe thead th {\n",
       "        text-align: right;\n",
       "    }\n",
       "</style>\n",
       "<table border=\"1\" class=\"dataframe\">\n",
       "  <thead>\n",
       "    <tr style=\"text-align: right;\">\n",
       "      <th></th>\n",
       "      <th>MES</th>\n",
       "      <th>DIAS</th>\n",
       "      <th>T_red</th>\n",
       "      <th>DE_mes</th>\n",
       "    </tr>\n",
       "  </thead>\n",
       "  <tbody>\n",
       "    <tr>\n",
       "      <th>0</th>\n",
       "      <td>ENE</td>\n",
       "      <td>31</td>\n",
       "      <td>8.4</td>\n",
       "      <td>11430.10</td>\n",
       "    </tr>\n",
       "    <tr>\n",
       "      <th>1</th>\n",
       "      <td>FEB</td>\n",
       "      <td>28</td>\n",
       "      <td>8.4</td>\n",
       "      <td>10323.96</td>\n",
       "    </tr>\n",
       "    <tr>\n",
       "      <th>2</th>\n",
       "      <td>MAR</td>\n",
       "      <td>31</td>\n",
       "      <td>10.4</td>\n",
       "      <td>10987.07</td>\n",
       "    </tr>\n",
       "    <tr>\n",
       "      <th>3</th>\n",
       "      <td>ABR</td>\n",
       "      <td>30</td>\n",
       "      <td>12.2</td>\n",
       "      <td>10246.79</td>\n",
       "    </tr>\n",
       "    <tr>\n",
       "      <th>4</th>\n",
       "      <td>MAY</td>\n",
       "      <td>31</td>\n",
       "      <td>14.2</td>\n",
       "      <td>10145.32</td>\n",
       "    </tr>\n",
       "    <tr>\n",
       "      <th>5</th>\n",
       "      <td>JUN</td>\n",
       "      <td>30</td>\n",
       "      <td>17.2</td>\n",
       "      <td>9174.95</td>\n",
       "    </tr>\n",
       "    <tr>\n",
       "      <th>6</th>\n",
       "      <td>JUL</td>\n",
       "      <td>31</td>\n",
       "      <td>20.2</td>\n",
       "      <td>8816.24</td>\n",
       "    </tr>\n",
       "    <tr>\n",
       "      <th>7</th>\n",
       "      <td>AGO</td>\n",
       "      <td>31</td>\n",
       "      <td>19.2</td>\n",
       "      <td>9037.75</td>\n",
       "    </tr>\n",
       "    <tr>\n",
       "      <th>8</th>\n",
       "      <td>SEP</td>\n",
       "      <td>30</td>\n",
       "      <td>17.2</td>\n",
       "      <td>9174.95</td>\n",
       "    </tr>\n",
       "    <tr>\n",
       "      <th>9</th>\n",
       "      <td>OCT</td>\n",
       "      <td>31</td>\n",
       "      <td>13.4</td>\n",
       "      <td>10322.53</td>\n",
       "    </tr>\n",
       "    <tr>\n",
       "      <th>10</th>\n",
       "      <td>NOV</td>\n",
       "      <td>30</td>\n",
       "      <td>10.4</td>\n",
       "      <td>10632.65</td>\n",
       "    </tr>\n",
       "    <tr>\n",
       "      <th>11</th>\n",
       "      <td>DIC</td>\n",
       "      <td>31</td>\n",
       "      <td>8.4</td>\n",
       "      <td>11430.10</td>\n",
       "    </tr>\n",
       "  </tbody>\n",
       "</table>\n",
       "</div>"
      ],
      "text/plain": [
       "    MES  DIAS  T_red    DE_mes\n",
       "0   ENE    31    8.4  11430.10\n",
       "1   FEB    28    8.4  10323.96\n",
       "2   MAR    31   10.4  10987.07\n",
       "3   ABR    30   12.2  10246.79\n",
       "4   MAY    31   14.2  10145.32\n",
       "5   JUN    30   17.2   9174.95\n",
       "6   JUL    31   20.2   8816.24\n",
       "7   AGO    31   19.2   9037.75\n",
       "8   SEP    30   17.2   9174.95\n",
       "9   OCT    31   13.4  10322.53\n",
       "10  NOV    30   10.4  10632.65\n",
       "11  DIC    31    8.4  11430.10"
      ]
     },
     "execution_count": 4,
     "metadata": {},
     "output_type": "execute_result"
    }
   ],
   "source": [
    "import pandas as pd\n",
    "\n",
    "df = pd.DataFrame(zip(meses,dias,Tred,DE_mes),columns=['MES','DIAS','T_red','DE_mes'])\n",
    "df.head(12)"
   ]
  },
  {
   "cell_type": "code",
   "execution_count": 5,
   "metadata": {},
   "outputs": [
    {
     "name": "stdout",
     "output_type": "stream",
     "text": [
      "Demanda energética anual: 121722.41 KWh\n",
      "Contribución solar mínima anual: 85206 KWh\n"
     ]
    }
   ],
   "source": [
    "DE_anual = sum(df['DE_mes'])\n",
    "print(\"Demanda energética anual: {} KWh\".format(DE_anual))\n",
    "Contrib_sol_min = 0.7 * DE_anual\n",
    "print(\"Contribución solar mínima anual: {} KWh\".format(round(Contrib_sol_min),2))"
   ]
  },
  {
   "cell_type": "markdown",
   "metadata": {},
   "source": [
    "Este edificio multifamiliar en Alcalá de Henares requiere 121.722,41 KWh para calentar el agua caliente sanitaria durante un año. Dada la demanda diaria de ACS y la zona climática IV donde se ubica la edificación, la contribución solar mínima exigida tiene que ser el 70% de la demanda energética total en un año, según la norma 2006. Es decir que la contribución energética solar mínima deberá ser **85.206 KWh por año**."
   ]
  },
  {
   "cell_type": "markdown",
   "metadata": {},
   "source": [
    "Antes de determinar la configuración de paneles solares debemos conocer primero la radiación solar en la zona en función de la orientación e inclinación de los paneles y afectación de sombras, en el caso que aplique. Asimismo, en este punto debe verificarse el cumplimiento de los límites establecidos por el CTE DBHE4 2006 (2.1.8), de pérdidas por orientación e inclinación y por sombras.\n",
    "\n",
    "La radiación solar resultante viene dada por la siguiente ecuación:\n",
    "\n",
    "$G_{di}(\\beta) = k. G_{di}(0)$\n",
    "\n",
    "$G_{di}(0)$ es la radiación horizontal (cero grados de inclinación) promedio mensual que se presenta en la localidad de interés. Dada la gran cercanía con Madrid, los datos conocidos para la capital española son aplicables para Alcalá de Henares.\n",
    "\n",
    "Estos valores, KWh/m2, los almacenamos en la siguiente lista:"
   ]
  },
  {
   "cell_type": "code",
   "execution_count": 6,
   "metadata": {},
   "outputs": [],
   "source": [
    "Gdi_MAD = [1.86,2.94,3.78,5.22,5.81,6.53,7.22,6.42,4.69,3.17,2.08,1.64]"
   ]
  },
  {
   "cell_type": "markdown",
   "metadata": {},
   "source": [
    "El factor k de corrección por mes lo podemos descargar de la tabla de factores k elaborada por Censolar para distntas inclinaciones a una latitud de 40°N:\n",
    "![factorK-correc-radiac-sol-Censolar](factorK-correc-radiac-sol-Censolar.jpg)\n",
    "\n",
    "Los factores k que nos corresponden, latitud 40 e inclinación 55, son:"
   ]
  },
  {
   "cell_type": "code",
   "execution_count": 7,
   "metadata": {},
   "outputs": [],
   "source": [
    "k_55 = [1.4,1.27,1.1,.94,.82,.78,.82,.95,1.15,1.38,1.54,1.52]"
   ]
  },
  {
   "cell_type": "code",
   "execution_count": 8,
   "metadata": {},
   "outputs": [
    {
     "data": {
      "text/plain": [
       "3.4028236589088823"
      ]
     },
     "execution_count": 8,
     "metadata": {},
     "output_type": "execute_result"
    }
   ],
   "source": [
    "k_55_prod = 1\n",
    "for k in k_55:\n",
    "    k_55_prod = k_55_prod * k\n",
    "k_55_prod"
   ]
  },
  {
   "cell_type": "markdown",
   "metadata": {},
   "source": [
    "Las radiaciones solares incidentes con páneles a 55 grados de inclinación mirando hacia el sur por mes, en KWh/m2 son: "
   ]
  },
  {
   "cell_type": "code",
   "execution_count": 9,
   "metadata": {},
   "outputs": [
    {
     "data": {
      "text/plain": [
       "[2.6, 3.73, 4.16, 4.91, 4.76, 5.09, 5.92, 6.1, 5.39, 4.37, 3.2, 2.49]"
      ]
     },
     "execution_count": 9,
     "metadata": {},
     "output_type": "execute_result"
    }
   ],
   "source": [
    "Gdi_55 = []\n",
    "for i in range(12):\n",
    "    Gdi_55.append(round(Gdi_MAD[i]*k_55[i], 2))\n",
    "Gdi_55"
   ]
  },
  {
   "cell_type": "markdown",
   "metadata": {},
   "source": [
    "La energía solar producida en un mes, $EI_{mes}$, por la radiación solar incidente a la inclinación determinada se obtiene multiplicando la radiación mensual promedio inclinada, $G_{di}(\\beta)$ por el número de días del mes.\n",
    "\n",
    "$EI_{mes} = G_{di}(\\beta).N_{días,mes}$"
   ]
  },
  {
   "cell_type": "code",
   "execution_count": 10,
   "metadata": {},
   "outputs": [
    {
     "data": {
      "text/plain": [
       "[80.6,\n",
       " 104.44,\n",
       " 128.96,\n",
       " 147.3,\n",
       " 147.56,\n",
       " 152.7,\n",
       " 183.52,\n",
       " 189.1,\n",
       " 161.7,\n",
       " 135.47,\n",
       " 96.0,\n",
       " 77.19]"
      ]
     },
     "execution_count": 10,
     "metadata": {},
     "output_type": "execute_result"
    }
   ],
   "source": [
    "EI_mes = []\n",
    "for i in range(12):\n",
    "    EI_mes.append(round(Gdi_55[i]*dias[i], 2))\n",
    "EI_mes"
   ]
  },
  {
   "cell_type": "code",
   "execution_count": 11,
   "metadata": {},
   "outputs": [
    {
     "data": {
      "text/html": [
       "<div>\n",
       "<style scoped>\n",
       "    .dataframe tbody tr th:only-of-type {\n",
       "        vertical-align: middle;\n",
       "    }\n",
       "\n",
       "    .dataframe tbody tr th {\n",
       "        vertical-align: top;\n",
       "    }\n",
       "\n",
       "    .dataframe thead th {\n",
       "        text-align: right;\n",
       "    }\n",
       "</style>\n",
       "<table border=\"1\" class=\"dataframe\">\n",
       "  <thead>\n",
       "    <tr style=\"text-align: right;\">\n",
       "      <th></th>\n",
       "      <th>MES</th>\n",
       "      <th>DIAS</th>\n",
       "      <th>G0</th>\n",
       "      <th>k55</th>\n",
       "      <th>G55</th>\n",
       "      <th>EI</th>\n",
       "    </tr>\n",
       "  </thead>\n",
       "  <tbody>\n",
       "    <tr>\n",
       "      <th>0</th>\n",
       "      <td>ENE</td>\n",
       "      <td>31</td>\n",
       "      <td>1.86</td>\n",
       "      <td>1.40</td>\n",
       "      <td>2.60</td>\n",
       "      <td>80.60</td>\n",
       "    </tr>\n",
       "    <tr>\n",
       "      <th>1</th>\n",
       "      <td>FEB</td>\n",
       "      <td>28</td>\n",
       "      <td>2.94</td>\n",
       "      <td>1.27</td>\n",
       "      <td>3.73</td>\n",
       "      <td>104.44</td>\n",
       "    </tr>\n",
       "    <tr>\n",
       "      <th>2</th>\n",
       "      <td>MAR</td>\n",
       "      <td>31</td>\n",
       "      <td>3.78</td>\n",
       "      <td>1.10</td>\n",
       "      <td>4.16</td>\n",
       "      <td>128.96</td>\n",
       "    </tr>\n",
       "    <tr>\n",
       "      <th>3</th>\n",
       "      <td>ABR</td>\n",
       "      <td>30</td>\n",
       "      <td>5.22</td>\n",
       "      <td>0.94</td>\n",
       "      <td>4.91</td>\n",
       "      <td>147.30</td>\n",
       "    </tr>\n",
       "    <tr>\n",
       "      <th>4</th>\n",
       "      <td>MAY</td>\n",
       "      <td>31</td>\n",
       "      <td>5.81</td>\n",
       "      <td>0.82</td>\n",
       "      <td>4.76</td>\n",
       "      <td>147.56</td>\n",
       "    </tr>\n",
       "    <tr>\n",
       "      <th>5</th>\n",
       "      <td>JUN</td>\n",
       "      <td>30</td>\n",
       "      <td>6.53</td>\n",
       "      <td>0.78</td>\n",
       "      <td>5.09</td>\n",
       "      <td>152.70</td>\n",
       "    </tr>\n",
       "    <tr>\n",
       "      <th>6</th>\n",
       "      <td>JUL</td>\n",
       "      <td>31</td>\n",
       "      <td>7.22</td>\n",
       "      <td>0.82</td>\n",
       "      <td>5.92</td>\n",
       "      <td>183.52</td>\n",
       "    </tr>\n",
       "    <tr>\n",
       "      <th>7</th>\n",
       "      <td>AGO</td>\n",
       "      <td>31</td>\n",
       "      <td>6.42</td>\n",
       "      <td>0.95</td>\n",
       "      <td>6.10</td>\n",
       "      <td>189.10</td>\n",
       "    </tr>\n",
       "    <tr>\n",
       "      <th>8</th>\n",
       "      <td>SEP</td>\n",
       "      <td>30</td>\n",
       "      <td>4.69</td>\n",
       "      <td>1.15</td>\n",
       "      <td>5.39</td>\n",
       "      <td>161.70</td>\n",
       "    </tr>\n",
       "    <tr>\n",
       "      <th>9</th>\n",
       "      <td>OCT</td>\n",
       "      <td>31</td>\n",
       "      <td>3.17</td>\n",
       "      <td>1.38</td>\n",
       "      <td>4.37</td>\n",
       "      <td>135.47</td>\n",
       "    </tr>\n",
       "    <tr>\n",
       "      <th>10</th>\n",
       "      <td>NOV</td>\n",
       "      <td>30</td>\n",
       "      <td>2.08</td>\n",
       "      <td>1.54</td>\n",
       "      <td>3.20</td>\n",
       "      <td>96.00</td>\n",
       "    </tr>\n",
       "    <tr>\n",
       "      <th>11</th>\n",
       "      <td>DIC</td>\n",
       "      <td>31</td>\n",
       "      <td>1.64</td>\n",
       "      <td>1.52</td>\n",
       "      <td>2.49</td>\n",
       "      <td>77.19</td>\n",
       "    </tr>\n",
       "  </tbody>\n",
       "</table>\n",
       "</div>"
      ],
      "text/plain": [
       "    MES  DIAS    G0   k55   G55      EI\n",
       "0   ENE    31  1.86  1.40  2.60   80.60\n",
       "1   FEB    28  2.94  1.27  3.73  104.44\n",
       "2   MAR    31  3.78  1.10  4.16  128.96\n",
       "3   ABR    30  5.22  0.94  4.91  147.30\n",
       "4   MAY    31  5.81  0.82  4.76  147.56\n",
       "5   JUN    30  6.53  0.78  5.09  152.70\n",
       "6   JUL    31  7.22  0.82  5.92  183.52\n",
       "7   AGO    31  6.42  0.95  6.10  189.10\n",
       "8   SEP    30  4.69  1.15  5.39  161.70\n",
       "9   OCT    31  3.17  1.38  4.37  135.47\n",
       "10  NOV    30  2.08  1.54  3.20   96.00\n",
       "11  DIC    31  1.64  1.52  2.49   77.19"
      ]
     },
     "execution_count": 11,
     "metadata": {},
     "output_type": "execute_result"
    }
   ],
   "source": [
    "df_rad = pd.DataFrame(zip(meses,dias,Gdi_MAD,k_55,Gdi_55,EI_mes),columns=['MES','DIAS','G0','k55','G55','EI'])\n",
    "df_rad.head(12)"
   ]
  },
  {
   "cell_type": "code",
   "execution_count": 12,
   "metadata": {},
   "outputs": [
    {
     "name": "stdout",
     "output_type": "stream",
     "text": [
      "Proporción de radiación inclinada G55 promedio con respecto a la radiación plana promedio: 97.42%\n",
      "Energía solar que se puede producir en un año con un captador orientado al sur a 55° de inclinación: 1604.54 KWh/m2\n",
      "Superficie de captación necesarios para alcanzar la demanda energética anual: 75.9 m2\n"
     ]
    }
   ],
   "source": [
    "print(\"Proporción de radiación inclinada G55 promedio con respecto a la radiación plana promedio: {}%\".format(round(sum(Gdi_MAD)*100/sum(Gdi_55),2)))\n",
    "print(\"Energía solar que se puede producir en un año con un captador orientado al sur a 55° de inclinación: {} KWh/m2\".format(sum(EI_mes)))\n",
    "print(\"Superficie de captación necesarios para alcanzar la demanda energética anual: {} m2\".format(round(sum(DE_mes)/sum(EI_mes), 1)))"
   ]
  },
  {
   "cell_type": "markdown",
   "metadata": {},
   "source": [
    "La inclinación de 55° alcanza a approvechar el 97,4% de la radiación incidente sobre una superficie plana, lo cual es aceptable. Sin embargo, dicha inclinación optimiza la captación energética en los meses más fríos del año, cuando la demanda energética para calentar ACS es más alta. A esta inclinación, al año un metro cuadrado de captador puede ser capaz de generar 1604,5 Kwh. Para cubrir la demanda energética del edificio sería necesario contar con al menos 75,9 m2 de captadores solares. Como el rendimiento es siempre menor al 100%, esa área de captación se incrementa."
   ]
  },
  {
   "cell_type": "markdown",
   "metadata": {},
   "source": [
    "Concer más del diseño y dimensiones del sistema de captación solar requiere de la aplicación del método *f-chart*. Pero antes necesitamos conocer los parámetros técnicos de los páneles solares a utilizar:\n",
    "\n",
    "| Parámetro | Propiedad |\n",
    "| ---------------- | ----------------- |\n",
    "|Superficie apertura| 2,205 m2 |\n",
    "| Eficiencia óptica | 0,773 |\n",
    "| Coef. glob.perd. | 0,00324 KW/m2.°C |\n",
    "| MAI | 0,922 |\n",
    "| FCint | 0,95 |\n",
    "\n",
    "El método *f-chart* permite calcular de manera empírica la fracción solar mensual o $f_{mes}$ que puede aportar un captador en función de dos variables D1 y D2.\n",
    "\n",
    "$f_{mes} = 1,029.D_1 - 0,065.D_2 - 0,245.D_1^2 + 0,0018.D_2^2 + 0,0215.D_1^3$\n",
    "\n",
    "$D_1$ representa la relación entre la energía absorbida y la demanda energética por mes.\n",
    "\n",
    "$D_1 = {E_{absor} \\over DE_{mes}} = {S_C.\\eta_0.MAI.F_{CInt}.G_{dm}.N_{dias} \\over DE_{mes}}$\n",
    "\n",
    "$S_C$ corresponde a la superficie de captación, incluye todo el arreglo de captadores de 2,205 m2 cada uno. Tenemos pendiente obtener este dato. $\\eta_0$ es la eficiencia óptica de 0,773; el modificador de ángulo de incidencia (MAI) es 0,922; $F_{CInt}$ el factor de corrección del conjunto captador-intercambiador; $G_{dm}$ la irradiación solar diaria promedio para ese mes y $N_{dias}$ el número de días del mes."
   ]
  },
  {
   "cell_type": "markdown",
   "metadata": {},
   "source": [
    "D2 representa las pérdidas del captador con respecto a la demanda mensual. Viene dado por la siguiente ecuación:\n",
    "\n",
    "$D_2 = {E_{perd} \\over DE_{mes}} = {S_C.K_{global}.F_{CInt}.(100 - T_{amb}).FC_{acum}.FC_{ACS}.24.N_{dias} \\over DE_{mes}}$\n",
    "\n",
    "$K_{global}$ es el coeficiente global de pérdida, dato que provee el fabricante de los paneles. $T_{amb}$ corresponde a la temperatura ambiente promedio mensual de la localidad de estudio, información disponible enn portales meteorológicos. Tenemos las siguientes temperaturas promedio de Alcalá de Henares:"
   ]
  },
  {
   "cell_type": "code",
   "execution_count": 14,
   "metadata": {},
   "outputs": [],
   "source": [
    "Tamb_mes = [6,8,11,13,18,23,28,26,21,15,11,7]"
   ]
  },
  {
   "cell_type": "markdown",
   "metadata": {},
   "source": [
    "Con respecto al factor de corrección del acumulador, $FC_{acum}$, tenemos una fórmula empírica que lo relaciona con el volumen del acumulador solar $V_{acum}$:\n",
    "\n",
    "$FC_{acum} = ({{V_{acum} / S_C} \\over {75 l/m^2}})^{-1/4}$\n",
    "\n",
    "A su vez, la proporción entre el volumen del acumulador y la superficie del captador debe estar entre 50 y 180 litros por m2.\n",
    "\n",
    "$50 l/m^2 < \\frac {V_{acum}} {S_C} < 180 l/m^2$"
   ]
  },
  {
   "cell_type": "code",
   "execution_count": 15,
   "metadata": {},
   "outputs": [],
   "source": [
    "import math"
   ]
  },
  {
   "cell_type": "code",
   "execution_count": 16,
   "metadata": {},
   "outputs": [
    {
     "name": "stdout",
     "output_type": "stream",
     "text": [
      "Factor de correccion del acumulador entre 0.8 y 1.11\n"
     ]
    }
   ],
   "source": [
    "Facum_min = round(math.pow(180/75,-0.25), 2)\n",
    "Facum_max = round(math.pow(50/75,-0.25), 2)\n",
    "print(\"Factor de correccion del acumulador entre {} y {}\".format(Facum_min, Facum_max))"
   ]
  },
  {
   "cell_type": "markdown",
   "metadata": {},
   "source": [
    "Tenemos que el factor de corrección del acumulador está entre valores de 0,8 y 1,11. \n",
    "\n",
    "Al principio de este caso determinamos que el consumo diario de ACS en este edificio multifamiliar es de 6.160 litros. El pliego de condiciones técnicas del IDAE recomienda que el volumen de acumulación sea aproximado al del consumo diario. Asumimos este valor como V_{acum}.\n",
    "\n",
    "La fórmula $\\frac {V_{acum}} {S_C}$ la podemos despejar para estimar el rango de superficie de captación que necesitamos:\n",
    "\n",
    "$\\frac {V_{acum}} {50 l/m^2} > {S_C} > \\frac {V_{acum}} {180 l/m^2}$"
   ]
  },
  {
   "cell_type": "code",
   "execution_count": 22,
   "metadata": {},
   "outputs": [
    {
     "name": "stdout",
     "output_type": "stream",
     "text": [
      "Superficie de captación sugerido entre 34.22 y 123.2 m2\n",
      "Número de captadores entre 15.5 y 55.9\n"
     ]
    }
   ],
   "source": [
    "SC_min = Consumo_diario/180\n",
    "SC_max = Consumo_diario/50\n",
    "print(\"Superficie de captación sugerido entre {} y {} m2\".format(round(SC_min,2), round(SC_max,2)))\n",
    "print(\"Número de captadores entre {} y {}\".format(round(SC_min/2.205,1), round(SC_max/2.205,1)))"
   ]
  },
  {
   "cell_type": "markdown",
   "metadata": {},
   "source": [
    "Vamos a asumir la máxima cantidad posible de captadores para asegurar una mayor generación solar de ACS, 56 captadores, aasociado también a un factor de corrección de acumulación $FC_{acum}$ de 1,1. La superficie de captación nos queda en:"
   ]
  },
  {
   "cell_type": "code",
   "execution_count": 59,
   "metadata": {},
   "outputs": [
    {
     "name": "stdout",
     "output_type": "stream",
     "text": [
      "Superficie de captación escogida: 123.5 m2\n"
     ]
    }
   ],
   "source": [
    "SC = round(56 * 2.205,1) \n",
    "print(\"Superficie de captación escogida: {} m2\".format(SC))"
   ]
  },
  {
   "cell_type": "markdown",
   "metadata": {},
   "source": [
    "Contando con la superficie de captación escogida podemos estimar los valores D1:"
   ]
  },
  {
   "cell_type": "code",
   "execution_count": 60,
   "metadata": {},
   "outputs": [
    {
     "data": {
      "text/plain": [
       "[0.59, 0.85, 0.98, 1.2, 1.22, 1.39, 1.74, 1.75, 1.47, 1.1, 0.75, 0.56]"
      ]
     },
     "execution_count": 60,
     "metadata": {},
     "output_type": "execute_result"
    }
   ],
   "source": [
    "D1_mes = []\n",
    "for i in range(12):\n",
    "    D1_mes.append(round(SC*0.773*0.922*0.95*Gdi_55[i]*dias[i]/DE_mes[i], 2))\n",
    "D1_mes"
   ]
  },
  {
   "cell_type": "markdown",
   "metadata": {},
   "source": [
    "Para calcular D2 todavía debemos estimar $FC_{ACS}$, el cual es el factor de corrección que relaciona la temperatura mínima de agua caliente, 60°C en nuestro caso, la del agua de red y la ambiente. Se calcula de la siguiente manera, siendo variable por cada mes:\n",
    "\n",
    "$FC_{ACS} = {11,6 + 1,18.T_{ACSmin} + 3,86.T_{red} - 2,32.T_{amb} \\over 100 - T_{amb}}$"
   ]
  },
  {
   "cell_type": "code",
   "execution_count": 19,
   "metadata": {},
   "outputs": [
    {
     "data": {
      "text/plain": [
       "[1.07, 1.05, 1.09, 1.14, 1.16, 1.24, 1.33, 1.3, 1.27, 1.17, 1.09, 1.06]"
      ]
     },
     "execution_count": 19,
     "metadata": {},
     "output_type": "execute_result"
    }
   ],
   "source": [
    "F_ACS = []\n",
    "for i in range(12):\n",
    "    F_ACS.append(round((11.6+1.18*60+3.86*Tred[i]-2.32*Tamb_mes[i])/(100-Tamb_mes[i]), 2)) \n",
    "F_ACS"
   ]
  },
  {
   "cell_type": "markdown",
   "metadata": {},
   "source": [
    "Ya contamos con todas las variables que nos permitan estimar D2 para cada mes. Importante asegurarse de que el coeficiente de pérdida $K_{global}$ y la demanda energética DE estén en la misma escala, en W o KWh:"
   ]
  },
  {
   "cell_type": "code",
   "execution_count": 61,
   "metadata": {},
   "outputs": [
    {
     "data": {
      "text/plain": [
       "[2.76, 2.65, 2.77, 2.94, 2.94, 3.16, 3.41, 3.34, 3.32, 3.02, 2.77, 2.71]"
      ]
     },
     "execution_count": 61,
     "metadata": {},
     "output_type": "execute_result"
    }
   ],
   "source": [
    "D2_mes = []\n",
    "for i in range(12):\n",
    "    D2_mes.append(round(SC*0.00324*0.95*(100-Tamb_mes[i])*round(math.pow((Consumo_diario/SC)/75,-0.25), 2)*F_ACS[i]*24*dias[i]/(DE_mes[i]), 2))\n",
    "D2_mes"
   ]
  },
  {
   "cell_type": "markdown",
   "metadata": {},
   "source": [
    "Con estos datos ya podemos calcular la fracción solar mensual del método *f-chart*:"
   ]
  },
  {
   "cell_type": "code",
   "execution_count": 62,
   "metadata": {},
   "outputs": [
    {
     "data": {
      "text/plain": [
       "[0.3606,\n",
       " 0.5512,\n",
       " 0.6271,\n",
       " 0.7436,\n",
       " 0.7542,\n",
       " 0.8273,\n",
       " 0.9612,\n",
       " 0.9686,\n",
       " 0.8555,\n",
       " 0.6842,\n",
       " 0.4768,\n",
       " 0.3403]"
      ]
     },
     "execution_count": 62,
     "metadata": {},
     "output_type": "execute_result"
    }
   ],
   "source": [
    "f_mes = []\n",
    "for i in range(12):\n",
    "    f_mes.append(round(1.029*D1_mes[i]-0.065*D2_mes[i]-0.245*math.pow(D1_mes[i],2)+0.0018*math.pow(D2_mes[i],2)+0.0215*math.pow(D1_mes[i],3), 4))\n",
    "f_mes"
   ]
  },
  {
   "cell_type": "markdown",
   "metadata": {},
   "source": [
    "Una vez que conocemos la fracción de cada mes, podemos estimar la energía solar útil aportada al agua multiplicando dicha fracción por la correspondiente demanda energética de cada mes:\n",
    "\n",
    "$EU_{solar,mes} = f_{mes}.DE_{mes}$"
   ]
  },
  {
   "cell_type": "code",
   "execution_count": 63,
   "metadata": {},
   "outputs": [
    {
     "data": {
      "text/plain": [
       "[4121.69,\n",
       " 5690.57,\n",
       " 6889.99,\n",
       " 7619.51,\n",
       " 7651.6,\n",
       " 7590.44,\n",
       " 8474.17,\n",
       " 8753.96,\n",
       " 7849.17,\n",
       " 7062.68,\n",
       " 5069.65,\n",
       " 3889.66]"
      ]
     },
     "execution_count": 63,
     "metadata": {},
     "output_type": "execute_result"
    }
   ],
   "source": [
    "EU_solar = []\n",
    "for i in range(12):\n",
    "    EU_solar.append(round(f_mes[i]*DE_mes[i],2))\n",
    "EU_solar"
   ]
  },
  {
   "cell_type": "markdown",
   "metadata": {},
   "source": [
    "Vamos a estimar que porcentaje o fracción solar anual, *f* representa el total de la energía solar útil con respecto a la demanda energética anual:\n",
    "$f = \\frac {\\sum EU_{solar,mes}} {\\sum DE_{mes}}$ "
   ]
  },
  {
   "cell_type": "code",
   "execution_count": 64,
   "metadata": {},
   "outputs": [
    {
     "name": "stdout",
     "output_type": "stream",
     "text": [
      "Fracción de la demanda energética aportada por la energía solar: 66.3%\n"
     ]
    }
   ],
   "source": [
    "f = sum(EU_solar) / sum(DE_mes)\n",
    "print(\"Fracción de la demanda energética aportada por la energía solar: {:.1f}%\".format(f*100))"
   ]
  },
  {
   "cell_type": "markdown",
   "metadata": {},
   "source": [
    "Como resultado tenemos que un arreglo de 56 paneles de la descripción técnica dada, en este edificio ubicado en Alcalá de Henares es capaz de proveer un 66,3% de la energía demandada para calentar 6.180 litros diarios de ACS, la cual es almacenada en un acumulador de similar capacidad. Bajo la normativa de 2006 no se llega al mínimo de cobertura de 70%, aunque para la de 2013 se excede el mínimo de 60%. Para llegar al mínimo de 70% será necesario añadir más captadores del tipo determinado, 61 en este caso. No osbtante, en este caso nos restringimos a los 56 paneles"
   ]
  },
  {
   "cell_type": "code",
   "execution_count": 65,
   "metadata": {},
   "outputs": [
    {
     "name": "stdout",
     "output_type": "stream",
     "text": [
      "Contribución solar anual: 80663 KWh\n"
     ]
    }
   ],
   "source": [
    "print(\"Contribución solar anual: {} KWh\".format(round(sum(EU_solar)),2))"
   ]
  },
  {
   "cell_type": "markdown",
   "metadata": {},
   "source": [
    "Al cubrir el 66,3% de la demanda energética anual estamos contribuyendo con **80.663 KWh al año**.\n",
    "\n",
    "Podemos resumir en una tabla los parámetros obtenidos en este caso de estudio:"
   ]
  },
  {
   "cell_type": "code",
   "execution_count": 67,
   "metadata": {},
   "outputs": [
    {
     "data": {
      "text/html": [
       "<div>\n",
       "<style scoped>\n",
       "    .dataframe tbody tr th:only-of-type {\n",
       "        vertical-align: middle;\n",
       "    }\n",
       "\n",
       "    .dataframe tbody tr th {\n",
       "        vertical-align: top;\n",
       "    }\n",
       "\n",
       "    .dataframe thead th {\n",
       "        text-align: right;\n",
       "    }\n",
       "</style>\n",
       "<table border=\"1\" class=\"dataframe\">\n",
       "  <thead>\n",
       "    <tr style=\"text-align: right;\">\n",
       "      <th></th>\n",
       "      <th>MES</th>\n",
       "      <th>DIAS</th>\n",
       "      <th>T_RED</th>\n",
       "      <th>T_AMB</th>\n",
       "      <th>GDI_35</th>\n",
       "      <th>DE_MES</th>\n",
       "      <th>D1</th>\n",
       "      <th>D2</th>\n",
       "      <th>F_MES</th>\n",
       "      <th>EU_SOL</th>\n",
       "    </tr>\n",
       "  </thead>\n",
       "  <tbody>\n",
       "    <tr>\n",
       "      <th>0</th>\n",
       "      <td>ENE</td>\n",
       "      <td>31</td>\n",
       "      <td>8.4</td>\n",
       "      <td>6</td>\n",
       "      <td>2.60</td>\n",
       "      <td>11430.10</td>\n",
       "      <td>0.59</td>\n",
       "      <td>2.76</td>\n",
       "      <td>0.3606</td>\n",
       "      <td>4121.69</td>\n",
       "    </tr>\n",
       "    <tr>\n",
       "      <th>1</th>\n",
       "      <td>FEB</td>\n",
       "      <td>28</td>\n",
       "      <td>8.4</td>\n",
       "      <td>8</td>\n",
       "      <td>3.73</td>\n",
       "      <td>10323.96</td>\n",
       "      <td>0.85</td>\n",
       "      <td>2.65</td>\n",
       "      <td>0.5512</td>\n",
       "      <td>5690.57</td>\n",
       "    </tr>\n",
       "    <tr>\n",
       "      <th>2</th>\n",
       "      <td>MAR</td>\n",
       "      <td>31</td>\n",
       "      <td>10.4</td>\n",
       "      <td>11</td>\n",
       "      <td>4.16</td>\n",
       "      <td>10987.07</td>\n",
       "      <td>0.98</td>\n",
       "      <td>2.77</td>\n",
       "      <td>0.6271</td>\n",
       "      <td>6889.99</td>\n",
       "    </tr>\n",
       "    <tr>\n",
       "      <th>3</th>\n",
       "      <td>ABR</td>\n",
       "      <td>30</td>\n",
       "      <td>12.2</td>\n",
       "      <td>13</td>\n",
       "      <td>4.91</td>\n",
       "      <td>10246.79</td>\n",
       "      <td>1.20</td>\n",
       "      <td>2.94</td>\n",
       "      <td>0.7436</td>\n",
       "      <td>7619.51</td>\n",
       "    </tr>\n",
       "    <tr>\n",
       "      <th>4</th>\n",
       "      <td>MAY</td>\n",
       "      <td>31</td>\n",
       "      <td>14.2</td>\n",
       "      <td>18</td>\n",
       "      <td>4.76</td>\n",
       "      <td>10145.32</td>\n",
       "      <td>1.22</td>\n",
       "      <td>2.94</td>\n",
       "      <td>0.7542</td>\n",
       "      <td>7651.60</td>\n",
       "    </tr>\n",
       "    <tr>\n",
       "      <th>5</th>\n",
       "      <td>JUN</td>\n",
       "      <td>30</td>\n",
       "      <td>17.2</td>\n",
       "      <td>23</td>\n",
       "      <td>5.09</td>\n",
       "      <td>9174.95</td>\n",
       "      <td>1.39</td>\n",
       "      <td>3.16</td>\n",
       "      <td>0.8273</td>\n",
       "      <td>7590.44</td>\n",
       "    </tr>\n",
       "    <tr>\n",
       "      <th>6</th>\n",
       "      <td>JUL</td>\n",
       "      <td>31</td>\n",
       "      <td>20.2</td>\n",
       "      <td>28</td>\n",
       "      <td>5.92</td>\n",
       "      <td>8816.24</td>\n",
       "      <td>1.74</td>\n",
       "      <td>3.41</td>\n",
       "      <td>0.9612</td>\n",
       "      <td>8474.17</td>\n",
       "    </tr>\n",
       "    <tr>\n",
       "      <th>7</th>\n",
       "      <td>AGO</td>\n",
       "      <td>31</td>\n",
       "      <td>19.2</td>\n",
       "      <td>26</td>\n",
       "      <td>6.10</td>\n",
       "      <td>9037.75</td>\n",
       "      <td>1.75</td>\n",
       "      <td>3.34</td>\n",
       "      <td>0.9686</td>\n",
       "      <td>8753.96</td>\n",
       "    </tr>\n",
       "    <tr>\n",
       "      <th>8</th>\n",
       "      <td>SEP</td>\n",
       "      <td>30</td>\n",
       "      <td>17.2</td>\n",
       "      <td>21</td>\n",
       "      <td>5.39</td>\n",
       "      <td>9174.95</td>\n",
       "      <td>1.47</td>\n",
       "      <td>3.32</td>\n",
       "      <td>0.8555</td>\n",
       "      <td>7849.17</td>\n",
       "    </tr>\n",
       "    <tr>\n",
       "      <th>9</th>\n",
       "      <td>OCT</td>\n",
       "      <td>31</td>\n",
       "      <td>13.4</td>\n",
       "      <td>15</td>\n",
       "      <td>4.37</td>\n",
       "      <td>10322.53</td>\n",
       "      <td>1.10</td>\n",
       "      <td>3.02</td>\n",
       "      <td>0.6842</td>\n",
       "      <td>7062.68</td>\n",
       "    </tr>\n",
       "    <tr>\n",
       "      <th>10</th>\n",
       "      <td>NOV</td>\n",
       "      <td>30</td>\n",
       "      <td>10.4</td>\n",
       "      <td>11</td>\n",
       "      <td>3.20</td>\n",
       "      <td>10632.65</td>\n",
       "      <td>0.75</td>\n",
       "      <td>2.77</td>\n",
       "      <td>0.4768</td>\n",
       "      <td>5069.65</td>\n",
       "    </tr>\n",
       "    <tr>\n",
       "      <th>11</th>\n",
       "      <td>DIC</td>\n",
       "      <td>31</td>\n",
       "      <td>8.4</td>\n",
       "      <td>7</td>\n",
       "      <td>2.49</td>\n",
       "      <td>11430.10</td>\n",
       "      <td>0.56</td>\n",
       "      <td>2.71</td>\n",
       "      <td>0.3403</td>\n",
       "      <td>3889.66</td>\n",
       "    </tr>\n",
       "  </tbody>\n",
       "</table>\n",
       "</div>"
      ],
      "text/plain": [
       "    MES  DIAS  T_RED  T_AMB  GDI_35    DE_MES    D1    D2   F_MES   EU_SOL\n",
       "0   ENE    31    8.4      6    2.60  11430.10  0.59  2.76  0.3606  4121.69\n",
       "1   FEB    28    8.4      8    3.73  10323.96  0.85  2.65  0.5512  5690.57\n",
       "2   MAR    31   10.4     11    4.16  10987.07  0.98  2.77  0.6271  6889.99\n",
       "3   ABR    30   12.2     13    4.91  10246.79  1.20  2.94  0.7436  7619.51\n",
       "4   MAY    31   14.2     18    4.76  10145.32  1.22  2.94  0.7542  7651.60\n",
       "5   JUN    30   17.2     23    5.09   9174.95  1.39  3.16  0.8273  7590.44\n",
       "6   JUL    31   20.2     28    5.92   8816.24  1.74  3.41  0.9612  8474.17\n",
       "7   AGO    31   19.2     26    6.10   9037.75  1.75  3.34  0.9686  8753.96\n",
       "8   SEP    30   17.2     21    5.39   9174.95  1.47  3.32  0.8555  7849.17\n",
       "9   OCT    31   13.4     15    4.37  10322.53  1.10  3.02  0.6842  7062.68\n",
       "10  NOV    30   10.4     11    3.20  10632.65  0.75  2.77  0.4768  5069.65\n",
       "11  DIC    31    8.4      7    2.49  11430.10  0.56  2.71  0.3403  3889.66"
      ]
     },
     "execution_count": 67,
     "metadata": {},
     "output_type": "execute_result"
    }
   ],
   "source": [
    "columnas = ['MES','DIAS','T_RED','T_AMB','GDI_35','DE_MES','D1','D2','F_MES','EU_SOL']\n",
    "df2 = pd.DataFrame(zip(meses,dias,Tred,Tamb_mes,Gdi_55,DE_mes,D1_mes,D2_mes,f_mes,EU_solar),columns=columnas)\n",
    "df2.head(12)"
   ]
  },
  {
   "cell_type": "code",
   "execution_count": 76,
   "metadata": {},
   "outputs": [],
   "source": [
    "import matplotlib.pyplot as plt"
   ]
  },
  {
   "cell_type": "code",
   "execution_count": 77,
   "metadata": {},
   "outputs": [
    {
     "data": {
      "text/plain": [
       "<matplotlib.axes._subplots.AxesSubplot at 0x14c5aa6c0d0>"
      ]
     },
     "execution_count": 77,
     "metadata": {},
     "output_type": "execute_result"
    },
    {
     "data": {
      "image/png": "[encoded data removed]",
      "text/plain": [
       "<Figure size 432x288 with 1 Axes>"
      ]
     },
     "metadata": {
      "needs_background": "light"
     },
     "output_type": "display_data"
    }
   ],
   "source": [
    "df2.plot(x = 'MES', y = ['DE_MES','EU_SOL'], kind = 'bar')"
   ]
  },
  {
   "cell_type": "markdown",
   "metadata": {},
   "source": [
    "Lo que dictamina el CTE DB-HE-4 de 2013 con respecto a la protección contra los sobrecalentamientos es que en ningún mes la generación solar debe superar en un 10% a la demanda energética estimada y que dicha generación no puede superar la demanda en tres meses seguidos. En nuestro caso, en ningún mes se alcanza a cubrir el 100% de la demanda energética mensual. Por lo tanto, estamos dentro de las normas.\n",
    "\n",
    "Calculemosr el rendimiento medio anual de la instalación, que resulta de sacar la proporción de la sumatoria anual de la energía solar útil entre el producto de la superficie de captación por la sumatoria anual de la energía incidente EI:\n",
    "\n",
    "$\\eta_{sistema} = {\\sum EU_{solar} \\over \\sum S_C.EI_{mes}}$"
   ]
  },
  {
   "cell_type": "code",
   "execution_count": 69,
   "metadata": {},
   "outputs": [
    {
     "name": "stdout",
     "output_type": "stream",
     "text": [
      "Rendimiento anual del sistema: 40.7%\n"
     ]
    }
   ],
   "source": [
    "print(\"Rendimiento anual del sistema: {:.1f}%\".format(100*sum(EU_solar)/(SC*sum(EI_mes))))"
   ]
  },
  {
   "cell_type": "markdown",
   "metadata": {},
   "source": [
    "El rendimiento medio anual del sistema es de **40,7%**, en cumplimiento con la norma CTE DB-HE 4 2006 que busca un rendimiento igual o superior al 40%."
   ]
  },
  {
   "cell_type": "markdown",
   "metadata": {},
   "source": [
    "En instalaciones grandes, se dispone un intercambiador externo al acumulador. El requisito de potencia exigido por el CTE DB-HE4 para los intercambiadores externos es:\n",
    "\n",
    "$P_{inter} (W) >= 500 . SC$"
   ]
  },
  {
   "cell_type": "code",
   "execution_count": 70,
   "metadata": {},
   "outputs": [
    {
     "name": "stdout",
     "output_type": "stream",
     "text": [
      "Potencia de intercambiador externo igual o superior a 61.75 KW\n"
     ]
    }
   ],
   "source": [
    "Pinter = 500 * SC\n",
    "print(\"Potencia de intercambiador externo igual o superior a {} KW\".format(round(Pinter/1000,2)))"
   ]
  },
  {
   "cell_type": "markdown",
   "metadata": {},
   "source": [
    "La potencia de intercambiador externo deberá ser igual o superior a 61,75 KW.\n",
    "\n",
    "Volviendo al sistema de captación, el fabricante del captador solar recomienda un caudal de 110 l/h. Como cada captador tiene un área de 2,205 m2, el caudal por área en estos captadores será:"
   ]
  },
  {
   "cell_type": "code",
   "execution_count": 72,
   "metadata": {},
   "outputs": [
    {
     "name": "stdout",
     "output_type": "stream",
     "text": [
      "Caudal por área: 49.89 l/h.m2\n"
     ]
    }
   ],
   "source": [
    "Qarea = 110 / 2.205\n",
    "print(\"Caudal por área: {} l/h.m2\".format(round(Qarea,2)))"
   ]
  },
  {
   "cell_type": "markdown",
   "metadata": {},
   "source": [
    "El fluido de calentamiento pasará a un ritmo de 49,9 l/h por cada m2 de captación.\n",
    "\n",
    "El caudal de flujo viene dado por la siguiente ecuación:\n",
    "\n",
    "$Q (l/h) = Q_{area} . N_{paralelo} . S_{captador}$\n",
    "\n",
    "El número de baterías de captadores en paralelo $N_{paralelo}$ depende mucho del espacio en cubierta, incluido el espacio de separación entre baterías para que no se hagan sombra. Digamos que el edificio puede albergar 7 panales en serie, con lo cual nos quedan 8 baterías paralelas."
   ]
  },
  {
   "cell_type": "code",
   "execution_count": 75,
   "metadata": {},
   "outputs": [
    {
     "name": "stdout",
     "output_type": "stream",
     "text": [
      "Caudal con 8 baterías en paralelo: 880.0 l/h\n"
     ]
    }
   ],
   "source": [
    "Nparal = round(56/7)\n",
    "Q = Qarea * Nparal * 2.205\n",
    "print(\"Caudal con {} baterías en paralelo: {} l/h\".format(Nparal, round(Q,1)))"
   ]
  },
  {
   "cell_type": "markdown",
   "metadata": {},
   "source": [
    "Si no se pueden ubicar tantos paneles en serie, deberá compensarse colocando más series en paralelo, lo cual implicará un mayor caudal de sistema."
   ]
  },
  {
   "cell_type": "code",
   "execution_count": null,
   "metadata": {},
   "outputs": [],
   "source": []
  }
 ],
 "metadata": {
  "kernelspec": {
   "display_name": "Python 3",
   "language": "python",
   "name": "python3"
  },
  "language_info": {
   "codemirror_mode": {
    "name": "ipython",
    "version": 3
   },
   "file_extension": ".py",
   "mimetype": "text/x-python",
   "name": "python",
   "nbconvert_exporter": "python",
   "pygments_lexer": "ipython3",
   "version": "3.8.3"
  }
 },
 "nbformat": 4,
 "nbformat_minor": 4
}
