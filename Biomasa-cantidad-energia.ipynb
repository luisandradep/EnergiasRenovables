{
 "cells": [
  {
   "cell_type": "markdown",
   "metadata": {},
   "source": [
    "### Biomasa: Cantidad y energía"
   ]
  },
  {
   "cell_type": "markdown",
   "metadata": {},
   "source": [
    "El propietario de una explotación agraria de la provincia de Sevilla (España), posee una superficie\n",
    "agrícola tanto de secano como de regadío, así como una cabaña ganadera de bovino y porcino. Debido al\n",
    "coste de tratamiento de los residuos biomásicos que se producen en su explotación, desea analizar las\n",
    "posibilidades de valorización energética de los mismos.\n",
    "\n",
    "Dicha explotación está formada por cultivos herbáceos y leñosos. Dentro del primer grupo, dispone de\n",
    "35 hectáreas de cebada y 21 hectáreas de trigo duro en secano. En cuanto al segundo, dispone de 75\n",
    "hectáreas de naranjos en regadío, 10 hectáreas de almendros y 43 hectáreas de olivo en condiciones de\n",
    "secano. Asimismo, la explotación cuenta con varias naves de vacuno de cebo, que albergan un total de 120\n",
    "cabezas."
   ]
  },
  {
   "cell_type": "markdown",
   "metadata": {},
   "source": [
    "### Se pide:\n",
    "\n",
    "1. Cuantificar la cantidad de biomasa sólida residual que se genera anualmente en la explotación.\n",
    "2. Determinar la energía primaria en la biomasa residual agrícola y ganadera generada.\n",
    "3. Si la biomasa sólida se emplea para la generación térmica, y sustituye al consumo de gasóleo C o de calefacción, el cual tiene un PCI de 10 100 kcal/kg y una densidad de 0,85 kg/l, se desea conocer el ahorro económico que supondría la utilización de biomasa si el precio del litro de gasóleo se pagara a 1,1 €/l.\n",
    "4. Si la biomasa gaseosa se empleara en un motor para la generación eléctrica, el cual tiene un rendimiento del 39 %, cuantificar la cantidad anual de kWh vertidos a la red."
   ]
  },
  {
   "cell_type": "markdown",
   "metadata": {},
   "source": [
    "### Datos:\n",
    "\n",
    "**Factores de generación de residuos:**  \n",
    "Cereales (cebada y trigo): 1,2 t/ha.  \n",
    "Cítricos: 1,6 t/ha.  \n",
    "Frutos secos: 1,5 t/ha.  \n",
    "Olivo: 1,7 t/ha.  \n",
    "1 vaca = 4,80 kg materia orgánica/día = 0,27 m3/kg materia orgánica.\n",
    "\n",
    "**Poderes caloríficos inferior:**  \n",
    "Cereales: 2900 kcal/kg.  \n",
    "Cítricos y frutos secos: 3300 kcal/kg.  \n",
    "Olivo: 3120 kcal/kg.  \n",
    "Biogás: 5500 kcal/m3.  \n",
    "1 kWh = 860 kcal."
   ]
  },
  {
   "cell_type": "markdown",
   "metadata": {},
   "source": [
    "### 1. Estimación de biomasa residual\n",
    "\n",
    "Tenemos los siguientes datos generados anualmente por rubro:\n",
    "\n",
    "| Tipo rubro | Rubro | Extensión/cant | Factor gen. resid. |\n",
    "| ---------- | ----- | -------------- | ----------------- |\n",
    "| Herbáceo | Cebada | 35 ha | 1,2 t/ha |\n",
    "| Herbáceo | Trigo | 21 ha | 1,2 t/ha |\n",
    "| Leñoso | Naranjo | 75 ha | 1,6 t/ha |\n",
    "| Leñoso | Almendro | 10 ha | 1,5 t/ha |\n",
    "| Leñoso | Olivo | 43 ha | 1,7 t/ha |\n",
    "| Vacuno | Cebo | 120 cab | 4,8 kg MO/vaca.dia |\n",
    "\n",
    "Estimamos la cantidad de biomasa residual mediante el producto de las extensiones de cultivo por el factor de generación de residuos de cada uno."
   ]
  },
  {
   "cell_type": "code",
   "execution_count": 1,
   "metadata": {},
   "outputs": [
    {
     "name": "stdout",
     "output_type": "stream",
     "text": [
      "Biomasa residual de cebada: 42.0 t/año\n",
      "Biomasa residual de trigo: 25.2 t/año\n",
      "Biomasa residual de naranjo: 120.0 t/año\n",
      "Biomasa residual de almendro: 15.0 t/año\n",
      "Biomasa residual de olivo: 73.1 t/año\n",
      "Biomasa residual de cebo: 210.2 t/año\n"
     ]
    }
   ],
   "source": [
    "#Extensiones cultivos (ha)\n",
    "ext_ceb = 35\n",
    "ext_trig = 21\n",
    "ext_nar = 75\n",
    "ext_alm = 10\n",
    "ext_oli = 43\n",
    "#Cantidad ganado\n",
    "cant_vac = 120\n",
    "\n",
    "#Factores de generación de residuos (t/ha)\n",
    "FG_ceb = 1.2\n",
    "FG_trig = 1.2\n",
    "FG_nar = 1.6\n",
    "FG_alm = 1.5\n",
    "FG_oli = 1.7\n",
    "#Factor de generación de residuos de ganado (kg/vaca.dia)\n",
    "FG_vac = 4.8\n",
    "\n",
    "#Biomasa residual (t/año)\n",
    "BR_ceb = ext_ceb * FG_ceb\n",
    "print(\"Biomasa residual de cebada: %.1f t/año\" % BR_ceb)\n",
    "BR_trig = ext_trig * FG_trig\n",
    "print(\"Biomasa residual de trigo: %.1f t/año\" % BR_trig)\n",
    "BR_nar = ext_nar * FG_nar\n",
    "print(\"Biomasa residual de naranjo: %.1f t/año\" % BR_nar)\n",
    "BR_alm = ext_alm * FG_alm\n",
    "print(\"Biomasa residual de almendro: %.1f t/año\" % BR_alm)\n",
    "BR_oli = ext_oli * FG_oli\n",
    "print(\"Biomasa residual de olivo: %.1f t/año\" % BR_oli)\n",
    "BR_vac = cant_vac * FG_vac * 365 / 1000\n",
    "print(\"Biomasa residual de cebo: %.1f t/año\" % BR_vac)"
   ]
  },
  {
   "cell_type": "code",
   "execution_count": 3,
   "metadata": {},
   "outputs": [
    {
     "name": "stdout",
     "output_type": "stream",
     "text": [
      "Biomasa residual total vegetal: 275.3 t/año\n",
      "Biomasa residual total: 485.5 t/año\n"
     ]
    }
   ],
   "source": [
    "BR_vegetal = BR_ceb + BR_trig + BR_nar + BR_alm + BR_oli\n",
    "print(\"Biomasa residual total vegetal: %.1f t/año\" % BR_vegetal)\n",
    "BR_total = BR_vegetal + BR_vac\n",
    "print(\"Biomasa residual total: %.1f t/año\" % BR_total)"
   ]
  },
  {
   "cell_type": "markdown",
   "metadata": {},
   "source": [
    "La cantidad anual de biomasa residual por rubro la podemos resumir complemnetando la tabla anterior:\n",
    "\n",
    "| Tipo rubro | Rubro | Extens/cant | Fact. gen. res. | **B.Res. (t/año)** |\n",
    "| ---------- | ----- | ----------- | --------------- | ------------------ |\n",
    "| Herbáceo | Cebada | 35 ha | 1,2 t/ha | **42.0** |\n",
    "| Herbáceo | Trigo | 21 ha | 1,2 t/ha | **25.2** |\n",
    "| Leñoso | Naranjo | 75 ha | 1,6 t/ha | **120.0** |\n",
    "| Leñoso | Almendro | 10 ha | 1,5 t/ha | **15.0** |\n",
    "| Leñoso | Olivo | 43 ha | 1,7 t/ha | **73.1** |\n",
    "| Vacuno | Cebo | 120 cab | 4,8 kg MO/vaca.dia | **210.2** |"
   ]
  },
  {
   "cell_type": "markdown",
   "metadata": {},
   "source": [
    "De los cuales el total de biomasa residual vegetal es **275,3 toneladas/año** y el total incluyendo la de origen animal es **485,5 toneladas/año**."
   ]
  },
  {
   "cell_type": "markdown",
   "metadata": {},
   "source": [
    "## 2. Energía primaria de biomasa residual\n",
    "\n",
    "El cálculo de energía primaria para la biomasa residual se obtiene del producto de la biomasa residual estimada en el enunciado anterior, escalada a kg, por el poder calorífico inferior (PCI) suministrado en la introducción del caso en kcal/kg:\n",
    "\n",
    "| Tipo rubro | Rubro | B.Res. (t/año) | PCI (kcal/kg) |\n",
    "| ---------- | ----- | -------------- | ------------ |\n",
    "| Herbáceo | Cebada | 42.0 | 2900 |\n",
    "| Herbáceo | Trigo | 25.2 | 2900 |\n",
    "| Leñoso | Naranjo | 120.0 | 3300 |\n",
    "| Leñoso | Almendro | 15.0 | 3300 |\n",
    "| Leñoso | Olivo | 73.1 | 3120 |\n",
    "| Vacuno | Cebo | 210.2 | 5500 (1) |\n",
    "\n",
    "(1) Biogas, kcal/m3. Para el caso del ganado vacuno tenemos como dato que 4,8 kg de materia orgánica por día equivalen a 0,27 m3/kg. Dato necesario para escalar la generacíon diaria a m3/día y así estimar la energía asociada a la cantidad de biomasa y PCI el biogas asociado."
   ]
  },
  {
   "cell_type": "code",
   "execution_count": 4,
   "metadata": {},
   "outputs": [
    {
     "name": "stdout",
     "output_type": "stream",
     "text": [
      "Energía primaria cebada: 121800000 kcal/año\n",
      "Energía primaria trigo: 73080000 kcal/año\n",
      "Energía primaria naranja: 396000000 kcal/año\n",
      "Energía primaria almendro: 49500000 kcal/año\n",
      "Energía primaria olivo: 228072000 kcal/año\n",
      "Energía primaria ganado: 312206400 kcal/año\n"
     ]
    }
   ],
   "source": [
    "#PCI #kcal/kg\n",
    "PCI_ceb_tri = 2900\n",
    "PCI_nar_alm = 3300\n",
    "PCI_oli = 3120\n",
    "PCI_vac = 5500 #kcal/m3\n",
    "\n",
    "#Biomasa ganado en m3/año\n",
    "BR_vac_m3 = cant_vac * FG_vac * 0.27 * 365\n",
    "\n",
    "#Energia primaria kcal\n",
    "EP_ceb = BR_ceb*1000 * PCI_ceb_tri\n",
    "print(\"Energía primaria cebada: %.0f kcal/año\" % EP_ceb)\n",
    "EP_trig = BR_trig*1000 * PCI_ceb_tri\n",
    "print(\"Energía primaria trigo: %.0f kcal/año\" % EP_trig)\n",
    "EP_nar = BR_nar*1000 * PCI_nar_alm\n",
    "print(\"Energía primaria naranja: %.0f kcal/año\" % EP_nar)\n",
    "EP_alm = BR_alm*1000 * PCI_nar_alm\n",
    "print(\"Energía primaria almendro: %.0f kcal/año\" % EP_alm)\n",
    "EP_oli = BR_oli*1000 * PCI_oli\n",
    "print(\"Energía primaria olivo: %.0f kcal/año\" % EP_oli)\n",
    "EP_vac = BR_vac_m3 * PCI_vac\n",
    "print(\"Energía primaria ganado: %.0f kcal/año\" % EP_vac)"
   ]
  },
  {
   "cell_type": "code",
   "execution_count": 5,
   "metadata": {},
   "outputs": [
    {
     "name": "stdout",
     "output_type": "stream",
     "text": [
      "Energía primaria total vegetal: 868452000 kcal/año\n",
      "Energía primaria total: 1180658400 kcal/año\n"
     ]
    }
   ],
   "source": [
    "EP_vegetal = EP_ceb + EP_trig + EP_nar + EP_alm + EP_oli\n",
    "print(\"Energía primaria total vegetal: %.0f kcal/año\" % EP_vegetal)\n",
    "EP_total = EP_vegetal + EP_vac\n",
    "print(\"Energía primaria total: %.0f kcal/año\" % EP_total)"
   ]
  },
  {
   "cell_type": "markdown",
   "metadata": {},
   "source": [
    "La tabla anterior con los PCI la podemos actualizar incorporando los valores obtenidos de energía primaria:\n",
    "\n",
    "| Tipo rubro | Rubro | B.Res. (t/año) | PCI (kcal/kg) | Ener. prim (kcal/año) |\n",
    "| ---------- | ----- | -------------- | ------------- | ---------------------- |\n",
    "| Herbáceo | Cebada | 42,0 | 2.900 | **121.800.000** |\n",
    "| Herbáceo | Trigo | 25,2 | 2.900 | **73.080.000** |\n",
    "| Leñoso | Naranjo | 120,0 | 3.300 | **396.000.000** |\n",
    "| Leñoso | Almendro | 15,0 | 3.300 | **49.500.000** |\n",
    "| Leñoso | Olivo | 73,1 | 3.120 | **228.072.000** |\n",
    "| Vacuno | Cebo | 210,2 | 5.500 | **312.206.400** |"
   ]
  },
  {
   "cell_type": "markdown",
   "metadata": {},
   "source": [
    "La energía primaria total de los residuos vegetales es de **868.452.000 kcal/año** y el total incluyendo la asociada a los residuos ganaderos es de **1.180.658.400 kcal/año**."
   ]
  },
  {
   "cell_type": "markdown",
   "metadata": {},
   "source": [
    "### 3. Ahorro económico por sustitución de gasóleo\n",
    "\n",
    "Se nos pide estimar el ahorro asociado a la sustitución de gasóleo por biomasa sólida, de los vegetales, generada. Como datos tenemos que el gasóleo tiene un PCI de 10.100 kcal/kg, una densidad de 0,85 kg/l y un precio de 1,1 €/l.\n",
    "\n",
    "Estimamos que energía primaria anual asociada a los residuos vegetales es de 868.452.000 kcal/año. La masa anual de gasóleo equivalente se obtiene al dividir este valor entre el PCI del gasóleo. Su conversión a volumen la obtenemos al dividir la masa del gasóleo entre su densidad (0,85 kg/l):"
   ]
  },
  {
   "cell_type": "code",
   "execution_count": 7,
   "metadata": {},
   "outputs": [
    {
     "name": "stdout",
     "output_type": "stream",
     "text": [
      "Masa anual equivalente de gasóleo: 85985 kg/año\n",
      "Volumen anual equivalente de gasóleo: 101159 l/año\n"
     ]
    }
   ],
   "source": [
    "#PCI gasóleo kcal/kg\n",
    "PCI_gasol = 10100\n",
    "#Densidad gasóleo kg/l\n",
    "d_gasol = 0.85\n",
    "#Masa equivalente gasóleo kg/año\n",
    "M_gasol = EP_vegetal / PCI_gasol\n",
    "print(\"Masa anual equivalente de gasóleo: %.0f kg/año\" % M_gasol)\n",
    "V_gasol = M_gasol / d_gasol\n",
    "print(\"Volumen anual equivalente de gasóleo: %.0f l/año\" % V_gasol)"
   ]
  },
  {
   "cell_type": "code",
   "execution_count": 8,
   "metadata": {},
   "outputs": [
    {
     "name": "stdout",
     "output_type": "stream",
     "text": [
      "Gasto anual equivalente de gasóleo 111275 euros/año\n"
     ]
    }
   ],
   "source": [
    "#Precio de gasóleo por litro\n",
    "Precio_gasol = 1.1\n",
    "#Gasto anual de gasóleo (euros)\n",
    "Gasto_gasol = Precio_gasol * V_gasol\n",
    "print(\"Gasto anual equivalente de gasóleo %.0f euros/año\" % Gasto_gasol)"
   ]
  },
  {
   "cell_type": "markdown",
   "metadata": {},
   "source": [
    "En litros esa masa de gasóleo equivale a 101.159 litros. A un costo promedio de 1,1 €/l, el gasto anual que nos estaríamos ahorrando por aprovechar la biomasa generada en vez de comprar gasóleo sería **111.275 €**."
   ]
  },
  {
   "cell_type": "markdown",
   "metadata": {},
   "source": [
    "### 4. Generación eléctrica de biogas producido\n",
    "\n",
    "Se nos pide estimar cuanta energía eléctrica en KWh podemos generar a partir del biogas derivado de la biomasa animal producida en un año. Como dato se nos dice que el generador eléctrico tiene un rendimiento de 39%. Además sabemos que 1 KWh = 860 Kcal. La energía primaria generada por el biogas es de 312.206.400 kcal por año."
   ]
  },
  {
   "cell_type": "code",
   "execution_count": 12,
   "metadata": {},
   "outputs": [
    {
     "name": "stdout",
     "output_type": "stream",
     "text": [
      "Energía eléctrica generable a partir de biogas con rendimiento 0.39: 141582 KWh\n"
     ]
    }
   ],
   "source": [
    "Rendim = 0.39\n",
    "#Energía eléctrica generada, KWh\n",
    "Gen_ele = (EP_vac / 860) * Rendim\n",
    "print(\"Energía eléctrica generable a partir de biogas con rendimiento 0.39: %.0f KWh\" % Gen_ele)"
   ]
  },
  {
   "cell_type": "markdown",
   "metadata": {},
   "source": [
    "A la red eléctrica local se le pueden inyectar **141.582 KWh** a partir del biogas generado por los residuos del ganado."
   ]
  },
  {
   "cell_type": "code",
   "execution_count": null,
   "metadata": {},
   "outputs": [],
   "source": []
  }
 ],
 "metadata": {
  "kernelspec": {
   "display_name": "Python 3",
   "language": "python",
   "name": "python3"
  },
  "language_info": {
   "codemirror_mode": {
    "name": "ipython",
    "version": 3
   },
   "file_extension": ".py",
   "mimetype": "text/x-python",
   "name": "python",
   "nbconvert_exporter": "python",
   "pygments_lexer": "ipython3",
   "version": "3.8.3"
  }
 },
 "nbformat": 4,
 "nbformat_minor": 4
}
