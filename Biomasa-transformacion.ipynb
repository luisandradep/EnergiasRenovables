{
 "cells": [
  {
   "cell_type": "markdown",
   "metadata": {},
   "source": [
    "# Biomasa - transformacion\n",
    "\n",
    "Una industria que trabaja la madera ubicada en el término municipal de Sanchonuño, en la provincia de Segovia, se dedica a la fabricación de palés de madera de pino. Como consecuencia del proceso productivo se producen una serie de residuos, entre ellos el serrín, cuya producción diaria es de 500 kg.\n",
    "\n",
    "Para aprovechar ese residuo, dado su componente energético, se instala un horno generador de vapor que mueve un alternador para la producción eléctrica. El fabricante de dicho sistema asegura que el rendimiento global del proceso es del 45 % (porcentaje de energía calorífica que se convierte en energía eléctrica).\n",
    "\n",
    "Sabiendo que la industria trabaja una media de 25 días al mes, que el precio del kWh que se compra a la compañía comercializadora es de 0,12 €, que los gastos de mantenimiento ascienden al 20 % de la energía eléctrica producida y que el poder calorífico del serrín es de 4320 kcal/kg, se pide conocer el ahorro económico al mes que se obtendría por dicho aprovechamiento."
   ]
  },
  {
   "cell_type": "markdown",
   "metadata": {},
   "source": [
    "### Determinación de masa anual de residuos\n",
    "\n",
    "Se informa que por día se producen 500 kg de residuo y que la industria trabaja 25 días al mes, es decir que trabaja 300 días al año (25 días x 12 meses)"
   ]
  },
  {
   "cell_type": "code",
   "execution_count": 15,
   "metadata": {},
   "outputs": [
    {
     "name": "stdout",
     "output_type": "stream",
     "text": [
      "Producción anual: 150000 Kg al año\n"
     ]
    }
   ],
   "source": [
    "resid_anual = 500 * 25 * 12\n",
    "print(\"Producción anual: {} Kg al año\".format(resid_anual))"
   ]
  },
  {
   "cell_type": "markdown",
   "metadata": {},
   "source": [
    "Anualmente se producen 150 toneladas de residuos con potencial biomásico"
   ]
  },
  {
   "cell_type": "markdown",
   "metadata": {},
   "source": [
    "### Poder calorífico de la biomasa anual\n",
    "\n",
    "El poder calorífico del serrín residual es de 4320 Kcal/Kg, que al multiplicarlo por la masa total producida en un año tenemos que:"
   ]
  },
  {
   "cell_type": "code",
   "execution_count": 17,
   "metadata": {},
   "outputs": [
    {
     "name": "stdout",
     "output_type": "stream",
     "text": [
      "Poder calorífico anual: 648000000 Kcal\n"
     ]
    }
   ],
   "source": [
    "Calorias_anual = resid_anual * 4320\n",
    "print(\"Poder calorífico anual: {} Kcal\".format(Calorias_anual))"
   ]
  },
  {
   "cell_type": "markdown",
   "metadata": {},
   "source": [
    "En un año el potencial calorífico del serrín residual producido es de 648 millones de kilocalorías. Un Kwh equivale a 860 Kcal. Por lo que la energía equivalente a producir en un año sería:"
   ]
  },
  {
   "cell_type": "code",
   "execution_count": 20,
   "metadata": {},
   "outputs": [
    {
     "name": "stdout",
     "output_type": "stream",
     "text": [
      "Energía generable anualmente: 753488.3720930233 KWh\n"
     ]
    }
   ],
   "source": [
    "Energ_anual = Calorias_anual / 860\n",
    "print(\"Energía generable anualmente: {} KWh\".format(Energ_anual))"
   ]
  },
  {
   "cell_type": "markdown",
   "metadata": {},
   "source": [
    "753,49 MWh se podrían generar anualmente con el contenido de esta biomasa. Sin embargo, el generador instalado ofrece un rendimiento del 45%, por lo que la energía generada anualmente será de:"
   ]
  },
  {
   "cell_type": "code",
   "execution_count": 21,
   "metadata": {},
   "outputs": [
    {
     "name": "stdout",
     "output_type": "stream",
     "text": [
      "Energía anual producida: 339069.76744186046 KWh\n"
     ]
    }
   ],
   "source": [
    "Energ_an_prod = Energ_anual* 0.45\n",
    "print(\"Energía anual producida: {} KWh\".format(Energ_an_prod))"
   ]
  },
  {
   "cell_type": "markdown",
   "metadata": {},
   "source": [
    "339,07 MWh es lo que producirá el generador a vapor anualmente con la biomasa producida. El costo del KWh comprado es de 0,12 euros. Por lo que el equivalente de la energía producida en euros es:"
   ]
  },
  {
   "cell_type": "code",
   "execution_count": 22,
   "metadata": {},
   "outputs": [
    {
     "name": "stdout",
     "output_type": "stream",
     "text": [
      "Costo equivalente de energía producida: 40688.37209302325 euros/año\n"
     ]
    }
   ],
   "source": [
    "Cost_equiv_energ = Energ_an_prod * 0.12\n",
    "print(\"Costo equivalente de energía producida: {} euros/año\".format(Cost_equiv_energ))"
   ]
  },
  {
   "cell_type": "markdown",
   "metadata": {},
   "source": [
    "El costo que se ahorraría con la energía producida sería de 40.688 euros al año. Sin embargo el equivalente al 20% de la producción se debe destinar anualmente al manteniniento. Por lo que económicamente solo podemos aprovechar el 80% de la energía producida."
   ]
  },
  {
   "cell_type": "code",
   "execution_count": 24,
   "metadata": {},
   "outputs": [
    {
     "name": "stdout",
     "output_type": "stream",
     "text": [
      "Ahorro energético anual: 32550.697674418603 euros/año\n",
      "Ahorro energético mensual: 2712.5581395348836 euros/mes\n"
     ]
    }
   ],
   "source": [
    "Ahorro_ener = Cost_equiv_energ * (1 - 0.2)\n",
    "print(\"Ahorro energético anual: {} euros/año\".format(Ahorro_ener))\n",
    "print(\"Ahorro energético mensual: {} euros/mes\".format(Ahorro_ener / 12))"
   ]
  },
  {
   "cell_type": "markdown",
   "metadata": {},
   "source": [
    "Con la energía generada aprovechando las 150 toneladas biomasa de serrín producidas, el ahorro obtenido al no tener que comprar energía externa es del orden de **32.551 euros al año** o **2.712,56 euros al mes**."
   ]
  },
  {
   "cell_type": "code",
   "execution_count": null,
   "metadata": {},
   "outputs": [],
   "source": []
  }
 ],
 "metadata": {
  "kernelspec": {
   "display_name": "Python 3",
   "language": "python",
   "name": "python3"
  },
  "language_info": {
   "codemirror_mode": {
    "name": "ipython",
    "version": 3
   },
   "file_extension": ".py",
   "mimetype": "text/x-python",
   "name": "python",
   "nbconvert_exporter": "python",
   "pygments_lexer": "ipython3",
   "version": "3.8.3"
  }
 },
 "nbformat": 4,
 "nbformat_minor": 4
}
