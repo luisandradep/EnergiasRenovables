{
 "cells": [
  {
   "cell_type": "markdown",
   "metadata": {},
   "source": [
    "En un gimnasio situado en la provincia de Madrid, con 120 usuarios al día, se quiere diseñar un\n",
    "sistema solar térmico para el suministro de ACS, con generación auxiliar de gasóleo.\n",
    "\n",
    "Se pide determinar la contribución solar mínima según el CTE DB-HE4 y estimar la demanda energética mensual de la instalación.\n",
    "\n",
    "En un emplazamiento de uso general (no residencial), como es un gimnasio, la temperatura final de\n",
    "acumulación debe ser de 60 °C, según el RD 865/2003. Se utilizan los datos de demanda a la\n",
    "temperatura de referencia de 60 °C sin necesidad de correcciones posteriores.\n",
    "\n",
    "Segun la tabla de aplicaciones del antiguo CTE, la demanda de ACS diaria de un gimnasio está entre 20 y 25 litros por usuario por día. La versión de 2013 sitúa esa demanda en 21 litros. Utilizamos el valor de demanda más bajo para evitar un sobrecalentamiento en verano, cuando se espera que la demanda sea más baja."
   ]
  },
  {
   "cell_type": "code",
   "execution_count": 1,
   "metadata": {},
   "outputs": [
    {
     "name": "stdout",
     "output_type": "stream",
     "text": [
      "Demanda de ACS de gimnasio por día: 2400 litros.\n"
     ]
    }
   ],
   "source": [
    "Usuarios = 120\n",
    "Dem_usu_dia = 20 \n",
    "Demanda_dia = Usuarios * Dem_usu_dia\n",
    "print(\"Demanda de ACS de gimnasio por día: {} litros.\".format(Demanda_dia))"
   ]
  },
  {
   "cell_type": "markdown",
   "metadata": {},
   "source": [
    "Diariamente la demanda de ACS para el gimnasio será de 2400 litros o 2,4 m3.\n",
    "\n",
    "Madrid está ubicada en la zona climática IV. Ahí, para un consumo diario menor a 5 m3, el aporte mínimo de la energía solar debe ser 50%.\n",
    "\n",
    "Nuestro siguiente paso es estimar la demanda energética mensual, que viene dada por la siguiente fórmula, para un mes *i*:\n",
    "\n",
    "$ DE_{mes,i} = D_{dia}.N_{días,i}.C_p.\\rho.(T_{ACS}-T_{red,i}) $\n",
    "\n",
    "Donde:\n",
    "* $D_{dia}$: Demanda diaria de ACS ($m^3$)\n",
    "* $N_{días,i}$: Número de días del mes *i*\n",
    "* $C_p$: Calor específico del agua (1 Kcal/Kg.°C)\n",
    "* $\\rho$: Densidad del agua, típicamente 1.000 Kg/$m^3$\n",
    "* $T_{ACS}$: Temperatura de agua caliente, 60 °C\n",
    "* $T_{red,i}$: Temperatura promedio de agua de red en el mes *i*\n",
    "\n",
    "La Demanda energética obtenida de la anterior ecuación viene expresada en Kcal, para transformarla a KWh es neceario escarlarla por $1,16.10^{-3} KWh/Kcal$.\n",
    "\n",
    "La siguiente tabla nos ilustra las temperaturas de agua de red mensuales, $T_{red}$, para cada capital provincial de España.\n",
    "\n",
    "![Temperaturas-agua_red-Esp-mes](Temperaturas-agua_red-Esp-mes.png)\n",
    "\n",
    "De la tabla anterior extraemos los valores de temperatura de agua de red promedio mensual para Madrid y procedemos enseguida a calcular la demanda energética mensual:"
   ]
  },
  {
   "cell_type": "code",
   "execution_count": 2,
   "metadata": {},
   "outputs": [
    {
     "data": {
      "text/plain": [
       "[4487.81,\n",
       " 4053.5,\n",
       " 4315.2,\n",
       " 4008.96,\n",
       " 3969.98,\n",
       " 3591.36,\n",
       " 3452.16,\n",
       " 3538.46,\n",
       " 3591.36,\n",
       " 4056.29,\n",
       " 4176.0,\n",
       " 4487.81]"
      ]
     },
     "execution_count": 2,
     "metadata": {},
     "output_type": "execute_result"
    }
   ],
   "source": [
    "meses = ['ENE','FEB','MAR','ABR','MAY','JUN','JUL','AGO','SEP','OCT','NOV','DIC']\n",
    "dias = [31,28,31,30,31,30,31,31,30,31,30,31]\n",
    "Tred = [8,8,10,12,14,17,20,19,17,13,10,8]\n",
    "DE_mes = []\n",
    "for i in range(12):\n",
    "    DE_mes.append(round(0.00116*(Demanda_dia/1000)*dias[i]*1*1000*(60-Tred[i]), 2))\n",
    "DE_mes"
   ]
  },
  {
   "cell_type": "code",
   "execution_count": 3,
   "metadata": {},
   "outputs": [
    {
     "name": "stdout",
     "output_type": "stream",
     "text": [
      "Demanda anual de energía para ACS: 47728.9 KWh\n"
     ]
    }
   ],
   "source": [
    "print(\"Demanda anual de energía para ACS: {} KWh\".format(round(sum(DE_mes),1)))"
   ]
  },
  {
   "cell_type": "markdown",
   "metadata": {},
   "source": [
    "Anualmente la energía demandada es de 47.729 Kwh, por lo cual, el aporte solar mínimo (50% del total) será de 23.865 KWh. Pero teniendo cuidado de no generar excedentes excesivos en verano."
   ]
  },
  {
   "cell_type": "code",
   "execution_count": null,
   "metadata": {},
   "outputs": [],
   "source": []
  }
 ],
 "metadata": {
  "kernelspec": {
   "display_name": "Python 3",
   "language": "python",
   "name": "python3"
  },
  "language_info": {
   "codemirror_mode": {
    "name": "ipython",
    "version": 3
   },
   "file_extension": ".py",
   "mimetype": "text/x-python",
   "name": "python",
   "nbconvert_exporter": "python",
   "pygments_lexer": "ipython3",
   "version": "3.8.3"
  }
 },
 "nbformat": 4,
 "nbformat_minor": 4
}
