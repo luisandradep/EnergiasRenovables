{
 "cells": [
  {
   "cell_type": "markdown",
   "metadata": {},
   "source": [
    "## Biomasa: Generación Energética Doméstica"
   ]
  },
  {
   "cell_type": "markdown",
   "metadata": {},
   "source": [
    "#### Considerando los siguientes datos:\n",
    "\n",
    "* Potencia útil de la caldera: 25 kW.\n",
    "* Rendimiento: 90 %.\n",
    "* PCI biomasa: 4100 kcal/kg.\n",
    "* Días de funcionamiento anuales: 165.\n",
    "* Horas diarias de funcionamiento: 7.\n",
    "* Densidad de gasóleo: 0,832 kg/l.\n",
    "\n",
    "#### A partir de los datos técnicos de una instalación térmica alimentada con biomasa en una vivienda unifamiliar, se pide:\n",
    "\n",
    "1. Calcular la energía útil demandada por la vivienda en kWh/año.\n",
    "2. Deducir la energía aportada por la biomasa.\n",
    "3. Establecer el consumo anual y diario del biocombustible.\n",
    "4. Determinar la energía del combustible y su consumo anual si se utilizara gasóleo C de calefacción en lugar de la biomasa, sabiendo que tiene un PCI de 9,8 kWh/kg.\n",
    "5. Si el coste de la biomasa fuera de 0,051 €/kg, y el del gasóleo 0,8 €/kg, ¿cuánto se ahorraría si se empleara biomasa en lugar de gasóleo C?"
   ]
  },
  {
   "cell_type": "markdown",
   "metadata": {},
   "source": [
    "### 1- Energía útil en un año:\n",
    "\n",
    "Por 165 días de funcionamiento anual y 7 horas por día tenemos que:"
   ]
  },
  {
   "cell_type": "code",
   "execution_count": 1,
   "metadata": {},
   "outputs": [
    {
     "name": "stdout",
     "output_type": "stream",
     "text": [
      "Horas de trabajo anual: 1155\n"
     ]
    }
   ],
   "source": [
    "dias = 165\n",
    "horas_d = 7\n",
    "horas_a = dias * horas_d\n",
    "print(\"Horas de trabajo anual:\", horas_a)"
   ]
  },
  {
   "cell_type": "markdown",
   "metadata": {},
   "source": [
    "Al año se trabajan 1.155 horas. Teniendo en cuenta la potencia útil de la caldera, de 25 KW, tenemos que la energía que se genera anualmente es:"
   ]
  },
  {
   "cell_type": "code",
   "execution_count": 2,
   "metadata": {},
   "outputs": [
    {
     "name": "stdout",
     "output_type": "stream",
     "text": [
      "Energía útil por año: 28875 KWh\n"
     ]
    }
   ],
   "source": [
    "Energ_util = 25 * horas_a\n",
    "print(\"Energía útil por año: {} KWh\".format(Energ_util))"
   ]
  },
  {
   "cell_type": "markdown",
   "metadata": {},
   "source": [
    "Anualmente nuestra caldera es capaz energía en el orden de **28.875 KWh**."
   ]
  },
  {
   "cell_type": "markdown",
   "metadata": {},
   "source": [
    "### 2- Deducción de energía aportada por la biomasa\n",
    "\n",
    "Teniendo en cuenta que la caldera tiene una eficiencia de 90% y habiendo calculado la generación útil en un año, podemos estimar la energía hipotética asumiendo una eficiencia perfecta (100%), la cuál estará directamente relacionada al combustible necesario para obtener la energía útil calculada en un principio."
   ]
  },
  {
   "cell_type": "code",
   "execution_count": 6,
   "metadata": {},
   "outputs": [
    {
     "name": "stdout",
     "output_type": "stream",
     "text": [
      "Energía hipotética 100% por año: 32083.33 KWh\n"
     ]
    }
   ],
   "source": [
    "Energ_100 = Energ_util / 0.9\n",
    "print(\"Energía hipotética 100% por año: {:.2f} KWh\".format(Energ_100))"
   ]
  },
  {
   "cell_type": "markdown",
   "metadata": {},
   "source": [
    "El aporte energético anual por parte de la biomasa debe estar en el orden de **32.083,33 KWh**."
   ]
  },
  {
   "cell_type": "markdown",
   "metadata": {},
   "source": [
    "### 3- Consumo anual y diario de biomasa\n",
    "\n",
    "Sabemos que el potencial calórico inferior (PCI) de la biomasa es 4.100 Kcal/Kg y que 1 KWh equivale a 860 Kcal. La cantidad de biomasa requerida en un año será:"
   ]
  },
  {
   "cell_type": "code",
   "execution_count": 7,
   "metadata": {},
   "outputs": [
    {
     "name": "stdout",
     "output_type": "stream",
     "text": [
      "Cantidad de biomasa requerida por año: 6729.67 Kg\n"
     ]
    }
   ],
   "source": [
    "PCI_Kwh = 4100 / 860 #Kcal/Kg a KWh/Kg\n",
    "Biomasa = Energ_100 / PCI_Kwh #Kg\n",
    "print(\"Cantidad de biomasa requerida por año: {:.2f} Kg\".format(Biomasa))"
   ]
  },
  {
   "cell_type": "markdown",
   "metadata": {},
   "source": [
    "Se requieren **6729,67 kilogramos** de biomasa anualmente para generar la energía útil durante el régimen de días y horas establecido. Dado que son 165 los que trabaja la caldera, podemos deducir la masa requerida por día:"
   ]
  },
  {
   "cell_type": "code",
   "execution_count": 8,
   "metadata": {},
   "outputs": [
    {
     "name": "stdout",
     "output_type": "stream",
     "text": [
      "Cantidad de biomasa requerida diariamente: 40.79 Kg\n"
     ]
    }
   ],
   "source": [
    "Biomasa_dia = Biomasa / dias\n",
    "print(\"Cantidad de biomasa requerida diariamente: {:.2f} Kg\".format(Biomasa_dia))"
   ]
  },
  {
   "cell_type": "markdown",
   "metadata": {},
   "source": [
    "Diariamente se requieren **40,79 Kg** de biomasa para suplir la capacidad energética de la caldera."
   ]
  },
  {
   "cell_type": "markdown",
   "metadata": {},
   "source": [
    "### 4- Energía y consumo de gasóleo C:\n",
    "\n",
    "Vamos a abordar el escenario en el cual se utiliza el gasóleo C en lugar de biomasa. Como dato tenemos que el PCI del gasóleo es de 9,8 KWh/Kg y que la densidad de este combustible es de 0,832 Kg/l. Inicialmente calculamos la masa necesaria a partir de la energía anual demandada:"
   ]
  },
  {
   "cell_type": "code",
   "execution_count": 10,
   "metadata": {},
   "outputs": [
    {
     "name": "stdout",
     "output_type": "stream",
     "text": [
      "Cantidad de gasóleo requerido por año: 3273.81 Kg\n"
     ]
    }
   ],
   "source": [
    "PCI_gasol = 9.8 #KWh/Kg\n",
    "Masa_gasol = Energ_100 / PCI_gasol #Kg\n",
    "print(\"Cantidad de gasóleo requerido por año: {:.2f} Kg\".format(Masa_gasol))"
   ]
  },
  {
   "cell_type": "markdown",
   "metadata": {},
   "source": [
    "Vemos que requerimos 3.274 kilogramos de gasóleo para obtener la misma energía, aproximadamente 51% menos masa que la biomasa. Dicha masa en volumen lo calculamos con la densidad de gasóleo dada:"
   ]
  },
  {
   "cell_type": "code",
   "execution_count": 12,
   "metadata": {},
   "outputs": [
    {
     "name": "stdout",
     "output_type": "stream",
     "text": [
      "Volumen de gasóleo requerido por año: 3934.87 l\n",
      "Volumen de gasóleo requerido diariamente: 23.85 l\n"
     ]
    }
   ],
   "source": [
    "Vol_gasol = Masa_gasol / 0.832 #Litros\n",
    "print(\"Volumen de gasóleo requerido por año: {:.2f} l\".format(Vol_gasol))\n",
    "Vol_gasol_d = Vol_gasol / dias #Litros\n",
    "print(\"Volumen de gasóleo requerido diariamente: {:.2f} l\".format(Vol_gasol_d))"
   ]
  },
  {
   "cell_type": "markdown",
   "metadata": {},
   "source": [
    "Anualmente se requieren **3.934,87 litros** de gasóleo C para suplir la demanda energética de la caldera doméstica, equivalentes a **23,85 litros** diarios."
   ]
  },
  {
   "cell_type": "markdown",
   "metadata": {},
   "source": [
    "### 5- Ahorro de uso de biomasa vs gasóleo:\n",
    "\n",
    "Vemos que el potencial energético es considerablemente mayor para el gasóleo C que para la biomasa. Pero en costo, el gasóleo también supera ampliamente a la biomasa: 0,8 €/kg versus y 0,051 €/kg, respectivamente. Evaluamos el costo de cada escenario por separado: 100% biomasa y 100% gasóleo:"
   ]
  },
  {
   "cell_type": "code",
   "execution_count": 14,
   "metadata": {},
   "outputs": [
    {
     "name": "stdout",
     "output_type": "stream",
     "text": [
      "Costo anual de biomasa: 343.21 euros\n",
      "Costo anual de gasóleo: 2619.05 euros\n"
     ]
    }
   ],
   "source": [
    "# COSTO ANUAL 100% BIOMASA:\n",
    "Precio_biomasa = 0.051 #Euros/Kg\n",
    "Costo_biomasa = Biomasa * Precio_biomasa #Euros / año\n",
    "print(\"Costo anual de biomasa: {:.2f} euros\".format(Costo_biomasa))\n",
    "\n",
    "# COSTO ANUAL 100% GASOLEO:\n",
    "Precio_gasol = 0.8 #Euros/Kg\n",
    "Costo_gasol = Masa_gasol * Precio_gasol #Euros / año\n",
    "print(\"Costo anual de gasóleo: {:.2f} euros\".format(Costo_gasol))"
   ]
  },
  {
   "cell_type": "markdown",
   "metadata": {},
   "source": [
    "Observamos una importante diferencia de costos entre los distintos tipos de combustible: 343 euros anuales por la biomasa versus 2.619 euros por el gasóleo C."
   ]
  },
  {
   "cell_type": "code",
   "execution_count": 15,
   "metadata": {},
   "outputs": [
    {
     "name": "stdout",
     "output_type": "stream",
     "text": [
      "Ahorro anual por uso de biomasa: 2275.83 euros\n"
     ]
    }
   ],
   "source": [
    "ahorro = Costo_gasol - Costo_biomasa\n",
    "print(\"Ahorro anual por uso de biomasa: {:.2f} euros\".format(ahorro))"
   ]
  },
  {
   "cell_type": "markdown",
   "metadata": {},
   "source": [
    "El ahorro por usar biomasa en vez de gasóleo será de **2275,83 euros**. Luego entrarán en consideración otros aspectos como capacidad de almacenamiento, mayormente para la biomasa."
   ]
  },
  {
   "cell_type": "code",
   "execution_count": null,
   "metadata": {},
   "outputs": [],
   "source": []
  }
 ],
 "metadata": {
  "kernelspec": {
   "display_name": "Python 3",
   "language": "python",
   "name": "python3"
  },
  "language_info": {
   "codemirror_mode": {
    "name": "ipython",
    "version": 3
   },
   "file_extension": ".py",
   "mimetype": "text/x-python",
   "name": "python",
   "nbconvert_exporter": "python",
   "pygments_lexer": "ipython3",
   "version": "3.8.3"
  }
 },
 "nbformat": 4,
 "nbformat_minor": 4
}
