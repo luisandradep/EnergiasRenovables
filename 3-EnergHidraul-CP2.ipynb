{
 "cells": [
  {
   "cell_type": "markdown",
   "metadata": {},
   "source": [
    "## ENERGIA HIDRAULICA - EVALUACION FINAL - CASO PRACTICO 2 "
   ]
  },
  {
   "cell_type": "markdown",
   "metadata": {},
   "source": [
    "#### Calcular el caudal medio necesario para una central hidroeléctrica a pie de presa, sabiendo que la Potencia que entrega la turbina es de 85000 KW con un rendimiento de 85 %, y el salto del que se dispone es de 220 m."
   ]
  },
  {
   "cell_type": "markdown",
   "metadata": {},
   "source": [
    "Recordemos la ecuación de potencia en función del caudal, gravedad, densidad, salto y rendimiento global:\n",
    "\n",
    "$$P = Q * g * \\rho * H_n * e$$\n",
    "\n",
    "Donde:  \n",
    "$P$: Potencia del equipo, en vatios (W).  \n",
    "$Q$: Caudal medio que ingresa al sistema, en $m^3/s$.  \n",
    "$g$: Gravedad terrestre, asumimos el valor 9,81 $m/s^2$.  \n",
    "$\\rho$: Densidad de fluido, en $kg/m^3$. Asumimos para el agua 1000 $kg/m^3$.   \n",
    "$e$: Rendimiento global, resultado del producto del rendimiento de cada equipo $\\eta$  \n",
    "$H_n$: Salto neto, en m.\n",
    "\n",
    "Podemos estimar el caudal medio necesario despejando las demás variables, cuyos datos los tenemos. En el caso del rendimiento solo consideramos el de la turbina\n",
    "$$Q = {P \\over g * \\rho * H_n * e}$$"
   ]
  },
  {
   "cell_type": "code",
   "execution_count": 1,
   "metadata": {},
   "outputs": [
    {
     "name": "stdout",
     "output_type": "stream",
     "text": [
      "Caudal necesario: 46.33490872022982 m3/s\n"
     ]
    }
   ],
   "source": [
    "P = 85000 * 1000 # Potencia entregada, en w\n",
    "g = 9.81 # Gravedad terrestre, en m/s2\n",
    "den = 1000 # Densidad del agua, en kg/m3\n",
    "H_n = 220 # salto disponible, en m\n",
    "e = 0.85 # Rendimiento de equipo, turbina en este caso\n",
    "\n",
    "Q = P / (g * den * H_n * e)\n",
    "print(\"Caudal necesario:\",Q,\"m3/s\")"
   ]
  },
  {
   "cell_type": "markdown",
   "metadata": {},
   "source": [
    "Es necesario contar con un caudal medio de **46,33 m3/s** para aprovechar la potencia de la turbina"
   ]
  },
  {
   "cell_type": "markdown",
   "metadata": {},
   "source": [
    "#### Calcular la pérdida de carga en el canal de conducción fabricado en hormigón, de 1,4 km de longitud, con base de 2,5 m y una altura efectiva de 0,75 m, sabiendo que el caudal que circula por el canal es de 3 m3/s."
   ]
  },
  {
   "cell_type": "markdown",
   "metadata": {},
   "source": [
    "La ecuación de Manning describe la pérdida que se producen en las secciones de canales o tuberías por donde circula el agua y se expresa en unidad de longitud, metros en este caso:\n",
    "\n",
    "$$ i = \\frac{n^{2} * v^{2}} {Rh^{\\frac{4} {3}}}$$\n",
    "\n",
    "Donde:\n",
    "\n",
    "i: Pérdida de carga, en m, o pendiente del canal en m/m  \n",
    "n: Coeficiente de material. 0,012 para el acero y 0,014 para el hormigón  \n",
    "v: Velocidad de flujo, en m/s.  \n",
    "Rh: Radio hidráulico, en m.\n",
    "\n",
    "De entrada tenemos como datos que el material del canal es hormigón, por lo que su coeficiente n es 0,014. No conocemos la velocidad del caudal del canal pero sabemos que ésta está relacionada con dicho caudal (Qc) y el área de la sección transversal por donde atraviesa de la siguiente forma:\n",
    "$$Q_c = S * v $$\n",
    "Por las dimensiones del ancho de la base (b) y la altura efectiva (h) del canal (altura de la columna de agua) sabemos que el canal es de forma rectangular, de modo que $S = b . h$. Por lo que la ecuación del caudal en función de la velocidad y sección transversal la reescribimos de la siguiente forma y despejamos la velocidad:\n",
    "$$Q_c = b * h * v => v = {Q_c \\over b * h}$$ "
   ]
  },
  {
   "cell_type": "code",
   "execution_count": 3,
   "metadata": {},
   "outputs": [
    {
     "name": "stdout",
     "output_type": "stream",
     "text": [
      "Velocidad del caudal: 1.6 m/s\n"
     ]
    }
   ],
   "source": [
    "Qc = 3 # Caudal del canal, en m3/s\n",
    "b = 2.5 # Ancho de base del canal, en m\n",
    "h = 0.75 # Altura efectiva del canal, en m\n",
    "\n",
    "v = Qc / (b * h) # Velocidad del caudal, en m/s\n",
    "print(\"Velocidad del caudal:\",v,\"m/s\")"
   ]
  },
  {
   "cell_type": "markdown",
   "metadata": {},
   "source": [
    "Resolvimos que la velocidad que necesitamos para resolver la ecuación de Manning es de 1,6 m/s. Pero todavía tenemos que hallar el radio hidráulico (Rh) correspondiente. Como sabemos, el agua circula por un canal de hormigón rectangular. El radio hidraulico en este caso se estima de la siguiente forma $R_h = S/P$. Donde S es el área de la sección transversal cubierta de agua, es decir $b.h$, y P es el perímetro de dicha sección transversal bajo agua, el cual viene dado por la operación $2.h + b$. Por lo tanto el radio hidraulico lo calculamos de la siguiente manera:\n",
    "$$R_h = {b.h \\over 2.h + b}$$"
   ]
  },
  {
   "cell_type": "code",
   "execution_count": 4,
   "metadata": {},
   "outputs": [
    {
     "name": "stdout",
     "output_type": "stream",
     "text": [
      "Radio hidráulico del caudal: 0.46875 m\n"
     ]
    }
   ],
   "source": [
    "Rh = (b * h) / (2*h + b) #Radio hidráulico del canal, en m\n",
    "print(\"Radio hidráulico del caudal:\",Rh,\"m\")"
   ]
  },
  {
   "cell_type": "markdown",
   "metadata": {},
   "source": [
    "Tenemos que en este caso el radio hidráulico que es de 0,47 m. Con este dato ya podemos resolver la ecuación de Manning para encontrar las pérdida por sección atravesada (i)"
   ]
  },
  {
   "cell_type": "code",
   "execution_count": 3,
   "metadata": {},
   "outputs": [],
   "source": [
    "import numpy as np"
   ]
  },
  {
   "cell_type": "code",
   "execution_count": 6,
   "metadata": {},
   "outputs": [
    {
     "name": "stdout",
     "output_type": "stream",
     "text": [
      "Pérdidas por sección canal 0.0013779739125183174 m/m\n"
     ]
    }
   ],
   "source": [
    "nc  = 0.014\n",
    "ic = np.power(nc*v,2) / np.power(Rh,4/3)\n",
    "print(\"Pérdidas por sección canal\",ic,\"m/m\")"
   ]
  },
  {
   "cell_type": "markdown",
   "metadata": {},
   "source": [
    "Las pérdidas asociadas a la sección transversal de esta canalización son de 0,0014 m/m o 0,14%. Las pérdidas del canal se obtienen del producto de la pérdida seccional (i) por la longitud de la canalización (lc):\n",
    "$$Perd_{canal} = i_c . l_c$$\n",
    "Sabemos que el canal tiene una longitud de 1,4 Km (1.400 m)"
   ]
  },
  {
   "cell_type": "code",
   "execution_count": 8,
   "metadata": {},
   "outputs": [
    {
     "name": "stdout",
     "output_type": "stream",
     "text": [
      "Pérdida en canal:  1.9291634775256443 m\n"
     ]
    }
   ],
   "source": [
    "lc = 1400 # Longitud de canal, en m\n",
    "Pc = ic * lc\n",
    "print(\"Pérdida en canal: \",Pc,\"m\")"
   ]
  },
  {
   "cell_type": "markdown",
   "metadata": {},
   "source": [
    "Este canal en hormigón con las características dadas genera una pérdida de carga de **1,93 m**"
   ]
  },
  {
   "cell_type": "markdown",
   "metadata": {},
   "source": [
    "#### Sabiendo que la potencia neta máxima que se producirá en el eje de la turbina es de 2518 KW, calcular la potencia aparente del generador cuyo factor de potencia es de 0,85."
   ]
  },
  {
   "cell_type": "markdown",
   "metadata": {},
   "source": [
    "~La potencia a nivel de generador es producto de la potencia a nivel de turbina por el rendimiento del generador ($\\eta_g$): $P_g = P_{turb} . \\eta_{g}$. Nos informan que la potencia neta de la turbina es de 2518 KW y el rendimiento del genrador 85% o 0,85.~"
   ]
  },
  {
   "cell_type": "code",
   "execution_count": 9,
   "metadata": {},
   "outputs": [
    {
     "name": "stdout",
     "output_type": "stream",
     "text": [
      "Potencia de generador 2140.2999999999997 Kw\n"
     ]
    }
   ],
   "source": [
    "P_trb = 2518 # Potencia de turbina, en Kw\n",
    "eta_g = 0.85\n",
    "Pg = P_trb * eta_g # Potencia de generador, en Kw\n",
    "print(\"Potencia de generador\",Pg,\"Kw\")"
   ]
  },
  {
   "cell_type": "markdown",
   "metadata": {},
   "source": [
    "~El generador de la central tendrá una potencia aparente de **2140 Kw** dado su factor de potencia y la potencia neta máxima de la turbina.~"
   ]
  },
  {
   "cell_type": "markdown",
   "metadata": {},
   "source": [
    "Conocemos el factor de potencia (fp) como la relación existente entre la potencia activa (P) y la potencia aparente (S) que resulta de la suma vectorial de la potencia activa y la reactiva, usualmente abreviada como Q (no confundir con caudal): $fp = {P \\over S}$. No toda la potencia que se genera es activa como quisiéramos, sino que una parte es reactiva, no aprovechable pero que igual satura la red eléctrica. Un factor de potencia cercano a uno es indicativo de que la potencia aparente es casi toda activa, mientras que un fp más cercano a cero indica que la potencia es en mayor medida reactiva.  \n",
    "En este caso se nos informa que la potencia neta que sale de la turbina es de 2518 KW, la cual consideramos activa (P), y que el generador tiene un factor de potencia (fp) de 0,85. Nuestra potencia aparente será: $S = {P \\over fp} = {2518 \\over 0,85}$"
   ]
  },
  {
   "cell_type": "code",
   "execution_count": 2,
   "metadata": {},
   "outputs": [
    {
     "name": "stdout",
     "output_type": "stream",
     "text": [
      "Potencia aparente 2962.3529411764707 KW\n"
     ]
    }
   ],
   "source": [
    "P_act = 2518 # Potencia activa (neta de la turbina)\n",
    "fp = 0.85 # Factor de potencia\n",
    "S = P_act / fp\n",
    "print(\"Potencia aparente\",S,\"KW\")"
   ]
  },
  {
   "cell_type": "markdown",
   "metadata": {},
   "source": [
    "La potencia aparente del generador será de **2962,4 KW**. Si queremos conocer la potencia reactiva (Qr, para no confundirnos con caudal Q), debemos considerar primero que el factor de potencia es el coseno de un ángulo $\\phi$ y que la potencia activa es el producto de la potencia aparente (S) por el factor de potencia, o lo que es lo mismo, el coseno de ese ángulo $\\phi$: $P = S . fp = S . cos(\\phi)$. La potencia reactiva (Qr) será el producto de la potencia aparente (S) por el seno de ese ángulo $\\phi$, que a su vez se obtiene calculando el arco coseno del factor de potencia (fp): $Qr = S . sen(\\phi) = S . sen(cos^{-1}(fp))$."
   ]
  },
  {
   "cell_type": "code",
   "execution_count": 4,
   "metadata": {},
   "outputs": [
    {
     "name": "stdout",
     "output_type": "stream",
     "text": [
      "Potencia reactiva 1560.5162440990116 KVAr\n"
     ]
    }
   ],
   "source": [
    "phi = np.arccos(fp)\n",
    "Q_reac = S*np.sin(phi)\n",
    "print(\"Potencia reactiva\",Q_reac,\"KVAr\")"
   ]
  },
  {
   "cell_type": "markdown",
   "metadata": {},
   "source": [
    "La potencia reactiva Qr del generador es de 1560,5 KVAr (kilo voltios amperios reactivos) o KWr (kilovatios reactivos). Esta unidad es igual de potencia como la que conocemos, solo que se hace la acotación de que se trata de potencia reactiva."
   ]
  },
  {
   "cell_type": "markdown",
   "metadata": {},
   "source": [
    "#### Calcular la retribución a la inversión de la instalación IT-04028 si ha funcionado 840 horas en 2018."
   ]
  },
  {
   "cell_type": "markdown",
   "metadata": {},
   "source": [
    "Según el boletín número 89 del 13 de abril de 2019 del Ministerio para la Transición Ecológica, disponible en este enlace de [BOE.es](https://www.boe.es/buscar/pdf/2019/BOE-A-2019-5571-consolidado.pdf), la retribución a la inversión (RINV) asignada a la instalación IT-04028, con un rango de potencia de entre 1 y 10 MW, para el período 2017-2019 fue de 117.162 euros/MW, con un umbral de funcionamiento anual (Uf) de 560 horas y un número de horas equivalentes de funcionamiento mínimo anual (Nhmin) de 1.100 horas. Si la instalación trabaja una cantidad de horas equivalentes anuales (Nhinst) menores que las mínimas de funcionamiento anual (Nhmin) establecidas, se aplica una deducción a la retribución a la inversión (d) dada por la siguiente ecuación:\n",
    "$$d = {Nh_{inst} - U_f \\over Nh_{min} - U_f}$$\n",
    "Entonces, la retribución final corregida (RINVf) vendrá dada por la multiplicación de la retribución inicial (RINVi)por la reducción (d):\n",
    "$$RINV_f = RINV_i.d$$\n",
    "Si el número de horas trabajadas haya resultado ser menores que las del umbral Uf, se perdería la totalidad de la retribución. En este caso particular, el número de horas trabajadas en 2018 fue de 840 horas, mayor que el umbral (Uf) de 560 horas pero menor que número de horas mínimo asignado (Nhmin) de 1.100 horas. Por lo tanto aplica la reducción (d)."
   ]
  },
  {
   "cell_type": "code",
   "execution_count": 14,
   "metadata": {},
   "outputs": [
    {
     "name": "stdout",
     "output_type": "stream",
     "text": [
      "Reducción a la RINV: 0.5185185185185185\n"
     ]
    }
   ],
   "source": [
    "Nhinst = 840\n",
    "Uf = 560\n",
    "Nhmin = 1100\n",
    "d = (Nhinst - Uf) / (Nhmin - Uf)\n",
    "print(\"Reducción a la RINV:\",d)"
   ]
  },
  {
   "cell_type": "markdown",
   "metadata": {},
   "source": [
    "En este caso la instalación IT-04028 solo recibirá el 51,85% del RINV que le correspondería en 2018 por las 840 horas trabajadas."
   ]
  },
  {
   "cell_type": "code",
   "execution_count": 15,
   "metadata": {},
   "outputs": [
    {
     "name": "stdout",
     "output_type": "stream",
     "text": [
      "RINV corregida 2018: 60750.666666666664 euros/MW\n"
     ]
    }
   ],
   "source": [
    "RINVi = 117162 # RINV de 2018, euros/MW\n",
    "RINVf = RINVi * d\n",
    "print(\"RINV corregida 2018:\",RINVf,\"euros/MW\")"
   ]
  },
  {
   "cell_type": "markdown",
   "metadata": {},
   "source": [
    "La retribución a la inversión que le correspondió en este caso a la instalación IT-04028 por las horas trabajadas en 2018 fue de **60.750,7 euros/MW**. Si aplicamos el rango de potencia de la instalación, de entre 1 y 10 MW, hablamos de que la instalación habría recibido como retribución a la inversión **entre 60.750 y 607.507 euros**."
   ]
  },
  {
   "cell_type": "markdown",
   "metadata": {},
   "source": [
    "#### Rellenar la tabla para la central hidráulica reversible, cuyos datos se muestran a continuación, sabiendo además que las pérdidas hidráulicas, mecánicas y volumétricas son del 85 %."
   ]
  },
  {
   "cell_type": "markdown",
   "metadata": {},
   "source": [
    "Entre los ciclos de turbinado y de bombeo tenemos los siguientes datos:\n",
    "\n",
    "| Parámetros | Turbinado | Bombeo |\n",
    "| ---------- | --------- | ------ |\n",
    "| Caudal ($m^3/s$) | 3 | 1,5 |\n",
    "| Horas de funcionamiento h | 4 | 8 |\n",
    "| Diámetro tubería acero (m) | 1,2 | 1,2 |\n",
    "| Longitud tubería acero (m) | 540 | 540 |\n",
    "| Desnivel (m) | 66,7 | 66,7 |\n",
    "| Rendimiento conjunto $\\eta_c$ | 0,85 | 0,75 | \n",
    "\n",
    "Nos piden estimar para cada etapa la velocidad de caudal, las pérdidas en tubería, la altura, la potencia y la energía generada"
   ]
  },
  {
   "cell_type": "markdown",
   "metadata": {},
   "source": [
    "Recordamos que el caudal se obtiene del producto de la velocidad de flujo por la superficie del canal de drenaje, despejando la ecuación podemos estimar la velocidad: $v = {Q \\over S}$. Dado que el conducto es una tubería circular, cuyo diámetro conocemos, podemos expresar la ecuación de la siguiente forma:\n",
    "$$v_e = {Q_e \\over \\pi.(\\frac {d} {2})^2}$$\n",
    "Donde $v_e$ y $Q_e$ son la velocidad y el caudal de la etapa correspondiente, respectivamente, tanto de turbinado como de bombeo. $d$ viene siendo el diámetro de la tubería, que permanece invariable en cualquiera de las etapas.  \n",
    "Para la etapa de turbinado tenemos que:"
   ]
  },
  {
   "cell_type": "code",
   "execution_count": 25,
   "metadata": {},
   "outputs": [
    {
     "name": "stdout",
     "output_type": "stream",
     "text": [
      "Velocidad en etapa de turbinado 2.6525823848649224 m/s\n"
     ]
    }
   ],
   "source": [
    "Q_turb = 3 # Caudal de turbinado, en m3/s\n",
    "diam = 1.2 # Diámetro de tubería, en m\n",
    "V_turb = Q_turb / (np.pi * np.power(diam/2,2))\n",
    "print(\"Velocidad en etapa de turbinado\",V_turb,\"m/s\")"
   ]
  },
  {
   "cell_type": "markdown",
   "metadata": {},
   "source": [
    "Mientras la central esté en el ciclo de turbinado, la velocidad de caudal será de **2,65 m/s**. Para el ciclo de bombeo, la velocidad resultante será la siguiente:"
   ]
  },
  {
   "cell_type": "code",
   "execution_count": 26,
   "metadata": {},
   "outputs": [
    {
     "name": "stdout",
     "output_type": "stream",
     "text": [
      "Velocidad en etapa de bombeo 1.3262911924324612 m/s\n"
     ]
    }
   ],
   "source": [
    "Q_bomb = 1.5\n",
    "V_bomb = Q_bomb / (np.pi * np.power(diam/2,2))\n",
    "print(\"Velocidad en etapa de bombeo\",V_bomb,\"m/s\")"
   ]
  },
  {
   "cell_type": "markdown",
   "metadata": {},
   "source": [
    "Lógicamente, como el caudal de bombeo es la mitad del de turbinado, la velocidad correspondiente también lo será, es decir, de **1,33 m/s**."
   ]
  },
  {
   "cell_type": "markdown",
   "metadata": {},
   "source": [
    "Las pérdidas en tubería resultan del producto de la ecuación de Manning por la longitud recorrida:\n",
    "\n",
    "$$Perd_{tub} = {n_t^{2} . v_e^{2} \\over Rh_t^{\\frac{4} {3}}} . l_t$$\n",
    "Donde:\n",
    "* $n_t$ es el coeficiente del material de la tubería. Como es acero, su valor es 0,012.\n",
    "* $v_e$ es la velocidad de la etapa correspondiente. Ya conocemos la velocidad de cada etapa: 2,65 m/s durante el turbinado y 1,33 m/s durante el bombeo.\n",
    "* $Rh_t$ es el radio hidráulico de la tubería. Viene dado por la relación entre su área y su perímetro $Rh_t = {\\pi.r^2 \\over 2.\\pi.r} = {r \\over 2} = {d \\over 4}$\n",
    "* $l_t$ es la longitud de la tubería, 540 m  en este caso."
   ]
  },
  {
   "cell_type": "markdown",
   "metadata": {},
   "source": [
    "Debido a que las velocidades varían por etapa, las pérdidas en tubería también lo harán. En la etapa de turbinado tenemos que:"
   ]
  },
  {
   "cell_type": "code",
   "execution_count": 27,
   "metadata": {},
   "outputs": [
    {
     "name": "stdout",
     "output_type": "stream",
     "text": [
      "Pérdidas de tubería durante el turbinado: 2.724367399809376 m\n"
     ]
    }
   ],
   "source": [
    "nt = 0.012 # Coeficiente de acero\n",
    "Rht = diam / 4 # Radio hidráulico de tubería, en m\n",
    "lt = 540 # longitud de tubería, en m\n",
    "\n",
    "Perd_t_turb = np.power(nt*V_turb,2) * lt / np.power(Rht,4/3)\n",
    "print(\"Pérdidas de tubería durante el turbinado:\",Perd_t_turb,\"m\")"
   ]
  },
  {
   "cell_type": "markdown",
   "metadata": {},
   "source": [
    "Registramos pérdidas equivalentes a **2,72 m** durante la etapa de turbinado de la central."
   ]
  },
  {
   "cell_type": "code",
   "execution_count": 28,
   "metadata": {},
   "outputs": [
    {
     "name": "stdout",
     "output_type": "stream",
     "text": [
      "Pérdidas de tubería durante el bombeo: 0.681091849952344 m\n"
     ]
    }
   ],
   "source": [
    "Perd_t_bomb = np.power(nt*V_bomb,2) * lt / np.power(Rht,4/3)\n",
    "print(\"Pérdidas de tubería durante el bombeo:\",Perd_t_bomb,\"m\")"
   ]
  },
  {
   "cell_type": "markdown",
   "metadata": {},
   "source": [
    "En la etapa de bombeo, las pérdidas están en el orden de **0,68 m**, cuatro veces menor que en la de turbinado contando con la mitad de la velocidad de turbinado."
   ]
  },
  {
   "cell_type": "markdown",
   "metadata": {},
   "source": [
    "Conociendo las pérdidas en tubería por etapa y el desnivel reportado $Hb$ (66,7m) podemos determinar la altura o salto neto para cada etapa, $Hn_e$: $Hn_e = Hb - Perd_{tub-e}$."
   ]
  },
  {
   "cell_type": "code",
   "execution_count": 29,
   "metadata": {},
   "outputs": [
    {
     "name": "stdout",
     "output_type": "stream",
     "text": [
      "Salto neto durante el turbinado: 63.97563260019063 m\n",
      "Salto neto durante el bombeo: 66.01890815004766 m\n"
     ]
    }
   ],
   "source": [
    "Hb = 66.7 # Desnivel o salto bruto, en m\n",
    "\n",
    "Hn_turb = Hb - Perd_t_turb\n",
    "print(\"Salto neto durante el turbinado:\",Hn_turb,\"m\")\n",
    "Hn_bomb = Hb - Perd_t_bomb\n",
    "print(\"Salto neto durante el bombeo:\",Hn_bomb,\"m\")"
   ]
  },
  {
   "cell_type": "markdown",
   "metadata": {},
   "source": [
    "Como resultado tenemos que, en la etapa de turbinado, el salto o altura neta resultante es de **63,98m**, mientras que en la etapa de bombeo, el salto neto resultante es de **66,02m**. Estos datos los necesitaremos para los respectivos cálculos de potencia."
   ]
  },
  {
   "cell_type": "markdown",
   "metadata": {},
   "source": [
    "La potencia se determina por medio de la siguiente ecuación: \n",
    "$$P_e = Q_e * g * \\rho * Hn_e * e_{e}$$\n",
    "\n",
    "Donde:  \n",
    "$P_e$: Potencia de cada etapa, en vatios (W).  \n",
    "$Q_e$: Caudal medio por etapa que ingresa al sistema, en $m^3/s$.  \n",
    "$g$: Gravedad terrestre, asumimos el valor 9,81 $m/s^2$.  \n",
    "$\\rho$: Densidad de fluido, en $kg/m^3$. Asumimos para el agua 1000 $kg/m^3$.  \n",
    "$Hn_e$: Salto neto por etapa, en m. Estos datos se obtuvieron en el paso previo.  \n",
    "$e_{e}$: Rendimiento global por etapa, resulta del producto $\\eta_{c-e} . \\eta_{hmv}$. Donde $\\eta_{c-e}$ es el rendimiento de conjunto por etapa, datos suministrados y $\\eta_{hmv}$ agrupa las pérdidas hidráulicas, mecánicas y volumétricas, que en este caso representan un factor de 85%.  "
   ]
  },
  {
   "cell_type": "code",
   "execution_count": 30,
   "metadata": {},
   "outputs": [
    {
     "name": "stdout",
     "output_type": "stream",
     "text": [
      "Potencia de la etapa de turbinado 1360.3250717135584 KW\n",
      "Potencia de la etapa de bombeo 619.310998810319 KW\n"
     ]
    }
   ],
   "source": [
    "eta_hmv = 0.85 # Pérdidas hidráulicas, mecánicas y volumétricas\n",
    "\n",
    "eta_turb = 0.85 # Rendimiento de conjunto durante el turbinado\n",
    "e_turb = eta_turb * eta_hmv # Rendimiento global durante el turbinado\n",
    "P_turb = Q_turb * g * den * Hn_turb * e_turb # Potencia de etapa turbinado, en W \n",
    "print(\"Potencia de la etapa de turbinado\",P_turb/1000,\"KW\")\n",
    "\n",
    "eta_bomb = 0.75 # Rendimiento de conjunto durante el bombeo\n",
    "e_bomb = eta_bomb * eta_hmv # Rendimiento global durante el bombeo\n",
    "P_bomb = Q_bomb * g * den * Hn_bomb * e_bomb # Potencia de etapa bombeo, en W \n",
    "print(\"Potencia de la etapa de bombeo\",P_bomb/1000,\"KW\")"
   ]
  },
  {
   "cell_type": "markdown",
   "metadata": {},
   "source": [
    "La potencia asociada a la etapa de turbinado es de **1360 KW** mientras que la requerida en la etapa de bombeo es de **619 KW**."
   ]
  },
  {
   "cell_type": "markdown",
   "metadata": {},
   "source": [
    "El cálculo de energía producida o consumida resulta del producto de la potencia por las horas trabajadas en un determinado tiempo: $E = P.horas$. Recién estimamos la potencia de cada etapa y contamos con las horas diarias en las que funciona cada una, de modo que podemos calcular directamente la energía diaria asociada a cada etapa."
   ]
  },
  {
   "cell_type": "code",
   "execution_count": 31,
   "metadata": {},
   "outputs": [
    {
     "name": "stdout",
     "output_type": "stream",
     "text": [
      "Energía diaria asociada a turbineo 5441.3002868542335 KWh\n",
      "Energía diaria asociada a bombeo 4954.487990482552 KWh\n"
     ]
    }
   ],
   "source": [
    "hh_turb = 4 # Horas diarias que funciona el turbinado\n",
    "E_turb = P_turb * hh_turb # Energía diaria asociada a turbineo\n",
    "print(\"Energía diaria asociada a turbineo\",E_turb/1000,\"KWh\")\n",
    "\n",
    "hh_bomb = 8 # Horas diarias que funciona el bombeo\n",
    "E_bomb = P_bomb * hh_bomb # Energía diaria asociada a bombeo\n",
    "print(\"Energía diaria asociada a bombeo\",E_bomb/1000,\"KWh\")"
   ]
  },
  {
   "cell_type": "markdown",
   "metadata": {},
   "source": [
    "Diariamente, la etapa de turbineo genera una energía de **5441 KWh**, mientras que la de bombeo demanda **4955 Kwh**. El balance diario de esta central hidráulica reversible sería de aproximadamente **487 KWh**. Si proyectamos al año, en la etapa de turbineo se producen 1986 MWh, mientras que en la de bombeo se demandan 1808 MWh, arrojando un balance positivo de aproximadamente 178 MWh."
   ]
  },
  {
   "cell_type": "markdown",
   "metadata": {},
   "source": [
    "Actualizando la tabla inicial con los resultados obtenidos, tenemos los siguientes parámetros para esta central reversible:\n",
    "\n",
    "| Parámetros | Turbinado | Bombeo |\n",
    "| ---------- | --------- | ------ |\n",
    "| Caudal ($m^3/s$) | 3 | 1,5 |\n",
    "| Horas de funcionamiento h | 4 | 8 |\n",
    "| Diámetro tubería acero (m) | 1,2 | 1,2 |\n",
    "| Longitud tubería acero (m) | 540 | 540 |\n",
    "| Desnivel (m) | 66,7 | 66,7 |\n",
    "| Rendimiento conjunto $\\eta_c$ | 0,85 | 0,75 |\n",
    "| Velocidad (m/s) | **2,65** | **1,33** |\n",
    "| Pérdidas tubería $\\Delta H$ (m) | **2,72** | **0,68** |\n",
    "| Altura o salto neto (m) | **63,98** | **66,02** |\n",
    "| Potencia (KW) | **1360** | **619** |\n",
    "| Energía (KWh) | **5441** | **4955** |"
   ]
  },
  {
   "cell_type": "code",
   "execution_count": 32,
   "metadata": {},
   "outputs": [
    {
     "data": {
      "text/plain": [
       "486812.2963716816"
      ]
     },
     "execution_count": 32,
     "metadata": {},
     "output_type": "execute_result"
    }
   ],
   "source": [
    "E_turb - E_bomb"
   ]
  },
  {
   "cell_type": "code",
   "execution_count": 33,
   "metadata": {},
   "outputs": [
    {
     "data": {
      "text/plain": [
       "1986074604.7017953"
      ]
     },
     "execution_count": 33,
     "metadata": {},
     "output_type": "execute_result"
    }
   ],
   "source": [
    "E_turb*365"
   ]
  },
  {
   "cell_type": "code",
   "execution_count": 34,
   "metadata": {},
   "outputs": [
    {
     "data": {
      "text/plain": [
       "1808388116.5261314"
      ]
     },
     "execution_count": 34,
     "metadata": {},
     "output_type": "execute_result"
    }
   ],
   "source": [
    "E_bomb*365"
   ]
  },
  {
   "cell_type": "code",
   "execution_count": 35,
   "metadata": {},
   "outputs": [
    {
     "data": {
      "text/plain": [
       "177686488.17566395"
      ]
     },
     "execution_count": 35,
     "metadata": {},
     "output_type": "execute_result"
    }
   ],
   "source": [
    "E_turb*365 - E_bomb*365"
   ]
  },
  {
   "cell_type": "code",
   "execution_count": null,
   "metadata": {},
   "outputs": [],
   "source": []
  }
 ],
 "metadata": {
  "kernelspec": {
   "display_name": "Python 3",
   "language": "python",
   "name": "python3"
  },
  "language_info": {
   "codemirror_mode": {
    "name": "ipython",
    "version": 3
   },
   "file_extension": ".py",
   "mimetype": "text/x-python",
   "name": "python",
   "nbconvert_exporter": "python",
   "pygments_lexer": "ipython3",
   "version": "3.8.3"
  }
 },
 "nbformat": 4,
 "nbformat_minor": 4
}
