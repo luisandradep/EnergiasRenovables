{
 "cells": [
  {
   "cell_type": "markdown",
   "metadata": {},
   "source": [
    "## Biomasa: Caso Práctico. Repaso Final\n",
    "\n",
    "Una empresa con actividades diversificadas tiene, entre sus áreas de negocio, el aprovechamiento de la biomasa para fines energéticos. Tiene constancia de la existencia de potencial suficiente en una determinada\n",
    "zona como para ubicar en ella una central de generación eléctrica.\n",
    "\n",
    "Tras el correspondiente trabajo de campo, se llega a la conclusión de la producción anual de diferentes tipos de residuos en un radio máximo de 25 km de la ubicación posible de la central. La distribución de estos, así como el ratio de generación de biogás de cada uno de ellos y su contenido en metano, viene reflejado en la siguiente tabla siguiente:\n",
    "\n",
    "![Tabla repaso final](Biomasa-tabla-repasofinal-caso_practico.png)"
   ]
  },
  {
   "cell_type": "markdown",
   "metadata": {},
   "source": [
    "Con los datos anteriores se pide:\n",
    "\n",
    "1. Realizar la distribución de estos residuos a lo largo del año, suponiendo que su entrada en la planta es homogénea.\n",
    "2. Cuantificar la cantidad de biogás que se generaría y el contenido en metano aproximado mensualmente (con dos dígitos).\n",
    "3. Calcular la electricidad mensual y anual que se generaría suponiendo que todo el biogás es introducido en motores, los cuales tienen un rendimiento de transformación del 40 % y un funcionamiento anual de 8000 horas.\n",
    "4. ¿Cuál sería la potencia a instalar, teniendo en cuenta las premisas anteriores?\n",
    "5. ¿Qué cantidad de emisiones de dióxido de carbono se evitan con la electricidad generada a partir de los residuos biomásicos considerados?"
   ]
  },
  {
   "cell_type": "markdown",
   "metadata": {},
   "source": [
    "### 1- Distribución de residuos\n",
    "\n",
    "Asumiendo una alimentación hoomogénea, distribuimos la producción anual entre los doce meses del año."
   ]
  },
  {
   "cell_type": "code",
   "execution_count": 5,
   "metadata": {},
   "outputs": [
    {
     "name": "stdout",
     "output_type": "stream",
     "text": [
      "CANTIDAD MENSUAL DE RESIDUOS:\n",
      "P_cerdo: 3750.00 T/mes\n",
      "Maiz: 1500.00 T/mes\n",
      "Puerro: 2083.33 T/mes\n",
      "Zanah: 1000.00 T/mes\n",
      "Matader: 908.33 T/mes\n",
      "EDAR: 333.33 T/mes\n",
      "Grasa: 208.33 T/mes\n",
      "Glicer: 666.67 T/mes\n",
      "Sangre: 333.33 T/mes\n",
      "\n",
      "Total de residuos mensual: 10783.33 T\n"
     ]
    }
   ],
   "source": [
    "#CANTIDADES MENSUALES DE REIDUOS (T)\n",
    "RESIDUOS = {\n",
    "    \"P_cerdo\" : 45000 / 12,\n",
    "    \"Maiz\" : 18000 / 12,\n",
    "    \"Puerro\" : 25000 / 12,\n",
    "    \"Zanah\" : 12000 / 12,\n",
    "    \"Matader\" : 10900 / 12,\n",
    "    \"EDAR\" : 4000 / 12,\n",
    "    \"Grasa\" : 2500 / 12,\n",
    "    \"Glicer\" : 8000 / 12,\n",
    "    \"Sangre\" : 4000 / 12\n",
    "}\n",
    "print(\"CANTIDAD MENSUAL DE RESIDUOS:\")\n",
    "for residuo in RESIDUOS:\n",
    "    print(\"{}: {:.2f} T/mes\".format(residuo, RESIDUOS[residuo]))\n",
    "print(\"\")\n",
    "print(\"Total de residuos mensual: {:.2f} T\".format(sum(RESIDUOS.values())))"
   ]
  },
  {
   "cell_type": "markdown",
   "metadata": {},
   "source": [
    "El total mensual de cada residuo suma **10.783 toneladas** si se produce de manera uniforme.\n",
    "\n",
    "A partir de ahora expresamos la información en una tabla Pandas."
   ]
  },
  {
   "cell_type": "code",
   "execution_count": 12,
   "metadata": {},
   "outputs": [
    {
     "data": {
      "text/html": [
       "<div>\n",
       "<style scoped>\n",
       "    .dataframe tbody tr th:only-of-type {\n",
       "        vertical-align: middle;\n",
       "    }\n",
       "\n",
       "    .dataframe tbody tr th {\n",
       "        vertical-align: top;\n",
       "    }\n",
       "\n",
       "    .dataframe thead th {\n",
       "        text-align: right;\n",
       "    }\n",
       "</style>\n",
       "<table border=\"1\" class=\"dataframe\">\n",
       "  <thead>\n",
       "    <tr style=\"text-align: right;\">\n",
       "      <th></th>\n",
       "      <th>Cantidad</th>\n",
       "    </tr>\n",
       "  </thead>\n",
       "  <tbody>\n",
       "    <tr>\n",
       "      <th>P_cerdo</th>\n",
       "      <td>3750.000000</td>\n",
       "    </tr>\n",
       "    <tr>\n",
       "      <th>Maiz</th>\n",
       "      <td>1500.000000</td>\n",
       "    </tr>\n",
       "    <tr>\n",
       "      <th>Puerro</th>\n",
       "      <td>2083.333333</td>\n",
       "    </tr>\n",
       "    <tr>\n",
       "      <th>Zanah</th>\n",
       "      <td>1000.000000</td>\n",
       "    </tr>\n",
       "    <tr>\n",
       "      <th>Matader</th>\n",
       "      <td>908.333333</td>\n",
       "    </tr>\n",
       "    <tr>\n",
       "      <th>EDAR</th>\n",
       "      <td>333.333333</td>\n",
       "    </tr>\n",
       "    <tr>\n",
       "      <th>Grasa</th>\n",
       "      <td>208.333333</td>\n",
       "    </tr>\n",
       "    <tr>\n",
       "      <th>Glicer</th>\n",
       "      <td>666.666667</td>\n",
       "    </tr>\n",
       "    <tr>\n",
       "      <th>Sangre</th>\n",
       "      <td>333.333333</td>\n",
       "    </tr>\n",
       "  </tbody>\n",
       "</table>\n",
       "</div>"
      ],
      "text/plain": [
       "            Cantidad\n",
       "P_cerdo  3750.000000\n",
       "Maiz     1500.000000\n",
       "Puerro   2083.333333\n",
       "Zanah    1000.000000\n",
       "Matader   908.333333\n",
       "EDAR      333.333333\n",
       "Grasa     208.333333\n",
       "Glicer    666.666667\n",
       "Sangre    333.333333"
      ]
     },
     "execution_count": 12,
     "metadata": {},
     "output_type": "execute_result"
    }
   ],
   "source": [
    "#import pandas as pd\n",
    "\n",
    "TAB_RESIDUOS = pd.DataFrame.from_dict(RESIDUOS, orient='index', columns = [\"Cantidad\"])\n",
    "TAB_RESIDUOS.head(9)"
   ]
  },
  {
   "cell_type": "markdown",
   "metadata": {},
   "source": [
    "### 2- Cuantificación de biogás y proporción de metano\n",
    "\n",
    "Tenemos que calcular la cantidad de biogas generado mensualmente por cada tipo de residuo y la cantidad asociada de metano. Para esto incorporamos los datos de volumen ($m^3$) de biogas generado por cada tonelada de biomasa y la proporción asociada de gas metano."
   ]
  },
  {
   "cell_type": "code",
   "execution_count": 13,
   "metadata": {},
   "outputs": [
    {
     "data": {
      "text/html": [
       "<div>\n",
       "<style scoped>\n",
       "    .dataframe tbody tr th:only-of-type {\n",
       "        vertical-align: middle;\n",
       "    }\n",
       "\n",
       "    .dataframe tbody tr th {\n",
       "        vertical-align: top;\n",
       "    }\n",
       "\n",
       "    .dataframe thead th {\n",
       "        text-align: right;\n",
       "    }\n",
       "</style>\n",
       "<table border=\"1\" class=\"dataframe\">\n",
       "  <thead>\n",
       "    <tr style=\"text-align: right;\">\n",
       "      <th></th>\n",
       "      <th>Cantidad</th>\n",
       "      <th>Biogas</th>\n",
       "      <th>Metano</th>\n",
       "    </tr>\n",
       "  </thead>\n",
       "  <tbody>\n",
       "    <tr>\n",
       "      <th>P_cerdo</th>\n",
       "      <td>3750.000000</td>\n",
       "      <td>20</td>\n",
       "      <td>0.60</td>\n",
       "    </tr>\n",
       "    <tr>\n",
       "      <th>Maiz</th>\n",
       "      <td>1500.000000</td>\n",
       "      <td>180</td>\n",
       "      <td>0.59</td>\n",
       "    </tr>\n",
       "    <tr>\n",
       "      <th>Puerro</th>\n",
       "      <td>2083.333333</td>\n",
       "      <td>80</td>\n",
       "      <td>0.58</td>\n",
       "    </tr>\n",
       "    <tr>\n",
       "      <th>Zanah</th>\n",
       "      <td>1000.000000</td>\n",
       "      <td>80</td>\n",
       "      <td>0.58</td>\n",
       "    </tr>\n",
       "    <tr>\n",
       "      <th>Matader</th>\n",
       "      <td>908.333333</td>\n",
       "      <td>130</td>\n",
       "      <td>0.59</td>\n",
       "    </tr>\n",
       "    <tr>\n",
       "      <th>EDAR</th>\n",
       "      <td>333.333333</td>\n",
       "      <td>100</td>\n",
       "      <td>0.65</td>\n",
       "    </tr>\n",
       "    <tr>\n",
       "      <th>Grasa</th>\n",
       "      <td>208.333333</td>\n",
       "      <td>130</td>\n",
       "      <td>0.65</td>\n",
       "    </tr>\n",
       "    <tr>\n",
       "      <th>Glicer</th>\n",
       "      <td>666.666667</td>\n",
       "      <td>265</td>\n",
       "      <td>0.65</td>\n",
       "    </tr>\n",
       "    <tr>\n",
       "      <th>Sangre</th>\n",
       "      <td>333.333333</td>\n",
       "      <td>100</td>\n",
       "      <td>0.59</td>\n",
       "    </tr>\n",
       "  </tbody>\n",
       "</table>\n",
       "</div>"
      ],
      "text/plain": [
       "            Cantidad  Biogas  Metano\n",
       "P_cerdo  3750.000000      20    0.60\n",
       "Maiz     1500.000000     180    0.59\n",
       "Puerro   2083.333333      80    0.58\n",
       "Zanah    1000.000000      80    0.58\n",
       "Matader   908.333333     130    0.59\n",
       "EDAR      333.333333     100    0.65\n",
       "Grasa     208.333333     130    0.65\n",
       "Glicer    666.666667     265    0.65\n",
       "Sangre    333.333333     100    0.59"
      ]
     },
     "execution_count": 13,
     "metadata": {},
     "output_type": "execute_result"
    }
   ],
   "source": [
    "# Insertamos valores de cantidad de generación de biogas (m3/T) y proporción de metano\n",
    "TAB_RESIDUOS[\"Biogas\"] = [20, 180, 80, 80, 130, 100, 130, 265, 100]\n",
    "TAB_RESIDUOS[\"Metano\"] = [.6, .59, .58, .58, .59, .65, .65, .65, .59]\n",
    "TAB_RESIDUOS.head(9)"
   ]
  },
  {
   "cell_type": "markdown",
   "metadata": {},
   "source": [
    "El volumen mensual de biogas resulta del producto de la cantidad mensual de biomasa por el volumen de biogas que se genera por cada tonelada de biomasa. La cantidad de metano asociada resulta del producto del volumen de biogas recién estimado por la proporción conocida de este gas."
   ]
  },
  {
   "cell_type": "code",
   "execution_count": 14,
   "metadata": {},
   "outputs": [
    {
     "data": {
      "text/html": [
       "<div>\n",
       "<style scoped>\n",
       "    .dataframe tbody tr th:only-of-type {\n",
       "        vertical-align: middle;\n",
       "    }\n",
       "\n",
       "    .dataframe tbody tr th {\n",
       "        vertical-align: top;\n",
       "    }\n",
       "\n",
       "    .dataframe thead th {\n",
       "        text-align: right;\n",
       "    }\n",
       "</style>\n",
       "<table border=\"1\" class=\"dataframe\">\n",
       "  <thead>\n",
       "    <tr style=\"text-align: right;\">\n",
       "      <th></th>\n",
       "      <th>Cantidad</th>\n",
       "      <th>Biogas</th>\n",
       "      <th>Metano</th>\n",
       "      <th>Biogas_mes</th>\n",
       "      <th>Metano_mes</th>\n",
       "    </tr>\n",
       "  </thead>\n",
       "  <tbody>\n",
       "    <tr>\n",
       "      <th>P_cerdo</th>\n",
       "      <td>3750.000000</td>\n",
       "      <td>20</td>\n",
       "      <td>0.60</td>\n",
       "      <td>75000.000000</td>\n",
       "      <td>45000.000000</td>\n",
       "    </tr>\n",
       "    <tr>\n",
       "      <th>Maiz</th>\n",
       "      <td>1500.000000</td>\n",
       "      <td>180</td>\n",
       "      <td>0.59</td>\n",
       "      <td>270000.000000</td>\n",
       "      <td>159300.000000</td>\n",
       "    </tr>\n",
       "    <tr>\n",
       "      <th>Puerro</th>\n",
       "      <td>2083.333333</td>\n",
       "      <td>80</td>\n",
       "      <td>0.58</td>\n",
       "      <td>166666.666667</td>\n",
       "      <td>96666.666667</td>\n",
       "    </tr>\n",
       "    <tr>\n",
       "      <th>Zanah</th>\n",
       "      <td>1000.000000</td>\n",
       "      <td>80</td>\n",
       "      <td>0.58</td>\n",
       "      <td>80000.000000</td>\n",
       "      <td>46400.000000</td>\n",
       "    </tr>\n",
       "    <tr>\n",
       "      <th>Matader</th>\n",
       "      <td>908.333333</td>\n",
       "      <td>130</td>\n",
       "      <td>0.59</td>\n",
       "      <td>118083.333333</td>\n",
       "      <td>69669.166667</td>\n",
       "    </tr>\n",
       "    <tr>\n",
       "      <th>EDAR</th>\n",
       "      <td>333.333333</td>\n",
       "      <td>100</td>\n",
       "      <td>0.65</td>\n",
       "      <td>33333.333333</td>\n",
       "      <td>21666.666667</td>\n",
       "    </tr>\n",
       "    <tr>\n",
       "      <th>Grasa</th>\n",
       "      <td>208.333333</td>\n",
       "      <td>130</td>\n",
       "      <td>0.65</td>\n",
       "      <td>27083.333333</td>\n",
       "      <td>17604.166667</td>\n",
       "    </tr>\n",
       "    <tr>\n",
       "      <th>Glicer</th>\n",
       "      <td>666.666667</td>\n",
       "      <td>265</td>\n",
       "      <td>0.65</td>\n",
       "      <td>176666.666667</td>\n",
       "      <td>114833.333333</td>\n",
       "    </tr>\n",
       "    <tr>\n",
       "      <th>Sangre</th>\n",
       "      <td>333.333333</td>\n",
       "      <td>100</td>\n",
       "      <td>0.59</td>\n",
       "      <td>33333.333333</td>\n",
       "      <td>19666.666667</td>\n",
       "    </tr>\n",
       "  </tbody>\n",
       "</table>\n",
       "</div>"
      ],
      "text/plain": [
       "            Cantidad  Biogas  Metano     Biogas_mes     Metano_mes\n",
       "P_cerdo  3750.000000      20    0.60   75000.000000   45000.000000\n",
       "Maiz     1500.000000     180    0.59  270000.000000  159300.000000\n",
       "Puerro   2083.333333      80    0.58  166666.666667   96666.666667\n",
       "Zanah    1000.000000      80    0.58   80000.000000   46400.000000\n",
       "Matader   908.333333     130    0.59  118083.333333   69669.166667\n",
       "EDAR      333.333333     100    0.65   33333.333333   21666.666667\n",
       "Grasa     208.333333     130    0.65   27083.333333   17604.166667\n",
       "Glicer    666.666667     265    0.65  176666.666667  114833.333333\n",
       "Sangre    333.333333     100    0.59   33333.333333   19666.666667"
      ]
     },
     "execution_count": 14,
     "metadata": {},
     "output_type": "execute_result"
    }
   ],
   "source": [
    "TAB_RESIDUOS[\"Biogas_mes\"] = TAB_RESIDUOS[\"Cantidad\"] * TAB_RESIDUOS[\"Biogas\"]\n",
    "TAB_RESIDUOS[\"Metano_mes\"] = TAB_RESIDUOS[\"Biogas_mes\"] * TAB_RESIDUOS[\"Metano\"]\n",
    "TAB_RESIDUOS.head(9)"
   ]
  },
  {
   "cell_type": "code",
   "execution_count": 17,
   "metadata": {},
   "outputs": [
    {
     "name": "stdout",
     "output_type": "stream",
     "text": [
      "Total de biogas por mes: 980167 m3\n",
      "Total de metano por mes: 590807 m3\n",
      "Proporción de metano con respecto al total de biogas: 60.28%\n"
     ]
    }
   ],
   "source": [
    "Total_biogas_mes = sum(TAB_RESIDUOS[\"Biogas_mes\"])\n",
    "Total_metano_mes = sum(TAB_RESIDUOS[\"Metano_mes\"])\n",
    "Propor_metano_mes = Total_metano_mes / Total_biogas_mes\n",
    "print(\"Total de biogas por mes: {:.0f} m3\".format(Total_biogas_mes))\n",
    "print(\"Total de metano por mes: {:.0f} m3\".format(Total_metano_mes))\n",
    "print(\"Proporción de metano con respecto al total de biogas: {:.2f}%\".format(100*Propor_metano_mes))"
   ]
  },
  {
   "cell_type": "markdown",
   "metadata": {},
   "source": [
    "Tenemos que mensualmente se producen **980.167 m3** de biogas, de los cuales **590.807 m3** corresponden a gas metano, representando un **60,28%** del total de biogas generado."
   ]
  },
  {
   "cell_type": "markdown",
   "metadata": {},
   "source": [
    "### 3- Calculo de electricidad generada mensual y anualmente"
   ]
  },
  {
   "cell_type": "markdown",
   "metadata": {},
   "source": [
    "Se nos informa que todo el biogas generado es introducido en un generador que tiene un rendimiento de transformación de 40% y que trabaja 8000 horas al año. Vamos a tomar como referencia el PCI del biogas que consideramos en prácticas previas, el cual ronda los 4.100 Kcal/m3 o 4,7651 KWh/m3."
   ]
  },
  {
   "cell_type": "code",
   "execution_count": 21,
   "metadata": {},
   "outputs": [
    {
     "name": "stdout",
     "output_type": "stream",
     "text": [
      "Energía eléctrica generada mensualmente: 1913.29 MWh\n",
      "Energía eléctrica generada anualmente: 22959.42 MWh\n"
     ]
    }
   ],
   "source": [
    "Generac_mensual = Total_biogas_mes * 4.88 * 0.4\n",
    "Generac_anual = Generac_mensual * 12\n",
    "print(\"Energía eléctrica generada mensualmente: {:.2f} MWh\".format(Generac_mensual/1000))\n",
    "print(\"Energía eléctrica generada anualmente: {:.2f} MWh\".format(Generac_anual/1000))"
   ]
  },
  {
   "cell_type": "markdown",
   "metadata": {},
   "source": [
    "### 4- Potencia a instalar\n",
    "\n",
    "Teniendo en cuenta las premisas anteriores debemos determinar la potencia a instalar. Lo estimamos dividiendo el total de energía anual generado entre el total de horas a trabajar por parte del generador, 8.000 horas."
   ]
  },
  {
   "cell_type": "code",
   "execution_count": 22,
   "metadata": {},
   "outputs": [
    {
     "name": "stdout",
     "output_type": "stream",
     "text": [
      "Potencia requerida: 2.87 MW\n"
     ]
    }
   ],
   "source": [
    "Potencia = Generac_anual / 8000 #KW\n",
    "print(\"Potencia requerida: {:.2f} MW\".format(Potencia/1000))"
   ]
  },
  {
   "cell_type": "markdown",
   "metadata": {},
   "source": [
    "Necesitaríamos un generador con una potencia mínima de **2,87 MW**."
   ]
  },
  {
   "cell_type": "markdown",
   "metadata": {},
   "source": [
    "### 5- Emisiones de CO2 ahorradas"
   ]
  },
  {
   "cell_type": "markdown",
   "metadata": {},
   "source": [
    "Las guías de huella de carbono nos indican que los biocombustibles poseen un factor de emisión de gases a efecto invenadero (GEI) nulo. Si consideramos el factor de emisión del gas natural, de origen fósil, estimado en 0,41 Kg CO2/KWh podemos hacer el cálculo de CO2 emitido para producir la energía estimada asumiendo que usamos esta fuente de energía fósil"
   ]
  },
  {
   "cell_type": "code",
   "execution_count": 24,
   "metadata": {},
   "outputs": [
    {
     "name": "stdout",
     "output_type": "stream",
     "text": [
      "Emisiones de CO2 anuales ahorradas por usar biogas en vez de gas: 9413.36 T\n"
     ]
    }
   ],
   "source": [
    "CO2_gas = Generac_anual * 0.41\n",
    "print(\"Emisiones de CO2 anuales ahorradas por usar biogas en vez de gas: {:.2f} T\".format(CO2_gas/1000))"
   ]
  },
  {
   "cell_type": "markdown",
   "metadata": {},
   "source": [
    "Nos ahorramos la emisión de **9.413 toneladas** de CO2 anualmente por emplear biogas derivado de biomasa en vez de gas natural derivado de hidrocarburos."
   ]
  },
  {
   "cell_type": "code",
   "execution_count": null,
   "metadata": {},
   "outputs": [],
   "source": []
  }
 ],
 "metadata": {
  "kernelspec": {
   "display_name": "Python 3",
   "language": "python",
   "name": "python3"
  },
  "language_info": {
   "codemirror_mode": {
    "name": "ipython",
    "version": 3
   },
   "file_extension": ".py",
   "mimetype": "text/x-python",
   "name": "python",
   "nbconvert_exporter": "python",
   "pygments_lexer": "ipython3",
   "version": "3.8.3"
  }
 },
 "nbformat": 4,
 "nbformat_minor": 4
}
