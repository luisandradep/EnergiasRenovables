{
 "cells": [
  {
   "cell_type": "markdown",
   "metadata": {},
   "source": [
    "# Cálculo de la energía anual generada por un parque eólico\n",
    "## Master en Energías Renovables. IMF\n",
    "\n",
    "### Estudiante: Luis Alberto Andrade. Mayo 2022"
   ]
  },
  {
   "cell_type": "markdown",
   "metadata": {},
   "source": [
    "Se considera un parque eólico compuesto por 80 aerogeneradores tripala de mediana potencia. Cada uno de ellos tiene una altura de torre de 20 m y unas palas de 10 m de longitud, es decir, 20 m de diámetro.\n",
    "\n",
    "Se desea hacer una estimación de la producción que generaría el parque eólico considerando que el terreno circundante es moderadamente rugoso y que la distribución de horas a distintas velocidades de viento se resume en una tabla suministrada posteriormente."
   ]
  },
  {
   "cell_type": "markdown",
   "metadata": {},
   "source": [
    "Se considera que cada aerogenerador tiene una velocidad de arranque de 6 m/s y de desconexión, de 14 m/s.\n",
    "\n",
    "Sin tener en cuenta las variaciones que pudiera haber por la densidad del aire a diferentes temperaturas, se pide **realizar una estimación de la energía generada al cabo del año por el conjunto de las máquinas del parque**."
   ]
  },
  {
   "cell_type": "markdown",
   "metadata": {},
   "source": [
    "Para empezar vamos a importar los paquetes de Python que nos ayudarán a resolver este caso:"
   ]
  },
  {
   "cell_type": "code",
   "execution_count": 1,
   "metadata": {},
   "outputs": [],
   "source": [
    "import pandas as pd\n",
    "import numpy as np\n",
    "import matplotlib.pyplot as plt\n",
    "%matplotlib inline"
   ]
  },
  {
   "cell_type": "markdown",
   "metadata": {},
   "source": [
    "A continuación, cargamos la tabla de vientos con sus velocidades, en m/s, y la cantidad de horas anuales que se presentan a una altura de 20m"
   ]
  },
  {
   "cell_type": "code",
   "execution_count": 2,
   "metadata": {},
   "outputs": [
    {
     "data": {
      "text/html": [
       "<div>\n",
       "<style scoped>\n",
       "    .dataframe tbody tr th:only-of-type {\n",
       "        vertical-align: middle;\n",
       "    }\n",
       "\n",
       "    .dataframe tbody tr th {\n",
       "        vertical-align: top;\n",
       "    }\n",
       "\n",
       "    .dataframe thead th {\n",
       "        text-align: right;\n",
       "    }\n",
       "</style>\n",
       "<table border=\"1\" class=\"dataframe\">\n",
       "  <thead>\n",
       "    <tr style=\"text-align: right;\">\n",
       "      <th></th>\n",
       "      <th>Vel_viento_m_s__20m</th>\n",
       "      <th>Horas_anuales</th>\n",
       "    </tr>\n",
       "  </thead>\n",
       "  <tbody>\n",
       "    <tr>\n",
       "      <th>0</th>\n",
       "      <td>1</td>\n",
       "      <td>0</td>\n",
       "    </tr>\n",
       "    <tr>\n",
       "      <th>1</th>\n",
       "      <td>2</td>\n",
       "      <td>0</td>\n",
       "    </tr>\n",
       "    <tr>\n",
       "      <th>2</th>\n",
       "      <td>3</td>\n",
       "      <td>0</td>\n",
       "    </tr>\n",
       "    <tr>\n",
       "      <th>3</th>\n",
       "      <td>4</td>\n",
       "      <td>0</td>\n",
       "    </tr>\n",
       "    <tr>\n",
       "      <th>4</th>\n",
       "      <td>5</td>\n",
       "      <td>0</td>\n",
       "    </tr>\n",
       "    <tr>\n",
       "      <th>5</th>\n",
       "      <td>6</td>\n",
       "      <td>1279</td>\n",
       "    </tr>\n",
       "    <tr>\n",
       "      <th>6</th>\n",
       "      <td>7</td>\n",
       "      <td>1752</td>\n",
       "    </tr>\n",
       "    <tr>\n",
       "      <th>7</th>\n",
       "      <td>8</td>\n",
       "      <td>1230</td>\n",
       "    </tr>\n",
       "    <tr>\n",
       "      <th>8</th>\n",
       "      <td>9</td>\n",
       "      <td>950</td>\n",
       "    </tr>\n",
       "    <tr>\n",
       "      <th>9</th>\n",
       "      <td>10</td>\n",
       "      <td>650</td>\n",
       "    </tr>\n",
       "  </tbody>\n",
       "</table>\n",
       "</div>"
      ],
      "text/plain": [
       "   Vel_viento_m_s__20m  Horas_anuales\n",
       "0                    1              0\n",
       "1                    2              0\n",
       "2                    3              0\n",
       "3                    4              0\n",
       "4                    5              0\n",
       "5                    6           1279\n",
       "6                    7           1752\n",
       "7                    8           1230\n",
       "8                    9            950\n",
       "9                   10            650"
      ]
     },
     "execution_count": 2,
     "metadata": {},
     "output_type": "execute_result"
    }
   ],
   "source": [
    "VientosHoras = pd.read_csv(\"Vientos_veloc_anual.csv\")\n",
    "VientosHoras.head(10)"
   ]
  },
  {
   "cell_type": "markdown",
   "metadata": {},
   "source": [
    "Para trabajar más comodamente con las columnas de la tabla de velocidades y horas, las renombramos con nombres más cortos:"
   ]
  },
  {
   "cell_type": "code",
   "execution_count": 4,
   "metadata": {},
   "outputs": [
    {
     "data": {
      "text/html": [
       "<div>\n",
       "<style scoped>\n",
       "    .dataframe tbody tr th:only-of-type {\n",
       "        vertical-align: middle;\n",
       "    }\n",
       "\n",
       "    .dataframe tbody tr th {\n",
       "        vertical-align: top;\n",
       "    }\n",
       "\n",
       "    .dataframe thead th {\n",
       "        text-align: right;\n",
       "    }\n",
       "</style>\n",
       "<table border=\"1\" class=\"dataframe\">\n",
       "  <thead>\n",
       "    <tr style=\"text-align: right;\">\n",
       "      <th></th>\n",
       "      <th>Velocidad</th>\n",
       "      <th>Horas</th>\n",
       "    </tr>\n",
       "  </thead>\n",
       "  <tbody>\n",
       "    <tr>\n",
       "      <th>6</th>\n",
       "      <td>7</td>\n",
       "      <td>1752</td>\n",
       "    </tr>\n",
       "    <tr>\n",
       "      <th>7</th>\n",
       "      <td>8</td>\n",
       "      <td>1230</td>\n",
       "    </tr>\n",
       "    <tr>\n",
       "      <th>8</th>\n",
       "      <td>9</td>\n",
       "      <td>950</td>\n",
       "    </tr>\n",
       "    <tr>\n",
       "      <th>9</th>\n",
       "      <td>10</td>\n",
       "      <td>650</td>\n",
       "    </tr>\n",
       "    <tr>\n",
       "      <th>10</th>\n",
       "      <td>11</td>\n",
       "      <td>75</td>\n",
       "    </tr>\n",
       "    <tr>\n",
       "      <th>11</th>\n",
       "      <td>12</td>\n",
       "      <td>50</td>\n",
       "    </tr>\n",
       "    <tr>\n",
       "      <th>12</th>\n",
       "      <td>13</td>\n",
       "      <td>120</td>\n",
       "    </tr>\n",
       "    <tr>\n",
       "      <th>13</th>\n",
       "      <td>14</td>\n",
       "      <td>80</td>\n",
       "    </tr>\n",
       "    <tr>\n",
       "      <th>14</th>\n",
       "      <td>15</td>\n",
       "      <td>23</td>\n",
       "    </tr>\n",
       "    <tr>\n",
       "      <th>15</th>\n",
       "      <td>16</td>\n",
       "      <td>10</td>\n",
       "    </tr>\n",
       "  </tbody>\n",
       "</table>\n",
       "</div>"
      ],
      "text/plain": [
       "    Velocidad  Horas\n",
       "6           7   1752\n",
       "7           8   1230\n",
       "8           9    950\n",
       "9          10    650\n",
       "10         11     75\n",
       "11         12     50\n",
       "12         13    120\n",
       "13         14     80\n",
       "14         15     23\n",
       "15         16     10"
      ]
     },
     "execution_count": 4,
     "metadata": {},
     "output_type": "execute_result"
    }
   ],
   "source": [
    "VientosHoras.columns = ['Velocidad','Horas']\n",
    "VientosHoras.tail(10)"
   ]
  },
  {
   "cell_type": "markdown",
   "metadata": {},
   "source": [
    "Contamos también con los datos específicos de los aerogeneradores a instalar en el parque eólico"
   ]
  },
  {
   "cell_type": "code",
   "execution_count": 5,
   "metadata": {},
   "outputs": [],
   "source": [
    "#Parámetros de cada generador\n",
    "h = 20 #Altura de generador, en metros\n",
    "r = 10 #Radio de palas, en metros\n",
    "Varr = 6 #Velocidad de arranque, en m/s\n",
    "Vdesc = 14 #Velocidad de desconexión, en m/s\n",
    "\n",
    "N = 80 # Número de aerogeneradores"
   ]
  },
  {
   "cell_type": "markdown",
   "metadata": {},
   "source": [
    "Empecemos por graficar lo que nos informa la tabla de vientos"
   ]
  },
  {
   "cell_type": "code",
   "execution_count": 18,
   "metadata": {},
   "outputs": [
    {
     "data": {
      "image/png": "[encoded data removed]",
      "text/plain": [
       "<Figure size 576x288 with 1 Axes>"
      ]
     },
     "metadata": {
      "needs_background": "light"
     },
     "output_type": "display_data"
    }
   ],
   "source": [
    "fig, ax = plt.subplots(figsize=(8,4))\n",
    "ax.plot(VientosHoras['Velocidad'],VientosHoras['Horas'], linewidth=1.5, color = 'red')\n",
    "ax.set_xlabel('Velocidad (m/s)')\n",
    "ax.set_ylabel('Horas al año')\n",
    "ax.set(xticks=np.arange(np.min(VientosHoras['Velocidad']), np.max(VientosHoras['Velocidad'])))\n",
    "ax.axvline(x=Varr, linestyle = 'dashed', linewidth=1, color = 'black')\n",
    "ax.annotate('Velocidad de arranque', xy=(Varr-0.25,0), rotation=90)\n",
    "ax.axvline(x=Vdesc, linestyle = 'dashed', linewidth=1, color = 'black')\n",
    "ax.annotate('Velocidad de desconexión', xy=(Vdesc+0.25,0), rotation=90)\n",
    "plt.grid()\n",
    "plt.title('Cantidad de horas anuales para cada velocidad a 20m de altura')\n",
    "plt.show()"
   ]
  },
  {
   "cell_type": "markdown",
   "metadata": {},
   "source": [
    "Los datos nos muestran que tenemos una importante cantidad de horas con velocidades útiles, por encima de la velocidad de arranque y debajo de la de desconexión, sobre todo entre 6 y 9 m/s. Muy pocas o nula cantidad de horas con velocidades fuera de rango. Si comparamos con el total de horas al año, tenemos que..."
   ]
  },
  {
   "cell_type": "code",
   "execution_count": 41,
   "metadata": {},
   "outputs": [
    {
     "name": "stdout",
     "output_type": "stream",
     "text": [
      "Total de horas al año con velocidades útiles:  6106\n",
      "Porcentaje de horas útiles por año: 69.70319634703196%\n"
     ]
    }
   ],
   "source": [
    "HorasTotal = 0\n",
    "for i in range(len(VientosHoras)):\n",
    "    if VientosHoras.loc[i,'Velocidad'] in range(Varr, Vdesc):\n",
    "        HorasTotal = HorasTotal + VientosHoras.loc[i,'Horas']\n",
    "    else:\n",
    "        pass\n",
    "print('Total de horas al año con velocidades útiles: ', HorasTotal)\n",
    "print('Porcentaje de horas útiles por año: {}%'.format((HorasTotal*100)/(365*24)))"
   ]
  },
  {
   "cell_type": "markdown",
   "metadata": {},
   "source": [
    "Contamos con 6106 horas con vientos útiles que equivalen al 69,7% total del año"
   ]
  },
  {
   "cell_type": "markdown",
   "metadata": {},
   "source": [
    "Vamos a calcular la potencia correspondiente a cada velocidad. Como recordaremos, ésta viene dada por la siguiente fórmula:\n",
    "\n",
    "$P = \\frac{1} {2} * \\rho_{aire} * A * V_{h}^{3}$\n",
    "\n",
    "La densidad del aire, $\\rho_{aire}$, la asumimos en $1,225 Kg/m^{3}$ como en el ejercicio anterior. $A$ hace referencia al área barrida por el generador. Como dato sabemos que el radio de nuestras palas es de 10m, por lo tanto el área circular, $\\pi * r^{2}$, se calcula con base en este dato. $V_{h}$ viene siendo la velocidad a la altura del buje (centro) de nuestros aerogeneradores, 20m en nuestro caso.\n",
    "\n",
    "Recordemos además que tenemos unas limitaciones técnicas del aerogenerador dadas por la velocidad de arranque, 3 m/s, y de desconexión de 14 m/s. Quiere decir que por debajo de la velocidad de arranque y por encima de la velocidad de desconexión no se genera potencia. Para eso establecemos las condiciones de velocidades que limiten nuestros cálculos de potencia."
   ]
  },
  {
   "cell_type": "code",
   "execution_count": 40,
   "metadata": {},
   "outputs": [
    {
     "data": {
      "text/html": [
       "<div>\n",
       "<style scoped>\n",
       "    .dataframe tbody tr th:only-of-type {\n",
       "        vertical-align: middle;\n",
       "    }\n",
       "\n",
       "    .dataframe tbody tr th {\n",
       "        vertical-align: top;\n",
       "    }\n",
       "\n",
       "    .dataframe thead th {\n",
       "        text-align: right;\n",
       "    }\n",
       "</style>\n",
       "<table border=\"1\" class=\"dataframe\">\n",
       "  <thead>\n",
       "    <tr style=\"text-align: right;\">\n",
       "      <th></th>\n",
       "      <th>Velocidad</th>\n",
       "      <th>Horas</th>\n",
       "      <th>Potencia</th>\n",
       "    </tr>\n",
       "  </thead>\n",
       "  <tbody>\n",
       "    <tr>\n",
       "      <th>0</th>\n",
       "      <td>1</td>\n",
       "      <td>0</td>\n",
       "      <td>0.000000</td>\n",
       "    </tr>\n",
       "    <tr>\n",
       "      <th>1</th>\n",
       "      <td>2</td>\n",
       "      <td>0</td>\n",
       "      <td>0.000000</td>\n",
       "    </tr>\n",
       "    <tr>\n",
       "      <th>2</th>\n",
       "      <td>3</td>\n",
       "      <td>0</td>\n",
       "      <td>0.000000</td>\n",
       "    </tr>\n",
       "    <tr>\n",
       "      <th>3</th>\n",
       "      <td>4</td>\n",
       "      <td>0</td>\n",
       "      <td>0.000000</td>\n",
       "    </tr>\n",
       "    <tr>\n",
       "      <th>4</th>\n",
       "      <td>5</td>\n",
       "      <td>0</td>\n",
       "      <td>0.000000</td>\n",
       "    </tr>\n",
       "    <tr>\n",
       "      <th>5</th>\n",
       "      <td>6</td>\n",
       "      <td>1279</td>\n",
       "      <td>41563.270807</td>\n",
       "    </tr>\n",
       "    <tr>\n",
       "      <th>6</th>\n",
       "      <td>7</td>\n",
       "      <td>1752</td>\n",
       "      <td>66000.934661</td>\n",
       "    </tr>\n",
       "    <tr>\n",
       "      <th>7</th>\n",
       "      <td>8</td>\n",
       "      <td>1230</td>\n",
       "      <td>98520.345617</td>\n",
       "    </tr>\n",
       "    <tr>\n",
       "      <th>8</th>\n",
       "      <td>9</td>\n",
       "      <td>950</td>\n",
       "      <td>140276.038974</td>\n",
       "    </tr>\n",
       "    <tr>\n",
       "      <th>9</th>\n",
       "      <td>10</td>\n",
       "      <td>650</td>\n",
       "      <td>192422.550032</td>\n",
       "    </tr>\n",
       "    <tr>\n",
       "      <th>10</th>\n",
       "      <td>11</td>\n",
       "      <td>75</td>\n",
       "      <td>256114.414093</td>\n",
       "    </tr>\n",
       "    <tr>\n",
       "      <th>11</th>\n",
       "      <td>12</td>\n",
       "      <td>50</td>\n",
       "      <td>332506.166456</td>\n",
       "    </tr>\n",
       "    <tr>\n",
       "      <th>12</th>\n",
       "      <td>13</td>\n",
       "      <td>120</td>\n",
       "      <td>422752.342421</td>\n",
       "    </tr>\n",
       "    <tr>\n",
       "      <th>13</th>\n",
       "      <td>14</td>\n",
       "      <td>80</td>\n",
       "      <td>0.000000</td>\n",
       "    </tr>\n",
       "    <tr>\n",
       "      <th>14</th>\n",
       "      <td>15</td>\n",
       "      <td>23</td>\n",
       "      <td>0.000000</td>\n",
       "    </tr>\n",
       "    <tr>\n",
       "      <th>15</th>\n",
       "      <td>16</td>\n",
       "      <td>10</td>\n",
       "      <td>0.000000</td>\n",
       "    </tr>\n",
       "  </tbody>\n",
       "</table>\n",
       "</div>"
      ],
      "text/plain": [
       "    Velocidad  Horas       Potencia\n",
       "0           1      0       0.000000\n",
       "1           2      0       0.000000\n",
       "2           3      0       0.000000\n",
       "3           4      0       0.000000\n",
       "4           5      0       0.000000\n",
       "5           6   1279   41563.270807\n",
       "6           7   1752   66000.934661\n",
       "7           8   1230   98520.345617\n",
       "8           9    950  140276.038974\n",
       "9          10    650  192422.550032\n",
       "10         11     75  256114.414093\n",
       "11         12     50  332506.166456\n",
       "12         13    120  422752.342421\n",
       "13         14     80       0.000000\n",
       "14         15     23       0.000000\n",
       "15         16     10       0.000000"
      ]
     },
     "execution_count": 40,
     "metadata": {},
     "output_type": "execute_result"
    }
   ],
   "source": [
    "#Densidad de aire (kg/m3)\n",
    "rho = 1.225\n",
    "#Area de barrido (m2)\n",
    "A = np.pi*np.power(r,2)\n",
    "\n",
    "#Definimos condiciones con los 3 escenarios:\n",
    "#por debajo de V_arranque, entre V_arranque y V_desconexion y por encima de V_desconexion\n",
    "condiciones = [\n",
    "    (VientosHoras['Velocidad'] < Varr),\n",
    "    (VientosHoras['Velocidad'] >= Varr) & (VientosHoras['Velocidad'] < Vdesc),\n",
    "    (VientosHoras['Velocidad'] >= Vdesc)\n",
    "]\n",
    "\n",
    "#Definimos los respectivos valores según cada condición\n",
    "#Entre V_arranque y V_desconexion se calcula la potencia, fuera de esos valores se considera nulo\n",
    "valores = (0, rho * A * np.power(VientosHoras['Velocidad'],3) / 2, 0)\n",
    "\n",
    "VientosHoras['Potencia'] = np.select(condiciones,valores)\n",
    "VientosHoras.head(len(VientosHoras))"
   ]
  },
  {
   "cell_type": "markdown",
   "metadata": {},
   "source": [
    "Añadimos a nuestra tabla una columna de potencia, en W o vatios, correspondiente a cada velocidad. Nótese que por debajo de la velocidad de arranque y por encima de la de desconexión no hay generación de potencia.\n",
    "\n",
    "Para hallar la energía total obtenible multiplicamos la potencia por la cantidad de horas en las que se genera. El producto queda reflejado en Wh, pero dado significativo de las cifras, dividimos entre mil para expresar las cantidades en kilovatios hora (kWh). El total de energía obtenida por cada generador lo obtenemos al sumar cada cifra de energía correspondiente a cada velocidad por horas de ocurrencia."
   ]
  },
  {
   "cell_type": "code",
   "execution_count": 43,
   "metadata": {},
   "outputs": [
    {
     "data": {
      "text/html": [
       "<div>\n",
       "<style scoped>\n",
       "    .dataframe tbody tr th:only-of-type {\n",
       "        vertical-align: middle;\n",
       "    }\n",
       "\n",
       "    .dataframe tbody tr th {\n",
       "        vertical-align: top;\n",
       "    }\n",
       "\n",
       "    .dataframe thead th {\n",
       "        text-align: right;\n",
       "    }\n",
       "</style>\n",
       "<table border=\"1\" class=\"dataframe\">\n",
       "  <thead>\n",
       "    <tr style=\"text-align: right;\">\n",
       "      <th></th>\n",
       "      <th>Velocidad</th>\n",
       "      <th>Horas</th>\n",
       "      <th>Potencia</th>\n",
       "      <th>Energia</th>\n",
       "    </tr>\n",
       "  </thead>\n",
       "  <tbody>\n",
       "    <tr>\n",
       "      <th>0</th>\n",
       "      <td>1</td>\n",
       "      <td>0</td>\n",
       "      <td>0.000000</td>\n",
       "      <td>0.000000</td>\n",
       "    </tr>\n",
       "    <tr>\n",
       "      <th>1</th>\n",
       "      <td>2</td>\n",
       "      <td>0</td>\n",
       "      <td>0.000000</td>\n",
       "      <td>0.000000</td>\n",
       "    </tr>\n",
       "    <tr>\n",
       "      <th>2</th>\n",
       "      <td>3</td>\n",
       "      <td>0</td>\n",
       "      <td>0.000000</td>\n",
       "      <td>0.000000</td>\n",
       "    </tr>\n",
       "    <tr>\n",
       "      <th>3</th>\n",
       "      <td>4</td>\n",
       "      <td>0</td>\n",
       "      <td>0.000000</td>\n",
       "      <td>0.000000</td>\n",
       "    </tr>\n",
       "    <tr>\n",
       "      <th>4</th>\n",
       "      <td>5</td>\n",
       "      <td>0</td>\n",
       "      <td>0.000000</td>\n",
       "      <td>0.000000</td>\n",
       "    </tr>\n",
       "    <tr>\n",
       "      <th>5</th>\n",
       "      <td>6</td>\n",
       "      <td>1279</td>\n",
       "      <td>41563.270807</td>\n",
       "      <td>53159.423362</td>\n",
       "    </tr>\n",
       "    <tr>\n",
       "      <th>6</th>\n",
       "      <td>7</td>\n",
       "      <td>1752</td>\n",
       "      <td>66000.934661</td>\n",
       "      <td>115633.637526</td>\n",
       "    </tr>\n",
       "    <tr>\n",
       "      <th>7</th>\n",
       "      <td>8</td>\n",
       "      <td>1230</td>\n",
       "      <td>98520.345617</td>\n",
       "      <td>121180.025108</td>\n",
       "    </tr>\n",
       "    <tr>\n",
       "      <th>8</th>\n",
       "      <td>9</td>\n",
       "      <td>950</td>\n",
       "      <td>140276.038974</td>\n",
       "      <td>133262.237025</td>\n",
       "    </tr>\n",
       "    <tr>\n",
       "      <th>9</th>\n",
       "      <td>10</td>\n",
       "      <td>650</td>\n",
       "      <td>192422.550032</td>\n",
       "      <td>125074.657521</td>\n",
       "    </tr>\n",
       "    <tr>\n",
       "      <th>10</th>\n",
       "      <td>11</td>\n",
       "      <td>75</td>\n",
       "      <td>256114.414093</td>\n",
       "      <td>19208.581057</td>\n",
       "    </tr>\n",
       "    <tr>\n",
       "      <th>11</th>\n",
       "      <td>12</td>\n",
       "      <td>50</td>\n",
       "      <td>332506.166456</td>\n",
       "      <td>16625.308323</td>\n",
       "    </tr>\n",
       "    <tr>\n",
       "      <th>12</th>\n",
       "      <td>13</td>\n",
       "      <td>120</td>\n",
       "      <td>422752.342421</td>\n",
       "      <td>50730.281091</td>\n",
       "    </tr>\n",
       "    <tr>\n",
       "      <th>13</th>\n",
       "      <td>14</td>\n",
       "      <td>80</td>\n",
       "      <td>0.000000</td>\n",
       "      <td>0.000000</td>\n",
       "    </tr>\n",
       "    <tr>\n",
       "      <th>14</th>\n",
       "      <td>15</td>\n",
       "      <td>23</td>\n",
       "      <td>0.000000</td>\n",
       "      <td>0.000000</td>\n",
       "    </tr>\n",
       "    <tr>\n",
       "      <th>15</th>\n",
       "      <td>16</td>\n",
       "      <td>10</td>\n",
       "      <td>0.000000</td>\n",
       "      <td>0.000000</td>\n",
       "    </tr>\n",
       "  </tbody>\n",
       "</table>\n",
       "</div>"
      ],
      "text/plain": [
       "    Velocidad  Horas       Potencia        Energia\n",
       "0           1      0       0.000000       0.000000\n",
       "1           2      0       0.000000       0.000000\n",
       "2           3      0       0.000000       0.000000\n",
       "3           4      0       0.000000       0.000000\n",
       "4           5      0       0.000000       0.000000\n",
       "5           6   1279   41563.270807   53159.423362\n",
       "6           7   1752   66000.934661  115633.637526\n",
       "7           8   1230   98520.345617  121180.025108\n",
       "8           9    950  140276.038974  133262.237025\n",
       "9          10    650  192422.550032  125074.657521\n",
       "10         11     75  256114.414093   19208.581057\n",
       "11         12     50  332506.166456   16625.308323\n",
       "12         13    120  422752.342421   50730.281091\n",
       "13         14     80       0.000000       0.000000\n",
       "14         15     23       0.000000       0.000000\n",
       "15         16     10       0.000000       0.000000"
      ]
     },
     "execution_count": 43,
     "metadata": {},
     "output_type": "execute_result"
    }
   ],
   "source": [
    "VientosHoras['Energia'] = VientosHoras['Horas'] * VientosHoras['Potencia']/1000\n",
    "VientosHoras.head(len(VientosHoras))"
   ]
  },
  {
   "cell_type": "markdown",
   "metadata": {},
   "source": [
    "El total de energía obtenida por cada generador lo obtenemos al sumar cada cifra de energía correspondiente a cada velocidad por horas de ocurrencia."
   ]
  },
  {
   "cell_type": "code",
   "execution_count": 44,
   "metadata": {},
   "outputs": [
    {
     "name": "stdout",
     "output_type": "stream",
     "text": [
      "La energía generable al año por cada generador es 634874.1510130668 kWh\n"
     ]
    }
   ],
   "source": [
    "EnergiaAnual = VientosHoras['Energia'].sum()\n",
    "print('La energía generable al año por cada generador es {} kWh'.format(EnergiaAnual))"
   ]
  },
  {
   "cell_type": "markdown",
   "metadata": {},
   "source": [
    "Tenemos entonces que cada generador puede estar generando anualmente 634.874 kWh. El total de energía a producir en el parque eólico viene dado por el producto de la cantidad de aerogeneradores por la energía que cada una produce al año"
   ]
  },
  {
   "cell_type": "code",
   "execution_count": 46,
   "metadata": {},
   "outputs": [
    {
     "name": "stdout",
     "output_type": "stream",
     "text": [
      "Total de energía a producir anualmente en el parque eólico de 80 aerogeneradores: 50789932.081045344 kWh\n"
     ]
    }
   ],
   "source": [
    "EnergiaAnualParque = N* EnergiaAnual\n",
    "print('Total de energía a producir anualmente en el parque eólico de {} aerogeneradores: {} kWh'.format(N,EnergiaAnualParque))"
   ]
  },
  {
   "cell_type": "markdown",
   "metadata": {},
   "source": [
    "El parque eólico estará en capacidad de producir unos 50.790 MWh al año"
   ]
  },
  {
   "cell_type": "markdown",
   "metadata": {},
   "source": [
    "Pero no debemos olvidar el límite de Betz que indica nuestras máquinas tinen un tope de generación de potencia de 59,26% de la potencia teórica. Este coeficiente se extrapola a la energía estimada."
   ]
  },
  {
   "cell_type": "code",
   "execution_count": 47,
   "metadata": {},
   "outputs": [
    {
     "name": "stdout",
     "output_type": "stream",
     "text": [
      "Tope de energía a producir anualmente en el parque eólico de 80 aerogeneradores: 30098113.751227472 kWh\n"
     ]
    }
   ],
   "source": [
    "EnergiaAnualTope = 0.5926 * EnergiaAnualParque\n",
    "print('Tope de energía a producir anualmente en el parque eólico de {} aerogeneradores: {} kWh'.format(N,EnergiaAnualTope))"
   ]
  },
  {
   "cell_type": "markdown",
   "metadata": {},
   "source": [
    "Por lo tanto el total de la energía tope a generar de nuestro parque eólico es de 30.098 MWh al año. "
   ]
  },
  {
   "cell_type": "code",
   "execution_count": null,
   "metadata": {},
   "outputs": [],
   "source": []
  }
 ],
 "metadata": {
  "kernelspec": {
   "display_name": "Python 3",
   "language": "python",
   "name": "python3"
  },
  "language_info": {
   "codemirror_mode": {
    "name": "ipython",
    "version": 3
   },
   "file_extension": ".py",
   "mimetype": "text/x-python",
   "name": "python",
   "nbconvert_exporter": "python",
   "pygments_lexer": "ipython3",
   "version": "3.8.3"
  }
 },
 "nbformat": 4,
 "nbformat_minor": 4
}
